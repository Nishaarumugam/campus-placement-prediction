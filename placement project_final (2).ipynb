{
 "cells": [
  {
   "cell_type": "code",
   "execution_count": 1,
   "id": "20cec4c2",
   "metadata": {},
   "outputs": [],
   "source": [
    "#import libraries\n",
    "import pandas as pd\n",
    "import numpy as np\n",
    "import matplotlib.pyplot as plt\n",
    "import seaborn as sns\n",
    "import warnings\n",
    "warnings.filterwarnings(\"ignore\")"
   ]
  },
  {
   "cell_type": "code",
   "execution_count": 2,
   "id": "d0f13d57",
   "metadata": {},
   "outputs": [
    {
     "data": {
      "text/html": [
       "<div>\n",
       "<style scoped>\n",
       "    .dataframe tbody tr th:only-of-type {\n",
       "        vertical-align: middle;\n",
       "    }\n",
       "\n",
       "    .dataframe tbody tr th {\n",
       "        vertical-align: top;\n",
       "    }\n",
       "\n",
       "    .dataframe thead th {\n",
       "        text-align: right;\n",
       "    }\n",
       "</style>\n",
       "<table border=\"1\" class=\"dataframe\">\n",
       "  <thead>\n",
       "    <tr style=\"text-align: right;\">\n",
       "      <th></th>\n",
       "      <th>StudentID</th>\n",
       "      <th>CGPA</th>\n",
       "      <th>Internships</th>\n",
       "      <th>Projects</th>\n",
       "      <th>Workshops/Certifications</th>\n",
       "      <th>AptitudeTestScore</th>\n",
       "      <th>SoftSkillsRating</th>\n",
       "      <th>ExtracurricularActivities</th>\n",
       "      <th>PlacementTraining</th>\n",
       "      <th>SSC_Marks</th>\n",
       "      <th>HSC_Marks</th>\n",
       "      <th>PlacementStatus</th>\n",
       "    </tr>\n",
       "  </thead>\n",
       "  <tbody>\n",
       "    <tr>\n",
       "      <th>0</th>\n",
       "      <td>1</td>\n",
       "      <td>7.5</td>\n",
       "      <td>1</td>\n",
       "      <td>1</td>\n",
       "      <td>1</td>\n",
       "      <td>65</td>\n",
       "      <td>4.4</td>\n",
       "      <td>No</td>\n",
       "      <td>No</td>\n",
       "      <td>61</td>\n",
       "      <td>79</td>\n",
       "      <td>NotPlaced</td>\n",
       "    </tr>\n",
       "    <tr>\n",
       "      <th>1</th>\n",
       "      <td>2</td>\n",
       "      <td>8.9</td>\n",
       "      <td>0</td>\n",
       "      <td>3</td>\n",
       "      <td>2</td>\n",
       "      <td>90</td>\n",
       "      <td>4.0</td>\n",
       "      <td>Yes</td>\n",
       "      <td>Yes</td>\n",
       "      <td>78</td>\n",
       "      <td>82</td>\n",
       "      <td>Placed</td>\n",
       "    </tr>\n",
       "    <tr>\n",
       "      <th>2</th>\n",
       "      <td>3</td>\n",
       "      <td>7.3</td>\n",
       "      <td>1</td>\n",
       "      <td>2</td>\n",
       "      <td>2</td>\n",
       "      <td>82</td>\n",
       "      <td>4.8</td>\n",
       "      <td>Yes</td>\n",
       "      <td>No</td>\n",
       "      <td>79</td>\n",
       "      <td>80</td>\n",
       "      <td>NotPlaced</td>\n",
       "    </tr>\n",
       "    <tr>\n",
       "      <th>3</th>\n",
       "      <td>4</td>\n",
       "      <td>7.5</td>\n",
       "      <td>1</td>\n",
       "      <td>1</td>\n",
       "      <td>2</td>\n",
       "      <td>85</td>\n",
       "      <td>4.4</td>\n",
       "      <td>Yes</td>\n",
       "      <td>Yes</td>\n",
       "      <td>81</td>\n",
       "      <td>80</td>\n",
       "      <td>Placed</td>\n",
       "    </tr>\n",
       "    <tr>\n",
       "      <th>4</th>\n",
       "      <td>5</td>\n",
       "      <td>8.3</td>\n",
       "      <td>1</td>\n",
       "      <td>2</td>\n",
       "      <td>2</td>\n",
       "      <td>86</td>\n",
       "      <td>4.5</td>\n",
       "      <td>Yes</td>\n",
       "      <td>Yes</td>\n",
       "      <td>74</td>\n",
       "      <td>88</td>\n",
       "      <td>Placed</td>\n",
       "    </tr>\n",
       "  </tbody>\n",
       "</table>\n",
       "</div>"
      ],
      "text/plain": [
       "   StudentID  CGPA  Internships  Projects  Workshops/Certifications  \\\n",
       "0          1   7.5            1         1                         1   \n",
       "1          2   8.9            0         3                         2   \n",
       "2          3   7.3            1         2                         2   \n",
       "3          4   7.5            1         1                         2   \n",
       "4          5   8.3            1         2                         2   \n",
       "\n",
       "   AptitudeTestScore  SoftSkillsRating ExtracurricularActivities  \\\n",
       "0                 65               4.4                        No   \n",
       "1                 90               4.0                       Yes   \n",
       "2                 82               4.8                       Yes   \n",
       "3                 85               4.4                       Yes   \n",
       "4                 86               4.5                       Yes   \n",
       "\n",
       "  PlacementTraining  SSC_Marks  HSC_Marks PlacementStatus  \n",
       "0                No         61         79       NotPlaced  \n",
       "1               Yes         78         82          Placed  \n",
       "2                No         79         80       NotPlaced  \n",
       "3               Yes         81         80          Placed  \n",
       "4               Yes         74         88          Placed  "
      ]
     },
     "execution_count": 2,
     "metadata": {},
     "output_type": "execute_result"
    }
   ],
   "source": [
    "data=pd.read_csv(r\"C:\\Users\\RICHARD D\\Desktop\\Machine Learning\\placedata v2.0 synthetic.csv\")\n",
    "data.head()"
   ]
  },
  {
   "cell_type": "code",
   "execution_count": 3,
   "id": "81914a8f",
   "metadata": {},
   "outputs": [
    {
     "data": {
      "text/plain": [
       "(10000, 12)"
      ]
     },
     "execution_count": 3,
     "metadata": {},
     "output_type": "execute_result"
    }
   ],
   "source": [
    "data.shape"
   ]
  },
  {
   "cell_type": "code",
   "execution_count": 4,
   "id": "83c3bd2f",
   "metadata": {},
   "outputs": [
    {
     "data": {
      "text/plain": [
       "Index(['StudentID', 'CGPA', 'Internships', 'Projects',\n",
       "       'Workshops/Certifications', 'AptitudeTestScore', 'SoftSkillsRating',\n",
       "       'ExtracurricularActivities', 'PlacementTraining', 'SSC_Marks',\n",
       "       'HSC_Marks', 'PlacementStatus'],\n",
       "      dtype='object')"
      ]
     },
     "execution_count": 4,
     "metadata": {},
     "output_type": "execute_result"
    }
   ],
   "source": [
    "data.columns"
   ]
  },
  {
   "cell_type": "code",
   "execution_count": 5,
   "id": "7a02f3c2",
   "metadata": {},
   "outputs": [
    {
     "data": {
      "text/html": [
       "<div>\n",
       "<style scoped>\n",
       "    .dataframe tbody tr th:only-of-type {\n",
       "        vertical-align: middle;\n",
       "    }\n",
       "\n",
       "    .dataframe tbody tr th {\n",
       "        vertical-align: top;\n",
       "    }\n",
       "\n",
       "    .dataframe thead th {\n",
       "        text-align: right;\n",
       "    }\n",
       "</style>\n",
       "<table border=\"1\" class=\"dataframe\">\n",
       "  <thead>\n",
       "    <tr style=\"text-align: right;\">\n",
       "      <th></th>\n",
       "      <th>StudentID</th>\n",
       "      <th>CGPA</th>\n",
       "      <th>Internships</th>\n",
       "      <th>Projects</th>\n",
       "      <th>Workshops/Certifications</th>\n",
       "      <th>AptitudeTestScore</th>\n",
       "      <th>SoftSkillsRating</th>\n",
       "      <th>SSC_Marks</th>\n",
       "      <th>HSC_Marks</th>\n",
       "    </tr>\n",
       "  </thead>\n",
       "  <tbody>\n",
       "    <tr>\n",
       "      <th>count</th>\n",
       "      <td>10000.00000</td>\n",
       "      <td>10000.000000</td>\n",
       "      <td>10000.000000</td>\n",
       "      <td>10000.000000</td>\n",
       "      <td>10000.000000</td>\n",
       "      <td>10000.000000</td>\n",
       "      <td>10000.000000</td>\n",
       "      <td>10000.000000</td>\n",
       "      <td>10000.000000</td>\n",
       "    </tr>\n",
       "    <tr>\n",
       "      <th>mean</th>\n",
       "      <td>5000.50000</td>\n",
       "      <td>7.698010</td>\n",
       "      <td>1.049200</td>\n",
       "      <td>2.026600</td>\n",
       "      <td>1.013200</td>\n",
       "      <td>79.449900</td>\n",
       "      <td>4.323960</td>\n",
       "      <td>69.159400</td>\n",
       "      <td>74.501500</td>\n",
       "    </tr>\n",
       "    <tr>\n",
       "      <th>std</th>\n",
       "      <td>2886.89568</td>\n",
       "      <td>0.640131</td>\n",
       "      <td>0.665901</td>\n",
       "      <td>0.867968</td>\n",
       "      <td>0.904272</td>\n",
       "      <td>8.159997</td>\n",
       "      <td>0.411622</td>\n",
       "      <td>10.430459</td>\n",
       "      <td>8.919527</td>\n",
       "    </tr>\n",
       "    <tr>\n",
       "      <th>min</th>\n",
       "      <td>1.00000</td>\n",
       "      <td>6.500000</td>\n",
       "      <td>0.000000</td>\n",
       "      <td>0.000000</td>\n",
       "      <td>0.000000</td>\n",
       "      <td>60.000000</td>\n",
       "      <td>3.000000</td>\n",
       "      <td>55.000000</td>\n",
       "      <td>57.000000</td>\n",
       "    </tr>\n",
       "    <tr>\n",
       "      <th>25%</th>\n",
       "      <td>2500.75000</td>\n",
       "      <td>7.400000</td>\n",
       "      <td>1.000000</td>\n",
       "      <td>1.000000</td>\n",
       "      <td>0.000000</td>\n",
       "      <td>73.000000</td>\n",
       "      <td>4.000000</td>\n",
       "      <td>59.000000</td>\n",
       "      <td>67.000000</td>\n",
       "    </tr>\n",
       "    <tr>\n",
       "      <th>50%</th>\n",
       "      <td>5000.50000</td>\n",
       "      <td>7.700000</td>\n",
       "      <td>1.000000</td>\n",
       "      <td>2.000000</td>\n",
       "      <td>1.000000</td>\n",
       "      <td>80.000000</td>\n",
       "      <td>4.400000</td>\n",
       "      <td>70.000000</td>\n",
       "      <td>73.000000</td>\n",
       "    </tr>\n",
       "    <tr>\n",
       "      <th>75%</th>\n",
       "      <td>7500.25000</td>\n",
       "      <td>8.200000</td>\n",
       "      <td>1.000000</td>\n",
       "      <td>3.000000</td>\n",
       "      <td>2.000000</td>\n",
       "      <td>87.000000</td>\n",
       "      <td>4.700000</td>\n",
       "      <td>78.000000</td>\n",
       "      <td>83.000000</td>\n",
       "    </tr>\n",
       "    <tr>\n",
       "      <th>max</th>\n",
       "      <td>10000.00000</td>\n",
       "      <td>9.100000</td>\n",
       "      <td>2.000000</td>\n",
       "      <td>3.000000</td>\n",
       "      <td>3.000000</td>\n",
       "      <td>90.000000</td>\n",
       "      <td>4.800000</td>\n",
       "      <td>90.000000</td>\n",
       "      <td>88.000000</td>\n",
       "    </tr>\n",
       "  </tbody>\n",
       "</table>\n",
       "</div>"
      ],
      "text/plain": [
       "         StudentID          CGPA   Internships      Projects  \\\n",
       "count  10000.00000  10000.000000  10000.000000  10000.000000   \n",
       "mean    5000.50000      7.698010      1.049200      2.026600   \n",
       "std     2886.89568      0.640131      0.665901      0.867968   \n",
       "min        1.00000      6.500000      0.000000      0.000000   \n",
       "25%     2500.75000      7.400000      1.000000      1.000000   \n",
       "50%     5000.50000      7.700000      1.000000      2.000000   \n",
       "75%     7500.25000      8.200000      1.000000      3.000000   \n",
       "max    10000.00000      9.100000      2.000000      3.000000   \n",
       "\n",
       "       Workshops/Certifications  AptitudeTestScore  SoftSkillsRating  \\\n",
       "count              10000.000000       10000.000000      10000.000000   \n",
       "mean                   1.013200          79.449900          4.323960   \n",
       "std                    0.904272           8.159997          0.411622   \n",
       "min                    0.000000          60.000000          3.000000   \n",
       "25%                    0.000000          73.000000          4.000000   \n",
       "50%                    1.000000          80.000000          4.400000   \n",
       "75%                    2.000000          87.000000          4.700000   \n",
       "max                    3.000000          90.000000          4.800000   \n",
       "\n",
       "          SSC_Marks     HSC_Marks  \n",
       "count  10000.000000  10000.000000  \n",
       "mean      69.159400     74.501500  \n",
       "std       10.430459      8.919527  \n",
       "min       55.000000     57.000000  \n",
       "25%       59.000000     67.000000  \n",
       "50%       70.000000     73.000000  \n",
       "75%       78.000000     83.000000  \n",
       "max       90.000000     88.000000  "
      ]
     },
     "execution_count": 5,
     "metadata": {},
     "output_type": "execute_result"
    }
   ],
   "source": [
    "data.describe()"
   ]
  },
  {
   "cell_type": "code",
   "execution_count": 6,
   "id": "e16ef8c9",
   "metadata": {},
   "outputs": [
    {
     "data": {
      "text/plain": [
       "PlacementStatus\n",
       "NotPlaced    5803\n",
       "Placed       4197\n",
       "Name: count, dtype: int64"
      ]
     },
     "execution_count": 6,
     "metadata": {},
     "output_type": "execute_result"
    }
   ],
   "source": [
    "#target\n",
    "data.PlacementStatus.value_counts()"
   ]
  },
  {
   "cell_type": "code",
   "execution_count": 7,
   "id": "10a7f92a",
   "metadata": {},
   "outputs": [
    {
     "data": {
      "text/plain": [
       "StudentID                    0\n",
       "CGPA                         0\n",
       "Internships                  0\n",
       "Projects                     0\n",
       "Workshops/Certifications     0\n",
       "AptitudeTestScore            0\n",
       "SoftSkillsRating             0\n",
       "ExtracurricularActivities    0\n",
       "PlacementTraining            0\n",
       "SSC_Marks                    0\n",
       "HSC_Marks                    0\n",
       "PlacementStatus              0\n",
       "dtype: int64"
      ]
     },
     "execution_count": 7,
     "metadata": {},
     "output_type": "execute_result"
    }
   ],
   "source": [
    "#missing values\n",
    "data.isnull().sum()"
   ]
  },
  {
   "cell_type": "markdown",
   "id": "641de4ef",
   "metadata": {},
   "source": [
    "# Data Type Conversion"
   ]
  },
  {
   "cell_type": "code",
   "execution_count": 8,
   "id": "d57d97e0",
   "metadata": {},
   "outputs": [
    {
     "data": {
      "text/plain": [
       "StudentID                      int64\n",
       "CGPA                         float64\n",
       "Internships                    int64\n",
       "Projects                       int64\n",
       "Workshops/Certifications       int64\n",
       "AptitudeTestScore              int64\n",
       "SoftSkillsRating             float64\n",
       "ExtracurricularActivities     object\n",
       "PlacementTraining             object\n",
       "SSC_Marks                      int64\n",
       "HSC_Marks                      int64\n",
       "PlacementStatus               object\n",
       "dtype: object"
      ]
     },
     "execution_count": 8,
     "metadata": {},
     "output_type": "execute_result"
    }
   ],
   "source": [
    "data.dtypes"
   ]
  },
  {
   "cell_type": "code",
   "execution_count": 9,
   "id": "82c0547a",
   "metadata": {},
   "outputs": [],
   "source": [
    "#label Encoder\n",
    "from sklearn.preprocessing import LabelEncoder\n",
    "le=LabelEncoder()"
   ]
  },
  {
   "cell_type": "code",
   "execution_count": 10,
   "id": "8c69f598",
   "metadata": {},
   "outputs": [
    {
     "data": {
      "text/plain": [
       "ExtracurricularActivities\n",
       "Yes    5854\n",
       "No     4146\n",
       "Name: count, dtype: int64"
      ]
     },
     "execution_count": 10,
     "metadata": {},
     "output_type": "execute_result"
    }
   ],
   "source": [
    "data.ExtracurricularActivities.value_counts()\n"
   ]
  },
  {
   "cell_type": "code",
   "execution_count": 11,
   "id": "4dce2743",
   "metadata": {},
   "outputs": [
    {
     "data": {
      "text/plain": [
       "ExtracurricularActivities\n",
       "1    5854\n",
       "0    4146\n",
       "Name: count, dtype: int64"
      ]
     },
     "execution_count": 11,
     "metadata": {},
     "output_type": "execute_result"
    }
   ],
   "source": [
    "data.ExtracurricularActivities=le.fit_transform(data.ExtracurricularActivities)\n",
    "data.ExtracurricularActivities.value_counts()"
   ]
  },
  {
   "cell_type": "code",
   "execution_count": 12,
   "id": "1c1623d0",
   "metadata": {},
   "outputs": [
    {
     "data": {
      "text/plain": [
       "PlacementTraining\n",
       "Yes    7318\n",
       "No     2682\n",
       "Name: count, dtype: int64"
      ]
     },
     "execution_count": 12,
     "metadata": {},
     "output_type": "execute_result"
    }
   ],
   "source": [
    "data.PlacementTraining.value_counts()"
   ]
  },
  {
   "cell_type": "code",
   "execution_count": 13,
   "id": "347a6f2d",
   "metadata": {},
   "outputs": [
    {
     "data": {
      "text/plain": [
       "PlacementTraining\n",
       "1    7318\n",
       "0    2682\n",
       "Name: count, dtype: int64"
      ]
     },
     "execution_count": 13,
     "metadata": {},
     "output_type": "execute_result"
    }
   ],
   "source": [
    "data.PlacementTraining=le.fit_transform(data.PlacementTraining)\n",
    "data.PlacementTraining.value_counts()"
   ]
  },
  {
   "cell_type": "code",
   "execution_count": 14,
   "id": "e78afa84",
   "metadata": {},
   "outputs": [
    {
     "data": {
      "text/plain": [
       "PlacementStatus\n",
       "NotPlaced    5803\n",
       "Placed       4197\n",
       "Name: count, dtype: int64"
      ]
     },
     "execution_count": 14,
     "metadata": {},
     "output_type": "execute_result"
    }
   ],
   "source": [
    "data.PlacementStatus.value_counts()"
   ]
  },
  {
   "cell_type": "code",
   "execution_count": 15,
   "id": "deeb1c79",
   "metadata": {},
   "outputs": [
    {
     "data": {
      "text/plain": [
       "PlacementStatus\n",
       "0    5803\n",
       "1    4197\n",
       "Name: count, dtype: int64"
      ]
     },
     "execution_count": 15,
     "metadata": {},
     "output_type": "execute_result"
    }
   ],
   "source": [
    "data.PlacementStatus=le.fit_transform(data.PlacementStatus)\n",
    "data.PlacementStatus.value_counts()"
   ]
  },
  {
   "cell_type": "code",
   "execution_count": 16,
   "id": "b069f8e4",
   "metadata": {},
   "outputs": [
    {
     "data": {
      "text/plain": [
       "StudentID                      int64\n",
       "CGPA                         float64\n",
       "Internships                    int64\n",
       "Projects                       int64\n",
       "Workshops/Certifications       int64\n",
       "AptitudeTestScore              int64\n",
       "SoftSkillsRating             float64\n",
       "ExtracurricularActivities      int32\n",
       "PlacementTraining              int32\n",
       "SSC_Marks                      int64\n",
       "HSC_Marks                      int64\n",
       "PlacementStatus                int32\n",
       "dtype: object"
      ]
     },
     "execution_count": 16,
     "metadata": {},
     "output_type": "execute_result"
    }
   ],
   "source": [
    "data.dtypes"
   ]
  },
  {
   "cell_type": "code",
   "execution_count": 17,
   "id": "d6e4ea1d",
   "metadata": {},
   "outputs": [
    {
     "data": {
      "text/plain": [
       "0       False\n",
       "1       False\n",
       "2       False\n",
       "3       False\n",
       "4       False\n",
       "        ...  \n",
       "9995    False\n",
       "9996    False\n",
       "9997    False\n",
       "9998    False\n",
       "9999    False\n",
       "Length: 10000, dtype: bool"
      ]
     },
     "execution_count": 17,
     "metadata": {},
     "output_type": "execute_result"
    }
   ],
   "source": [
    "data.duplicated()"
   ]
  },
  {
   "cell_type": "code",
   "execution_count": 18,
   "id": "b437444c",
   "metadata": {},
   "outputs": [],
   "source": [
    "data=data.drop([\"StudentID\"],axis=1)"
   ]
  },
  {
   "cell_type": "markdown",
   "id": "bbfebecc",
   "metadata": {},
   "source": [
    "# Model building"
   ]
  },
  {
   "cell_type": "code",
   "execution_count": 19,
   "id": "24a37ebf",
   "metadata": {},
   "outputs": [
    {
     "data": {
      "text/plain": [
       "(10000, 11)"
      ]
     },
     "execution_count": 19,
     "metadata": {},
     "output_type": "execute_result"
    }
   ],
   "source": [
    "data.shape"
   ]
  },
  {
   "cell_type": "code",
   "execution_count": 20,
   "id": "b916c052",
   "metadata": {},
   "outputs": [],
   "source": [
    "x=data.iloc[:,:-1]\n",
    "y=data.iloc[:,-1]"
   ]
  },
  {
   "cell_type": "code",
   "execution_count": 21,
   "id": "5a5cd5bc",
   "metadata": {},
   "outputs": [
    {
     "data": {
      "text/html": [
       "<div>\n",
       "<style scoped>\n",
       "    .dataframe tbody tr th:only-of-type {\n",
       "        vertical-align: middle;\n",
       "    }\n",
       "\n",
       "    .dataframe tbody tr th {\n",
       "        vertical-align: top;\n",
       "    }\n",
       "\n",
       "    .dataframe thead th {\n",
       "        text-align: right;\n",
       "    }\n",
       "</style>\n",
       "<table border=\"1\" class=\"dataframe\">\n",
       "  <thead>\n",
       "    <tr style=\"text-align: right;\">\n",
       "      <th></th>\n",
       "      <th>CGPA</th>\n",
       "      <th>Internships</th>\n",
       "      <th>Projects</th>\n",
       "      <th>Workshops/Certifications</th>\n",
       "      <th>AptitudeTestScore</th>\n",
       "      <th>SoftSkillsRating</th>\n",
       "      <th>ExtracurricularActivities</th>\n",
       "      <th>PlacementTraining</th>\n",
       "      <th>SSC_Marks</th>\n",
       "      <th>HSC_Marks</th>\n",
       "    </tr>\n",
       "  </thead>\n",
       "  <tbody>\n",
       "    <tr>\n",
       "      <th>0</th>\n",
       "      <td>7.5</td>\n",
       "      <td>1</td>\n",
       "      <td>1</td>\n",
       "      <td>1</td>\n",
       "      <td>65</td>\n",
       "      <td>4.4</td>\n",
       "      <td>0</td>\n",
       "      <td>0</td>\n",
       "      <td>61</td>\n",
       "      <td>79</td>\n",
       "    </tr>\n",
       "  </tbody>\n",
       "</table>\n",
       "</div>"
      ],
      "text/plain": [
       "   CGPA  Internships  Projects  Workshops/Certifications  AptitudeTestScore  \\\n",
       "0   7.5            1         1                         1                 65   \n",
       "\n",
       "   SoftSkillsRating  ExtracurricularActivities  PlacementTraining  SSC_Marks  \\\n",
       "0               4.4                          0                  0         61   \n",
       "\n",
       "   HSC_Marks  \n",
       "0         79  "
      ]
     },
     "execution_count": 21,
     "metadata": {},
     "output_type": "execute_result"
    }
   ],
   "source": [
    "x.head(1)\n",
    "#y.head()"
   ]
  },
  {
   "cell_type": "code",
   "execution_count": 22,
   "id": "1681c988",
   "metadata": {},
   "outputs": [],
   "source": [
    "from sklearn.model_selection import train_test_split"
   ]
  },
  {
   "cell_type": "code",
   "execution_count": 23,
   "id": "28a01169",
   "metadata": {},
   "outputs": [],
   "source": [
    "x_tr,x_te,y_tr,y_te=train_test_split(x,y,test_size=0.2,random_state=100)"
   ]
  },
  {
   "cell_type": "code",
   "execution_count": 24,
   "id": "fdd20453",
   "metadata": {},
   "outputs": [
    {
     "data": {
      "text/plain": [
       "((8000, 10), (2000, 10), (8000,), (2000,))"
      ]
     },
     "execution_count": 24,
     "metadata": {},
     "output_type": "execute_result"
    }
   ],
   "source": [
    "x_tr.shape,x_te.shape,y_tr.shape,y_te.shape"
   ]
  },
  {
   "cell_type": "markdown",
   "id": "a4b3ae3b",
   "metadata": {},
   "source": [
    "# Logistic Regression"
   ]
  },
  {
   "cell_type": "code",
   "execution_count": 25,
   "id": "b65c0747",
   "metadata": {},
   "outputs": [],
   "source": [
    "from sklearn.linear_model import LogisticRegression\n",
    "lg=LogisticRegression()"
   ]
  },
  {
   "cell_type": "code",
   "execution_count": 26,
   "id": "ec7286d2",
   "metadata": {},
   "outputs": [
    {
     "data": {
      "text/html": [
       "<style>#sk-container-id-1 {color: black;}#sk-container-id-1 pre{padding: 0;}#sk-container-id-1 div.sk-toggleable {background-color: white;}#sk-container-id-1 label.sk-toggleable__label {cursor: pointer;display: block;width: 100%;margin-bottom: 0;padding: 0.3em;box-sizing: border-box;text-align: center;}#sk-container-id-1 label.sk-toggleable__label-arrow:before {content: \"▸\";float: left;margin-right: 0.25em;color: #696969;}#sk-container-id-1 label.sk-toggleable__label-arrow:hover:before {color: black;}#sk-container-id-1 div.sk-estimator:hover label.sk-toggleable__label-arrow:before {color: black;}#sk-container-id-1 div.sk-toggleable__content {max-height: 0;max-width: 0;overflow: hidden;text-align: left;background-color: #f0f8ff;}#sk-container-id-1 div.sk-toggleable__content pre {margin: 0.2em;color: black;border-radius: 0.25em;background-color: #f0f8ff;}#sk-container-id-1 input.sk-toggleable__control:checked~div.sk-toggleable__content {max-height: 200px;max-width: 100%;overflow: auto;}#sk-container-id-1 input.sk-toggleable__control:checked~label.sk-toggleable__label-arrow:before {content: \"▾\";}#sk-container-id-1 div.sk-estimator input.sk-toggleable__control:checked~label.sk-toggleable__label {background-color: #d4ebff;}#sk-container-id-1 div.sk-label input.sk-toggleable__control:checked~label.sk-toggleable__label {background-color: #d4ebff;}#sk-container-id-1 input.sk-hidden--visually {border: 0;clip: rect(1px 1px 1px 1px);clip: rect(1px, 1px, 1px, 1px);height: 1px;margin: -1px;overflow: hidden;padding: 0;position: absolute;width: 1px;}#sk-container-id-1 div.sk-estimator {font-family: monospace;background-color: #f0f8ff;border: 1px dotted black;border-radius: 0.25em;box-sizing: border-box;margin-bottom: 0.5em;}#sk-container-id-1 div.sk-estimator:hover {background-color: #d4ebff;}#sk-container-id-1 div.sk-parallel-item::after {content: \"\";width: 100%;border-bottom: 1px solid gray;flex-grow: 1;}#sk-container-id-1 div.sk-label:hover label.sk-toggleable__label {background-color: #d4ebff;}#sk-container-id-1 div.sk-serial::before {content: \"\";position: absolute;border-left: 1px solid gray;box-sizing: border-box;top: 0;bottom: 0;left: 50%;z-index: 0;}#sk-container-id-1 div.sk-serial {display: flex;flex-direction: column;align-items: center;background-color: white;padding-right: 0.2em;padding-left: 0.2em;position: relative;}#sk-container-id-1 div.sk-item {position: relative;z-index: 1;}#sk-container-id-1 div.sk-parallel {display: flex;align-items: stretch;justify-content: center;background-color: white;position: relative;}#sk-container-id-1 div.sk-item::before, #sk-container-id-1 div.sk-parallel-item::before {content: \"\";position: absolute;border-left: 1px solid gray;box-sizing: border-box;top: 0;bottom: 0;left: 50%;z-index: -1;}#sk-container-id-1 div.sk-parallel-item {display: flex;flex-direction: column;z-index: 1;position: relative;background-color: white;}#sk-container-id-1 div.sk-parallel-item:first-child::after {align-self: flex-end;width: 50%;}#sk-container-id-1 div.sk-parallel-item:last-child::after {align-self: flex-start;width: 50%;}#sk-container-id-1 div.sk-parallel-item:only-child::after {width: 0;}#sk-container-id-1 div.sk-dashed-wrapped {border: 1px dashed gray;margin: 0 0.4em 0.5em 0.4em;box-sizing: border-box;padding-bottom: 0.4em;background-color: white;}#sk-container-id-1 div.sk-label label {font-family: monospace;font-weight: bold;display: inline-block;line-height: 1.2em;}#sk-container-id-1 div.sk-label-container {text-align: center;}#sk-container-id-1 div.sk-container {/* jupyter's `normalize.less` sets `[hidden] { display: none; }` but bootstrap.min.css set `[hidden] { display: none !important; }` so we also need the `!important` here to be able to override the default hidden behavior on the sphinx rendered scikit-learn.org. See: https://github.com/scikit-learn/scikit-learn/issues/21755 */display: inline-block !important;position: relative;}#sk-container-id-1 div.sk-text-repr-fallback {display: none;}</style><div id=\"sk-container-id-1\" class=\"sk-top-container\"><div class=\"sk-text-repr-fallback\"><pre>LogisticRegression()</pre><b>In a Jupyter environment, please rerun this cell to show the HTML representation or trust the notebook. <br />On GitHub, the HTML representation is unable to render, please try loading this page with nbviewer.org.</b></div><div class=\"sk-container\" hidden><div class=\"sk-item\"><div class=\"sk-estimator sk-toggleable\"><input class=\"sk-toggleable__control sk-hidden--visually\" id=\"sk-estimator-id-1\" type=\"checkbox\" checked><label for=\"sk-estimator-id-1\" class=\"sk-toggleable__label sk-toggleable__label-arrow\">LogisticRegression</label><div class=\"sk-toggleable__content\"><pre>LogisticRegression()</pre></div></div></div></div></div>"
      ],
      "text/plain": [
       "LogisticRegression()"
      ]
     },
     "execution_count": 26,
     "metadata": {},
     "output_type": "execute_result"
    }
   ],
   "source": [
    "lg.fit(x_tr,y_tr)"
   ]
  },
  {
   "cell_type": "code",
   "execution_count": 27,
   "id": "5a6528ad",
   "metadata": {},
   "outputs": [
    {
     "data": {
      "text/plain": [
       "array([0, 1, 0, ..., 0, 1, 0])"
      ]
     },
     "execution_count": 27,
     "metadata": {},
     "output_type": "execute_result"
    }
   ],
   "source": [
    "lg_p=lg.predict(x_te)\n",
    "lg_p"
   ]
  },
  {
   "cell_type": "code",
   "execution_count": 28,
   "id": "7deb46c8",
   "metadata": {},
   "outputs": [
    {
     "data": {
      "text/plain": [
       "array([[0.90637956, 0.09362044],\n",
       "       [0.25485733, 0.74514267],\n",
       "       [0.56847251, 0.43152749],\n",
       "       ...,\n",
       "       [0.86393179, 0.13606821],\n",
       "       [0.30618403, 0.69381597],\n",
       "       [0.63219667, 0.36780333]])"
      ]
     },
     "execution_count": 28,
     "metadata": {},
     "output_type": "execute_result"
    }
   ],
   "source": [
    "pred_prob=lg.predict_proba(x_te)\n",
    "pred_prob"
   ]
  },
  {
   "cell_type": "code",
   "execution_count": 29,
   "id": "2a9e4f43",
   "metadata": {},
   "outputs": [],
   "source": [
    "from sklearn.metrics import confusion_matrix"
   ]
  },
  {
   "cell_type": "code",
   "execution_count": 30,
   "id": "01e6a740",
   "metadata": {},
   "outputs": [
    {
     "data": {
      "text/plain": [
       "array([[940, 210],\n",
       "       [252, 598]], dtype=int64)"
      ]
     },
     "execution_count": 30,
     "metadata": {},
     "output_type": "execute_result"
    }
   ],
   "source": [
    "lg_m=confusion_matrix(lg_p,y_te)\n",
    "lg_m"
   ]
  },
  {
   "cell_type": "code",
   "execution_count": 31,
   "id": "9385c153",
   "metadata": {},
   "outputs": [
    {
     "data": {
      "text/plain": [
       "76.9"
      ]
     },
     "execution_count": 31,
     "metadata": {},
     "output_type": "execute_result"
    }
   ],
   "source": [
    "lg_acc=lg_m.diagonal().sum()/lg_m.sum()*100\n",
    "lg_acc"
   ]
  },
  {
   "cell_type": "code",
   "execution_count": 32,
   "id": "f9baedc8",
   "metadata": {},
   "outputs": [],
   "source": [
    "from sklearn.metrics import classification_report"
   ]
  },
  {
   "cell_type": "code",
   "execution_count": 33,
   "id": "e1870985",
   "metadata": {},
   "outputs": [
    {
     "name": "stdout",
     "output_type": "stream",
     "text": [
      "              precision    recall  f1-score   support\n",
      "\n",
      "           0       0.79      0.82      0.80      1150\n",
      "           1       0.74      0.70      0.72       850\n",
      "\n",
      "    accuracy                           0.77      2000\n",
      "   macro avg       0.76      0.76      0.76      2000\n",
      "weighted avg       0.77      0.77      0.77      2000\n",
      "\n"
     ]
    }
   ],
   "source": [
    "print(classification_report(lg_p,y_te))"
   ]
  },
  {
   "cell_type": "code",
   "execution_count": 34,
   "id": "538cb7fe",
   "metadata": {},
   "outputs": [],
   "source": [
    "#AUC-ROC Curve\n",
    "from sklearn.metrics import roc_auc_score\n",
    "from sklearn.metrics import roc_curve"
   ]
  },
  {
   "cell_type": "code",
   "execution_count": 35,
   "id": "74083912",
   "metadata": {},
   "outputs": [
    {
     "data": {
      "text/html": [
       "<div>\n",
       "<style scoped>\n",
       "    .dataframe tbody tr th:only-of-type {\n",
       "        vertical-align: middle;\n",
       "    }\n",
       "\n",
       "    .dataframe tbody tr th {\n",
       "        vertical-align: top;\n",
       "    }\n",
       "\n",
       "    .dataframe thead th {\n",
       "        text-align: right;\n",
       "    }\n",
       "</style>\n",
       "<table border=\"1\" class=\"dataframe\">\n",
       "  <thead>\n",
       "    <tr style=\"text-align: right;\">\n",
       "      <th></th>\n",
       "      <th>0</th>\n",
       "      <th>1</th>\n",
       "    </tr>\n",
       "  </thead>\n",
       "  <tbody>\n",
       "    <tr>\n",
       "      <th>0</th>\n",
       "      <td>0.906380</td>\n",
       "      <td>0.093620</td>\n",
       "    </tr>\n",
       "    <tr>\n",
       "      <th>1</th>\n",
       "      <td>0.254857</td>\n",
       "      <td>0.745143</td>\n",
       "    </tr>\n",
       "    <tr>\n",
       "      <th>2</th>\n",
       "      <td>0.568473</td>\n",
       "      <td>0.431527</td>\n",
       "    </tr>\n",
       "    <tr>\n",
       "      <th>3</th>\n",
       "      <td>0.902045</td>\n",
       "      <td>0.097955</td>\n",
       "    </tr>\n",
       "    <tr>\n",
       "      <th>4</th>\n",
       "      <td>0.283090</td>\n",
       "      <td>0.716910</td>\n",
       "    </tr>\n",
       "    <tr>\n",
       "      <th>...</th>\n",
       "      <td>...</td>\n",
       "      <td>...</td>\n",
       "    </tr>\n",
       "    <tr>\n",
       "      <th>1995</th>\n",
       "      <td>0.905292</td>\n",
       "      <td>0.094708</td>\n",
       "    </tr>\n",
       "    <tr>\n",
       "      <th>1996</th>\n",
       "      <td>0.600444</td>\n",
       "      <td>0.399556</td>\n",
       "    </tr>\n",
       "    <tr>\n",
       "      <th>1997</th>\n",
       "      <td>0.863932</td>\n",
       "      <td>0.136068</td>\n",
       "    </tr>\n",
       "    <tr>\n",
       "      <th>1998</th>\n",
       "      <td>0.306184</td>\n",
       "      <td>0.693816</td>\n",
       "    </tr>\n",
       "    <tr>\n",
       "      <th>1999</th>\n",
       "      <td>0.632197</td>\n",
       "      <td>0.367803</td>\n",
       "    </tr>\n",
       "  </tbody>\n",
       "</table>\n",
       "<p>2000 rows × 2 columns</p>\n",
       "</div>"
      ],
      "text/plain": [
       "             0         1\n",
       "0     0.906380  0.093620\n",
       "1     0.254857  0.745143\n",
       "2     0.568473  0.431527\n",
       "3     0.902045  0.097955\n",
       "4     0.283090  0.716910\n",
       "...        ...       ...\n",
       "1995  0.905292  0.094708\n",
       "1996  0.600444  0.399556\n",
       "1997  0.863932  0.136068\n",
       "1998  0.306184  0.693816\n",
       "1999  0.632197  0.367803\n",
       "\n",
       "[2000 rows x 2 columns]"
      ]
     },
     "execution_count": 35,
     "metadata": {},
     "output_type": "execute_result"
    }
   ],
   "source": [
    "df=pd.DataFrame(pred_prob)\n",
    "df"
   ]
  },
  {
   "cell_type": "code",
   "execution_count": 36,
   "id": "5dfab716",
   "metadata": {},
   "outputs": [],
   "source": [
    "fpr,tpr,thrshold=roc_curve(y_te,df.iloc[:,1])"
   ]
  },
  {
   "cell_type": "code",
   "execution_count": 37,
   "id": "cb742ace",
   "metadata": {},
   "outputs": [
    {
     "data": {
      "text/plain": [
       "array([0.        , 0.        , 0.0033557 , 0.0033557 , 0.00419463,\n",
       "       0.00419463, 0.00503356, 0.00503356, 0.00587248, 0.00587248,\n",
       "       0.00671141, 0.00671141, 0.00755034, 0.00755034, 0.00838926,\n",
       "       0.00838926, 0.01006711, 0.01006711, 0.01090604, 0.01090604,\n",
       "       0.01174497, 0.01174497, 0.01258389, 0.01258389, 0.01510067,\n",
       "       0.01510067, 0.0159396 , 0.0159396 , 0.01761745, 0.01761745,\n",
       "       0.01845638, 0.01845638, 0.0192953 , 0.0192953 , 0.02013423,\n",
       "       0.02013423, 0.02097315, 0.02097315, 0.02265101, 0.02265101,\n",
       "       0.02348993, 0.02348993, 0.02432886, 0.02432886, 0.02516779,\n",
       "       0.02516779, 0.02516779, 0.02600671, 0.02600671, 0.02684564,\n",
       "       0.02684564, 0.02768456, 0.02768456, 0.02852349, 0.02852349,\n",
       "       0.02852349, 0.02852349, 0.02936242, 0.02936242, 0.03104027,\n",
       "       0.03104027, 0.03104027, 0.03187919, 0.03187919, 0.03271812,\n",
       "       0.03271812, 0.03439597, 0.03439597, 0.0352349 , 0.0352349 ,\n",
       "       0.03607383, 0.03607383, 0.03691275, 0.03691275, 0.03775168,\n",
       "       0.03775168, 0.0385906 , 0.0385906 , 0.03942953, 0.03942953,\n",
       "       0.04026846, 0.04026846, 0.04110738, 0.04110738, 0.04194631,\n",
       "       0.04194631, 0.04278523, 0.04278523, 0.04446309, 0.04446309,\n",
       "       0.04530201, 0.04530201, 0.04697987, 0.04697987, 0.04781879,\n",
       "       0.04781879, 0.04865772, 0.04865772, 0.0511745 , 0.0511745 ,\n",
       "       0.05201342, 0.05201342, 0.05285235, 0.05285235, 0.05369128,\n",
       "       0.05369128, 0.0545302 , 0.0545302 , 0.05536913, 0.05536913,\n",
       "       0.05620805, 0.05620805, 0.05788591, 0.05788591, 0.05872483,\n",
       "       0.05872483, 0.05956376, 0.05956376, 0.06040268, 0.06040268,\n",
       "       0.06124161, 0.06124161, 0.06208054, 0.06208054, 0.06459732,\n",
       "       0.06459732, 0.06795302, 0.06795302, 0.06879195, 0.06879195,\n",
       "       0.06963087, 0.06963087, 0.0704698 , 0.0704698 , 0.07130872,\n",
       "       0.07130872, 0.07214765, 0.07214765, 0.07298658, 0.07298658,\n",
       "       0.07550336, 0.07550336, 0.07634228, 0.07634228, 0.07718121,\n",
       "       0.07718121, 0.07802013, 0.07802013, 0.07885906, 0.07885906,\n",
       "       0.07969799, 0.07969799, 0.08137584, 0.08137584, 0.08221477,\n",
       "       0.08221477, 0.08305369, 0.08305369, 0.08724832, 0.08724832,\n",
       "       0.08808725, 0.08808725, 0.08892617, 0.08892617, 0.0897651 ,\n",
       "       0.0897651 , 0.09228188, 0.09228188, 0.09563758, 0.09563758,\n",
       "       0.09647651, 0.09647651, 0.09731544, 0.09731544, 0.09815436,\n",
       "       0.09815436, 0.09983221, 0.09983221, 0.10486577, 0.10486577,\n",
       "       0.10822148, 0.10822148, 0.11073826, 0.11073826, 0.11157718,\n",
       "       0.11157718, 0.11493289, 0.11493289, 0.11577181, 0.11577181,\n",
       "       0.11661074, 0.11661074, 0.11828859, 0.11828859, 0.11912752,\n",
       "       0.11912752, 0.11996644, 0.11996644, 0.12080537, 0.12080537,\n",
       "       0.1216443 , 0.1216443 , 0.12332215, 0.12332215, 0.12416107,\n",
       "       0.12416107, 0.125     , 0.125     , 0.12583893, 0.12583893,\n",
       "       0.12667785, 0.12667785, 0.12751678, 0.12751678, 0.12919463,\n",
       "       0.12919463, 0.13003356, 0.13003356, 0.13087248, 0.13087248,\n",
       "       0.13171141, 0.13171141, 0.13422819, 0.13422819, 0.13506711,\n",
       "       0.13506711, 0.13674497, 0.13674497, 0.13758389, 0.13758389,\n",
       "       0.13842282, 0.13842282, 0.13926174, 0.13926174, 0.1409396 ,\n",
       "       0.1409396 , 0.14177852, 0.14177852, 0.14261745, 0.14261745,\n",
       "       0.1442953 , 0.1442953 , 0.14513423, 0.14513423, 0.14597315,\n",
       "       0.14597315, 0.14848993, 0.14848993, 0.15016779, 0.15016779,\n",
       "       0.15520134, 0.15520134, 0.15604027, 0.15604027, 0.15687919,\n",
       "       0.15687919, 0.15771812, 0.15771812, 0.15855705, 0.15855705,\n",
       "       0.16275168, 0.16275168, 0.16442953, 0.16442953, 0.16778523,\n",
       "       0.16778523, 0.16946309, 0.16946309, 0.17197987, 0.17197987,\n",
       "       0.17281879, 0.17281879, 0.17449664, 0.17449664, 0.17533557,\n",
       "       0.17533557, 0.1761745 , 0.1761745 , 0.17701342, 0.17701342,\n",
       "       0.17785235, 0.17785235, 0.17869128, 0.17869128, 0.18120805,\n",
       "       0.18120805, 0.18288591, 0.18288591, 0.18456376, 0.18456376,\n",
       "       0.18624161, 0.18624161, 0.18708054, 0.18708054, 0.18875839,\n",
       "       0.18875839, 0.19127517, 0.19127517, 0.19379195, 0.19379195,\n",
       "       0.19463087, 0.19463087, 0.1954698 , 0.1954698 , 0.19714765,\n",
       "       0.19714765, 0.1988255 , 0.1988255 , 0.19966443, 0.19966443,\n",
       "       0.20134228, 0.20134228, 0.20721477, 0.20721477, 0.20889262,\n",
       "       0.20889262, 0.21057047, 0.21057047, 0.2114094 , 0.2114094 ,\n",
       "       0.2147651 , 0.2147651 , 0.21560403, 0.21560403, 0.21644295,\n",
       "       0.21644295, 0.21728188, 0.21728188, 0.21979866, 0.21979866,\n",
       "       0.22063758, 0.22063758, 0.22147651, 0.22147651, 0.22231544,\n",
       "       0.22231544, 0.22483221, 0.22483221, 0.22734899, 0.22734899,\n",
       "       0.22818792, 0.22818792, 0.22902685, 0.22902685, 0.22986577,\n",
       "       0.22986577, 0.23154362, 0.23154362, 0.23322148, 0.23322148,\n",
       "       0.23489933, 0.23489933, 0.23573826, 0.23573826, 0.23825503,\n",
       "       0.23825503, 0.23909396, 0.23909396, 0.24161074, 0.24161074,\n",
       "       0.24412752, 0.24412752, 0.25251678, 0.25251678, 0.25587248,\n",
       "       0.25587248, 0.25671141, 0.25671141, 0.25922819, 0.25922819,\n",
       "       0.26426174, 0.26426174, 0.26845638, 0.26845638, 0.2692953 ,\n",
       "       0.2692953 , 0.27013423, 0.27013423, 0.27097315, 0.27097315,\n",
       "       0.27181208, 0.27181208, 0.27516779, 0.27516779, 0.27852349,\n",
       "       0.27852349, 0.28104027, 0.28104027, 0.28607383, 0.28607383,\n",
       "       0.28691275, 0.28691275, 0.28942953, 0.28942953, 0.29110738,\n",
       "       0.29110738, 0.29362416, 0.29362416, 0.29697987, 0.29697987,\n",
       "       0.29949664, 0.29949664, 0.30033557, 0.30033557, 0.3011745 ,\n",
       "       0.3011745 , 0.3045302 , 0.3045302 , 0.30872483, 0.30872483,\n",
       "       0.31124161, 0.31124161, 0.31291946, 0.31291946, 0.31375839,\n",
       "       0.31375839, 0.31627517, 0.31627517, 0.31879195, 0.31879195,\n",
       "       0.31963087, 0.31963087, 0.32130872, 0.32130872, 0.32214765,\n",
       "       0.32214765, 0.32969799, 0.32969799, 0.33137584, 0.33137584,\n",
       "       0.33389262, 0.33389262, 0.3397651 , 0.3397651 , 0.34060403,\n",
       "       0.34060403, 0.34144295, 0.34144295, 0.34479866, 0.34479866,\n",
       "       0.35151007, 0.35151007, 0.3557047 , 0.3557047 , 0.35738255,\n",
       "       0.35738255, 0.35822148, 0.35822148, 0.35989933, 0.35989933,\n",
       "       0.36493289, 0.36493289, 0.36661074, 0.36661074, 0.36744966,\n",
       "       0.36744966, 0.36996644, 0.36996644, 0.37332215, 0.37332215,\n",
       "       0.37667785, 0.37667785, 0.37751678, 0.37751678, 0.3783557 ,\n",
       "       0.3783557 , 0.37919463, 0.37919463, 0.38590604, 0.38590604,\n",
       "       0.38674497, 0.38674497, 0.3909396 , 0.3909396 , 0.39177852,\n",
       "       0.39177852, 0.39597315, 0.39597315, 0.39932886, 0.39932886,\n",
       "       0.40771812, 0.40771812, 0.41275168, 0.41275168, 0.4135906 ,\n",
       "       0.4135906 , 0.41442953, 0.41442953, 0.41526846, 0.41526846,\n",
       "       0.41862416, 0.41862416, 0.42114094, 0.42114094, 0.42701342,\n",
       "       0.42701342, 0.42785235, 0.42785235, 0.4295302 , 0.4295302 ,\n",
       "       0.43288591, 0.43288591, 0.43372483, 0.43372483, 0.43456376,\n",
       "       0.43456376, 0.43624161, 0.43624161, 0.44630872, 0.44630872,\n",
       "       0.44966443, 0.44966443, 0.45553691, 0.45553691, 0.45721477,\n",
       "       0.45721477, 0.4614094 , 0.4614094 , 0.46308725, 0.46308725,\n",
       "       0.47986577, 0.47986577, 0.48573826, 0.48573826, 0.49077181,\n",
       "       0.49077181, 0.49161074, 0.49161074, 0.5       , 0.5       ,\n",
       "       0.50419463, 0.50419463, 0.50922819, 0.50922819, 0.51258389,\n",
       "       0.51258389, 0.51761745, 0.51761745, 0.5192953 , 0.5192953 ,\n",
       "       0.52348993, 0.52348993, 0.53187919, 0.53187919, 0.54194631,\n",
       "       0.54194631, 0.54530201, 0.54530201, 0.55033557, 0.55033557,\n",
       "       0.57130872, 0.57130872, 0.57634228, 0.57634228, 0.57718121,\n",
       "       0.57718121, 0.58557047, 0.58557047, 0.58808725, 0.58808725,\n",
       "       0.59479866, 0.59479866, 0.59647651, 0.59647651, 0.60654362,\n",
       "       0.60654362, 0.60822148, 0.60822148, 0.60989933, 0.60989933,\n",
       "       0.61157718, 0.61157718, 0.61577181, 0.61577181, 0.62080537,\n",
       "       0.62080537, 0.625     , 0.625     , 0.62667785, 0.62667785,\n",
       "       0.64765101, 0.64765101, 0.64848993, 0.64848993, 0.65184564,\n",
       "       0.65184564, 0.68036913, 0.68036913, 0.69630872, 0.69630872,\n",
       "       0.70218121, 0.70218121, 0.70805369, 0.70805369, 0.72063758,\n",
       "       0.72063758, 0.72734899, 0.72734899, 0.74077181, 0.74077181,\n",
       "       0.74496644, 0.74496644, 0.75587248, 0.75587248, 0.78187919,\n",
       "       0.78187919, 0.79194631, 0.79194631, 0.80620805, 0.80620805,\n",
       "       0.81711409, 0.81711409, 0.81879195, 0.81879195, 0.82550336,\n",
       "       0.82550336, 0.82969799, 0.82969799, 0.85738255, 0.85738255,\n",
       "       0.875     , 0.875     , 0.87583893, 0.87583893, 0.89010067,\n",
       "       0.89010067, 0.90939597, 0.90939597, 0.9454698 , 0.9454698 ,\n",
       "       0.98154362, 0.98154362, 0.99077181, 0.99077181, 0.99496644,\n",
       "       0.99496644, 1.        ])"
      ]
     },
     "execution_count": 37,
     "metadata": {},
     "output_type": "execute_result"
    }
   ],
   "source": [
    "fpr"
   ]
  },
  {
   "cell_type": "code",
   "execution_count": 38,
   "id": "1c0b39d1",
   "metadata": {},
   "outputs": [
    {
     "data": {
      "text/plain": [
       "array([0.        , 0.00123762, 0.00123762, 0.01485149, 0.01485149,\n",
       "       0.01732673, 0.01732673, 0.02722772, 0.02722772, 0.02846535,\n",
       "       0.02846535, 0.02970297, 0.02970297, 0.03712871, 0.03712871,\n",
       "       0.04579208, 0.04579208, 0.0470297 , 0.0470297 , 0.05816832,\n",
       "       0.05816832, 0.05940594, 0.05940594, 0.06930693, 0.06930693,\n",
       "       0.08539604, 0.08539604, 0.09158416, 0.09158416, 0.09777228,\n",
       "       0.09777228, 0.10891089, 0.10891089, 0.11633663, 0.11633663,\n",
       "       0.12128713, 0.12128713, 0.1720297 , 0.1720297 , 0.18193069,\n",
       "       0.18193069, 0.20420792, 0.20420792, 0.20668317, 0.20668317,\n",
       "       0.20915842, 0.21534653, 0.21534653, 0.22277228, 0.22277228,\n",
       "       0.23267327, 0.23267327, 0.24752475, 0.24752475, 0.25866337,\n",
       "       0.26113861, 0.26237624, 0.26237624, 0.2710396 , 0.2710396 ,\n",
       "       0.27846535, 0.28094059, 0.28094059, 0.28589109, 0.28589109,\n",
       "       0.28836634, 0.28836634, 0.29084158, 0.29084158, 0.29207921,\n",
       "       0.29207921, 0.29455446, 0.29455446, 0.30321782, 0.30321782,\n",
       "       0.30445545, 0.30445545, 0.30940594, 0.30940594, 0.31806931,\n",
       "       0.31806931, 0.32425743, 0.32425743, 0.33044554, 0.33044554,\n",
       "       0.34653465, 0.34653465, 0.3539604 , 0.3539604 , 0.36386139,\n",
       "       0.36386139, 0.36757426, 0.36757426, 0.36881188, 0.36881188,\n",
       "       0.37871287, 0.37871287, 0.38613861, 0.38613861, 0.4009901 ,\n",
       "       0.4009901 , 0.40965347, 0.40965347, 0.41089109, 0.41089109,\n",
       "       0.41460396, 0.41460396, 0.41584158, 0.41584158, 0.42450495,\n",
       "       0.42450495, 0.42945545, 0.42945545, 0.43193069, 0.43193069,\n",
       "       0.43316832, 0.43316832, 0.43564356, 0.43564356, 0.43688119,\n",
       "       0.43688119, 0.44554455, 0.44554455, 0.44925743, 0.44925743,\n",
       "       0.45420792, 0.45420792, 0.46287129, 0.46287129, 0.4740099 ,\n",
       "       0.4740099 , 0.47524752, 0.47524752, 0.47772277, 0.47772277,\n",
       "       0.4789604 , 0.4789604 , 0.48391089, 0.48391089, 0.49009901,\n",
       "       0.49009901, 0.49257426, 0.49257426, 0.49381188, 0.49381188,\n",
       "       0.4950495 , 0.4950495 , 0.49628713, 0.49628713, 0.50371287,\n",
       "       0.50371287, 0.5049505 , 0.5049505 , 0.50866337, 0.50866337,\n",
       "       0.51732673, 0.51732673, 0.52351485, 0.52351485, 0.52475248,\n",
       "       0.52475248, 0.52722772, 0.52722772, 0.52846535, 0.52846535,\n",
       "       0.53341584, 0.53341584, 0.53836634, 0.53836634, 0.53960396,\n",
       "       0.53960396, 0.54084158, 0.54084158, 0.54207921, 0.54207921,\n",
       "       0.54826733, 0.54826733, 0.54950495, 0.54950495, 0.55321782,\n",
       "       0.55321782, 0.55816832, 0.55816832, 0.56311881, 0.56311881,\n",
       "       0.56806931, 0.56806931, 0.57054455, 0.57054455, 0.57549505,\n",
       "       0.57549505, 0.57673267, 0.57673267, 0.5779703 , 0.5779703 ,\n",
       "       0.58415842, 0.58415842, 0.58787129, 0.58787129, 0.58910891,\n",
       "       0.58910891, 0.59158416, 0.59158416, 0.59405941, 0.59405941,\n",
       "       0.59529703, 0.59529703, 0.5990099 , 0.5990099 , 0.60024752,\n",
       "       0.60024752, 0.6039604 , 0.6039604 , 0.60767327, 0.60767327,\n",
       "       0.60891089, 0.60891089, 0.61262376, 0.61262376, 0.61386139,\n",
       "       0.61386139, 0.61509901, 0.61509901, 0.61633663, 0.61633663,\n",
       "       0.61881188, 0.61881188, 0.6200495 , 0.6200495 , 0.62128713,\n",
       "       0.62128713, 0.62252475, 0.62252475, 0.63118812, 0.63118812,\n",
       "       0.63366337, 0.63366337, 0.63613861, 0.63613861, 0.63985149,\n",
       "       0.63985149, 0.64480198, 0.64480198, 0.6460396 , 0.6460396 ,\n",
       "       0.65346535, 0.65346535, 0.65470297, 0.65470297, 0.65594059,\n",
       "       0.65594059, 0.65717822, 0.65717822, 0.65841584, 0.65841584,\n",
       "       0.66089109, 0.66089109, 0.66212871, 0.66212871, 0.66584158,\n",
       "       0.66584158, 0.67079208, 0.67079208, 0.6769802 , 0.6769802 ,\n",
       "       0.67945545, 0.67945545, 0.68069307, 0.68069307, 0.68193069,\n",
       "       0.68193069, 0.68316832, 0.68316832, 0.68935644, 0.68935644,\n",
       "       0.69306931, 0.69306931, 0.69430693, 0.69430693, 0.6980198 ,\n",
       "       0.6980198 , 0.70173267, 0.70173267, 0.7029703 , 0.7029703 ,\n",
       "       0.70420792, 0.70420792, 0.70668317, 0.70668317, 0.70792079,\n",
       "       0.70792079, 0.71039604, 0.71039604, 0.71163366, 0.71163366,\n",
       "       0.71287129, 0.71287129, 0.71905941, 0.71905941, 0.72029703,\n",
       "       0.72029703, 0.72153465, 0.72153465, 0.7240099 , 0.7240099 ,\n",
       "       0.72772277, 0.72772277, 0.7289604 , 0.7289604 , 0.73143564,\n",
       "       0.73143564, 0.73514851, 0.73514851, 0.73638614, 0.73638614,\n",
       "       0.73762376, 0.73762376, 0.73886139, 0.73886139, 0.74009901,\n",
       "       0.74009901, 0.74133663, 0.74133663, 0.7450495 , 0.7450495 ,\n",
       "       0.74628713, 0.74628713, 0.75      , 0.75      , 0.75123762,\n",
       "       0.75123762, 0.75247525, 0.75247525, 0.75618812, 0.75618812,\n",
       "       0.75742574, 0.75742574, 0.76113861, 0.76113861, 0.76237624,\n",
       "       0.76237624, 0.76485149, 0.76485149, 0.76856436, 0.76856436,\n",
       "       0.76980198, 0.76980198, 0.77475248, 0.77475248, 0.7759901 ,\n",
       "       0.7759901 , 0.77846535, 0.77846535, 0.77970297, 0.77970297,\n",
       "       0.78217822, 0.78217822, 0.78589109, 0.78589109, 0.78712871,\n",
       "       0.78712871, 0.78836634, 0.78836634, 0.79084158, 0.79084158,\n",
       "       0.79207921, 0.79207921, 0.79331683, 0.79331683, 0.79455446,\n",
       "       0.79455446, 0.79579208, 0.79579208, 0.7970297 , 0.7970297 ,\n",
       "       0.79826733, 0.79826733, 0.80074257, 0.80074257, 0.8019802 ,\n",
       "       0.8019802 , 0.80321782, 0.80321782, 0.80569307, 0.80569307,\n",
       "       0.80693069, 0.80693069, 0.80816832, 0.80816832, 0.80940594,\n",
       "       0.80940594, 0.81064356, 0.81064356, 0.81188119, 0.81188119,\n",
       "       0.81311881, 0.81311881, 0.81806931, 0.81806931, 0.81930693,\n",
       "       0.81930693, 0.82054455, 0.82054455, 0.82178218, 0.82178218,\n",
       "       0.82425743, 0.82425743, 0.82549505, 0.82549505, 0.8279703 ,\n",
       "       0.8279703 , 0.83044554, 0.83044554, 0.83168317, 0.83168317,\n",
       "       0.83292079, 0.83292079, 0.83415842, 0.83415842, 0.83539604,\n",
       "       0.83539604, 0.83787129, 0.83787129, 0.83910891, 0.83910891,\n",
       "       0.84034653, 0.84034653, 0.84158416, 0.84158416, 0.84282178,\n",
       "       0.84282178, 0.84405941, 0.84405941, 0.84529703, 0.84529703,\n",
       "       0.84777228, 0.84777228, 0.85024752, 0.85024752, 0.85148515,\n",
       "       0.85148515, 0.85272277, 0.85272277, 0.8539604 , 0.8539604 ,\n",
       "       0.85519802, 0.85519802, 0.85643564, 0.85643564, 0.85767327,\n",
       "       0.85767327, 0.85891089, 0.85891089, 0.86014851, 0.86014851,\n",
       "       0.86262376, 0.86262376, 0.86386139, 0.86386139, 0.86509901,\n",
       "       0.86509901, 0.86881188, 0.86881188, 0.8700495 , 0.8700495 ,\n",
       "       0.87376238, 0.87376238, 0.875     , 0.875     , 0.87623762,\n",
       "       0.87623762, 0.87747525, 0.87747525, 0.87871287, 0.87871287,\n",
       "       0.8799505 , 0.8799505 , 0.88118812, 0.88118812, 0.88490099,\n",
       "       0.88490099, 0.88613861, 0.88613861, 0.88737624, 0.88737624,\n",
       "       0.88861386, 0.88861386, 0.88985149, 0.88985149, 0.89108911,\n",
       "       0.89108911, 0.89232673, 0.89232673, 0.89480198, 0.89480198,\n",
       "       0.89727723, 0.89727723, 0.89851485, 0.89851485, 0.89975248,\n",
       "       0.89975248, 0.9009901 , 0.9009901 , 0.90346535, 0.90346535,\n",
       "       0.90470297, 0.90470297, 0.90594059, 0.90594059, 0.90717822,\n",
       "       0.90717822, 0.90841584, 0.90841584, 0.91089109, 0.91089109,\n",
       "       0.91212871, 0.91212871, 0.91336634, 0.91336634, 0.91460396,\n",
       "       0.91460396, 0.91584158, 0.91584158, 0.91831683, 0.91831683,\n",
       "       0.91955446, 0.91955446, 0.92079208, 0.92079208, 0.9220297 ,\n",
       "       0.9220297 , 0.92326733, 0.92326733, 0.92450495, 0.92450495,\n",
       "       0.92574257, 0.92574257, 0.9269802 , 0.9269802 , 0.92821782,\n",
       "       0.92821782, 0.92945545, 0.92945545, 0.93193069, 0.93193069,\n",
       "       0.93316832, 0.93316832, 0.93440594, 0.93440594, 0.93564356,\n",
       "       0.93564356, 0.93688119, 0.93688119, 0.93811881, 0.93811881,\n",
       "       0.94059406, 0.94059406, 0.94183168, 0.94183168, 0.94306931,\n",
       "       0.94306931, 0.94430693, 0.94430693, 0.94554455, 0.94554455,\n",
       "       0.94678218, 0.94678218, 0.9480198 , 0.9480198 , 0.94925743,\n",
       "       0.94925743, 0.95049505, 0.95049505, 0.95173267, 0.95173267,\n",
       "       0.9529703 , 0.9529703 , 0.95420792, 0.95420792, 0.95544554,\n",
       "       0.95544554, 0.95668317, 0.95668317, 0.95792079, 0.95792079,\n",
       "       0.96287129, 0.96287129, 0.96534653, 0.96534653, 0.96658416,\n",
       "       0.96658416, 0.96782178, 0.96782178, 0.96905941, 0.96905941,\n",
       "       0.97029703, 0.97029703, 0.97277228, 0.97277228, 0.9740099 ,\n",
       "       0.9740099 , 0.97524752, 0.97524752, 0.97648515, 0.97648515,\n",
       "       0.97772277, 0.97772277, 0.98019802, 0.98019802, 0.98267327,\n",
       "       0.98267327, 0.98391089, 0.98391089, 0.98514851, 0.98514851,\n",
       "       0.98638614, 0.98638614, 0.98886139, 0.98886139, 0.99009901,\n",
       "       0.99009901, 0.99133663, 0.99133663, 0.99257426, 0.99257426,\n",
       "       0.99381188, 0.99381188, 0.9950495 , 0.9950495 , 0.99628713,\n",
       "       0.99628713, 0.99752475, 0.99752475, 0.99876238, 0.99876238,\n",
       "       1.        , 1.        ])"
      ]
     },
     "execution_count": 38,
     "metadata": {},
     "output_type": "execute_result"
    }
   ],
   "source": [
    "tpr"
   ]
  },
  {
   "cell_type": "code",
   "execution_count": 39,
   "id": "86b730bd",
   "metadata": {},
   "outputs": [
    {
     "data": {
      "text/plain": [
       "[<matplotlib.lines.Line2D at 0x1620a520b90>]"
      ]
     },
     "execution_count": 39,
     "metadata": {},
     "output_type": "execute_result"
    },
    {
     "data": {
      "image/png": "[encoded data removed]",
      "text/plain": [
       "<Figure size 640x480 with 1 Axes>"
      ]
     },
     "metadata": {},
     "output_type": "display_data"
    }
   ],
   "source": [
    "plt.plot(fpr,tpr)"
   ]
  },
  {
   "cell_type": "code",
   "execution_count": 40,
   "id": "cdf882c9",
   "metadata": {},
   "outputs": [],
   "source": [
    "#PRC\n",
    "from sklearn.metrics import precision_recall_curve\n",
    "from sklearn.metrics import f1_score"
   ]
  },
  {
   "cell_type": "code",
   "execution_count": 41,
   "id": "ec1871cf",
   "metadata": {},
   "outputs": [],
   "source": [
    "precision,recall,thershold=precision_recall_curve(y_te,df.iloc[:,1])"
   ]
  },
  {
   "cell_type": "code",
   "execution_count": 42,
   "id": "b789c389",
   "metadata": {},
   "outputs": [
    {
     "data": {
      "text/plain": [
       "array([0.404    , 0.4042021, 0.4044044, ..., 0.5      , 1.       ,\n",
       "       1.       ])"
      ]
     },
     "execution_count": 42,
     "metadata": {},
     "output_type": "execute_result"
    }
   ],
   "source": [
    "precision"
   ]
  },
  {
   "cell_type": "code",
   "execution_count": 43,
   "id": "fe6c8b25",
   "metadata": {},
   "outputs": [
    {
     "data": {
      "text/plain": [
       "array([1.        , 1.        , 1.        , ..., 0.00123762, 0.00123762,\n",
       "       0.        ])"
      ]
     },
     "execution_count": 43,
     "metadata": {},
     "output_type": "execute_result"
    }
   ],
   "source": [
    "recall"
   ]
  },
  {
   "cell_type": "code",
   "execution_count": 44,
   "id": "cbe0c11a",
   "metadata": {},
   "outputs": [
    {
     "data": {
      "text/plain": [
       "Text(0.5, 1.0, 'Precision-Recall')"
      ]
     },
     "execution_count": 44,
     "metadata": {},
     "output_type": "execute_result"
    },
    {
     "data": {
      "image/png": "[encoded data removed]",
      "text/plain": [
       "<Figure size 640x480 with 1 Axes>"
      ]
     },
     "metadata": {},
     "output_type": "display_data"
    }
   ],
   "source": [
    "plt.plot(recall,precision,label=\"PRC-Curve\")\n",
    "plt.xlabel(\"recall\")\n",
    "plt.ylabel(\"precision\")\n",
    "plt.legend(loc=\"upper left\")\n",
    "plt.title(\"Precision-Recall\")"
   ]
  },
  {
   "cell_type": "code",
   "execution_count": 45,
   "id": "cbe4386e",
   "metadata": {},
   "outputs": [
    {
     "data": {
      "text/plain": [
       "0.7885906040268457"
      ]
     },
     "execution_count": 45,
     "metadata": {},
     "output_type": "execute_result"
    }
   ],
   "source": [
    "#tpr=tp/(tp+fn)\n",
    "tpr=940/(940+252)\n",
    "tpr"
   ]
  },
  {
   "cell_type": "code",
   "execution_count": 46,
   "id": "402eb133",
   "metadata": {},
   "outputs": [
    {
     "data": {
      "text/plain": [
       "0.2599009900990099"
      ]
     },
     "execution_count": 46,
     "metadata": {},
     "output_type": "execute_result"
    }
   ],
   "source": [
    "#fpr=fp/(fp+tn)\n",
    "fpr=210/(210+598)\n",
    "fpr"
   ]
  },
  {
   "cell_type": "code",
   "execution_count": 47,
   "id": "cdbd292c",
   "metadata": {},
   "outputs": [
    {
     "data": {
      "text/plain": [
       "0.8173913043478261"
      ]
     },
     "execution_count": 47,
     "metadata": {},
     "output_type": "execute_result"
    }
   ],
   "source": [
    "#precision=tp/(tp+fp)\n",
    "precision=940/(940+210)\n",
    "precision"
   ]
  },
  {
   "cell_type": "code",
   "execution_count": 48,
   "id": "42f11155",
   "metadata": {},
   "outputs": [
    {
     "data": {
      "text/plain": [
       "0.8027327070879591"
      ]
     },
     "execution_count": 48,
     "metadata": {},
     "output_type": "execute_result"
    }
   ],
   "source": [
    "#f1score=2(precesion*recall)/(precision+recall)\n",
    "f1score=(2*(precision*tpr))/(precision+tpr)\n",
    "f1score"
   ]
  },
  {
   "cell_type": "markdown",
   "id": "d32c590a",
   "metadata": {},
   "source": [
    "# Decision Tree"
   ]
  },
  {
   "cell_type": "code",
   "execution_count": 49,
   "id": "ac5a01f7",
   "metadata": {},
   "outputs": [],
   "source": [
    "from sklearn.tree import DecisionTreeClassifier\n",
    "dt=DecisionTreeClassifier()"
   ]
  },
  {
   "cell_type": "code",
   "execution_count": 50,
   "id": "f2d36789",
   "metadata": {},
   "outputs": [
    {
     "data": {
      "text/html": [
       "<style>#sk-container-id-2 {color: black;}#sk-container-id-2 pre{padding: 0;}#sk-container-id-2 div.sk-toggleable {background-color: white;}#sk-container-id-2 label.sk-toggleable__label {cursor: pointer;display: block;width: 100%;margin-bottom: 0;padding: 0.3em;box-sizing: border-box;text-align: center;}#sk-container-id-2 label.sk-toggleable__label-arrow:before {content: \"▸\";float: left;margin-right: 0.25em;color: #696969;}#sk-container-id-2 label.sk-toggleable__label-arrow:hover:before {color: black;}#sk-container-id-2 div.sk-estimator:hover label.sk-toggleable__label-arrow:before {color: black;}#sk-container-id-2 div.sk-toggleable__content {max-height: 0;max-width: 0;overflow: hidden;text-align: left;background-color: #f0f8ff;}#sk-container-id-2 div.sk-toggleable__content pre {margin: 0.2em;color: black;border-radius: 0.25em;background-color: #f0f8ff;}#sk-container-id-2 input.sk-toggleable__control:checked~div.sk-toggleable__content {max-height: 200px;max-width: 100%;overflow: auto;}#sk-container-id-2 input.sk-toggleable__control:checked~label.sk-toggleable__label-arrow:before {content: \"▾\";}#sk-container-id-2 div.sk-estimator input.sk-toggleable__control:checked~label.sk-toggleable__label {background-color: #d4ebff;}#sk-container-id-2 div.sk-label input.sk-toggleable__control:checked~label.sk-toggleable__label {background-color: #d4ebff;}#sk-container-id-2 input.sk-hidden--visually {border: 0;clip: rect(1px 1px 1px 1px);clip: rect(1px, 1px, 1px, 1px);height: 1px;margin: -1px;overflow: hidden;padding: 0;position: absolute;width: 1px;}#sk-container-id-2 div.sk-estimator {font-family: monospace;background-color: #f0f8ff;border: 1px dotted black;border-radius: 0.25em;box-sizing: border-box;margin-bottom: 0.5em;}#sk-container-id-2 div.sk-estimator:hover {background-color: #d4ebff;}#sk-container-id-2 div.sk-parallel-item::after {content: \"\";width: 100%;border-bottom: 1px solid gray;flex-grow: 1;}#sk-container-id-2 div.sk-label:hover label.sk-toggleable__label {background-color: #d4ebff;}#sk-container-id-2 div.sk-serial::before {content: \"\";position: absolute;border-left: 1px solid gray;box-sizing: border-box;top: 0;bottom: 0;left: 50%;z-index: 0;}#sk-container-id-2 div.sk-serial {display: flex;flex-direction: column;align-items: center;background-color: white;padding-right: 0.2em;padding-left: 0.2em;position: relative;}#sk-container-id-2 div.sk-item {position: relative;z-index: 1;}#sk-container-id-2 div.sk-parallel {display: flex;align-items: stretch;justify-content: center;background-color: white;position: relative;}#sk-container-id-2 div.sk-item::before, #sk-container-id-2 div.sk-parallel-item::before {content: \"\";position: absolute;border-left: 1px solid gray;box-sizing: border-box;top: 0;bottom: 0;left: 50%;z-index: -1;}#sk-container-id-2 div.sk-parallel-item {display: flex;flex-direction: column;z-index: 1;position: relative;background-color: white;}#sk-container-id-2 div.sk-parallel-item:first-child::after {align-self: flex-end;width: 50%;}#sk-container-id-2 div.sk-parallel-item:last-child::after {align-self: flex-start;width: 50%;}#sk-container-id-2 div.sk-parallel-item:only-child::after {width: 0;}#sk-container-id-2 div.sk-dashed-wrapped {border: 1px dashed gray;margin: 0 0.4em 0.5em 0.4em;box-sizing: border-box;padding-bottom: 0.4em;background-color: white;}#sk-container-id-2 div.sk-label label {font-family: monospace;font-weight: bold;display: inline-block;line-height: 1.2em;}#sk-container-id-2 div.sk-label-container {text-align: center;}#sk-container-id-2 div.sk-container {/* jupyter's `normalize.less` sets `[hidden] { display: none; }` but bootstrap.min.css set `[hidden] { display: none !important; }` so we also need the `!important` here to be able to override the default hidden behavior on the sphinx rendered scikit-learn.org. See: https://github.com/scikit-learn/scikit-learn/issues/21755 */display: inline-block !important;position: relative;}#sk-container-id-2 div.sk-text-repr-fallback {display: none;}</style><div id=\"sk-container-id-2\" class=\"sk-top-container\"><div class=\"sk-text-repr-fallback\"><pre>DecisionTreeClassifier()</pre><b>In a Jupyter environment, please rerun this cell to show the HTML representation or trust the notebook. <br />On GitHub, the HTML representation is unable to render, please try loading this page with nbviewer.org.</b></div><div class=\"sk-container\" hidden><div class=\"sk-item\"><div class=\"sk-estimator sk-toggleable\"><input class=\"sk-toggleable__control sk-hidden--visually\" id=\"sk-estimator-id-2\" type=\"checkbox\" checked><label for=\"sk-estimator-id-2\" class=\"sk-toggleable__label sk-toggleable__label-arrow\">DecisionTreeClassifier</label><div class=\"sk-toggleable__content\"><pre>DecisionTreeClassifier()</pre></div></div></div></div></div>"
      ],
      "text/plain": [
       "DecisionTreeClassifier()"
      ]
     },
     "execution_count": 50,
     "metadata": {},
     "output_type": "execute_result"
    }
   ],
   "source": [
    "dt.fit(x_tr,y_tr)"
   ]
  },
  {
   "cell_type": "code",
   "execution_count": 51,
   "id": "e6b69843",
   "metadata": {},
   "outputs": [
    {
     "data": {
      "text/plain": [
       "array([0, 0, 0, ..., 0, 0, 0])"
      ]
     },
     "execution_count": 51,
     "metadata": {},
     "output_type": "execute_result"
    }
   ],
   "source": [
    "dt_p=dt.predict(x_te)\n",
    "dt_p"
   ]
  },
  {
   "cell_type": "code",
   "execution_count": 52,
   "id": "546cdcc2",
   "metadata": {},
   "outputs": [
    {
     "data": {
      "text/plain": [
       "array([[897, 262],\n",
       "       [295, 546]], dtype=int64)"
      ]
     },
     "execution_count": 52,
     "metadata": {},
     "output_type": "execute_result"
    }
   ],
   "source": [
    "dt_m=confusion_matrix(dt_p,y_te)\n",
    "dt_m"
   ]
  },
  {
   "cell_type": "code",
   "execution_count": 53,
   "id": "32af6338",
   "metadata": {},
   "outputs": [
    {
     "data": {
      "text/plain": [
       "72.15"
      ]
     },
     "execution_count": 53,
     "metadata": {},
     "output_type": "execute_result"
    }
   ],
   "source": [
    "dt_acc=dt_m.diagonal().sum()/dt_m.sum()*100\n",
    "dt_acc"
   ]
  },
  {
   "cell_type": "code",
   "execution_count": 54,
   "id": "479cf24a",
   "metadata": {},
   "outputs": [
    {
     "data": {
      "text/plain": [
       "array([0.10719609, 0.03368219, 0.03513069, 0.03877111, 0.15161223,\n",
       "       0.08756333, 0.04815197, 0.02170673, 0.11995165, 0.35623403])"
      ]
     },
     "execution_count": 54,
     "metadata": {},
     "output_type": "execute_result"
    }
   ],
   "source": [
    "dt.feature_importances_"
   ]
  },
  {
   "cell_type": "code",
   "execution_count": 55,
   "id": "d0128ff5",
   "metadata": {},
   "outputs": [
    {
     "data": {
      "text/html": [
       "<div>\n",
       "<style scoped>\n",
       "    .dataframe tbody tr th:only-of-type {\n",
       "        vertical-align: middle;\n",
       "    }\n",
       "\n",
       "    .dataframe tbody tr th {\n",
       "        vertical-align: top;\n",
       "    }\n",
       "\n",
       "    .dataframe thead th {\n",
       "        text-align: right;\n",
       "    }\n",
       "</style>\n",
       "<table border=\"1\" class=\"dataframe\">\n",
       "  <thead>\n",
       "    <tr style=\"text-align: right;\">\n",
       "      <th></th>\n",
       "      <th>Importances</th>\n",
       "      <th>columns</th>\n",
       "    </tr>\n",
       "  </thead>\n",
       "  <tbody>\n",
       "    <tr>\n",
       "      <th>0</th>\n",
       "      <td>0.107196</td>\n",
       "      <td>CGPA</td>\n",
       "    </tr>\n",
       "    <tr>\n",
       "      <th>1</th>\n",
       "      <td>0.033682</td>\n",
       "      <td>Internships</td>\n",
       "    </tr>\n",
       "    <tr>\n",
       "      <th>2</th>\n",
       "      <td>0.035131</td>\n",
       "      <td>Projects</td>\n",
       "    </tr>\n",
       "    <tr>\n",
       "      <th>3</th>\n",
       "      <td>0.038771</td>\n",
       "      <td>Workshops/Certifications</td>\n",
       "    </tr>\n",
       "    <tr>\n",
       "      <th>4</th>\n",
       "      <td>0.151612</td>\n",
       "      <td>AptitudeTestScore</td>\n",
       "    </tr>\n",
       "    <tr>\n",
       "      <th>5</th>\n",
       "      <td>0.087563</td>\n",
       "      <td>SoftSkillsRating</td>\n",
       "    </tr>\n",
       "    <tr>\n",
       "      <th>6</th>\n",
       "      <td>0.048152</td>\n",
       "      <td>ExtracurricularActivities</td>\n",
       "    </tr>\n",
       "    <tr>\n",
       "      <th>7</th>\n",
       "      <td>0.021707</td>\n",
       "      <td>PlacementTraining</td>\n",
       "    </tr>\n",
       "    <tr>\n",
       "      <th>8</th>\n",
       "      <td>0.119952</td>\n",
       "      <td>SSC_Marks</td>\n",
       "    </tr>\n",
       "    <tr>\n",
       "      <th>9</th>\n",
       "      <td>0.356234</td>\n",
       "      <td>HSC_Marks</td>\n",
       "    </tr>\n",
       "  </tbody>\n",
       "</table>\n",
       "</div>"
      ],
      "text/plain": [
       "   Importances                    columns\n",
       "0     0.107196                       CGPA\n",
       "1     0.033682                Internships\n",
       "2     0.035131                   Projects\n",
       "3     0.038771   Workshops/Certifications\n",
       "4     0.151612          AptitudeTestScore\n",
       "5     0.087563           SoftSkillsRating\n",
       "6     0.048152  ExtracurricularActivities\n",
       "7     0.021707          PlacementTraining\n",
       "8     0.119952                  SSC_Marks\n",
       "9     0.356234                  HSC_Marks"
      ]
     },
     "execution_count": 55,
     "metadata": {},
     "output_type": "execute_result"
    }
   ],
   "source": [
    "dt_df=pd.DataFrame({\"Importances\":list(dt.feature_importances_),\"columns\":list(x)})\n",
    "dt_df"
   ]
  },
  {
   "cell_type": "code",
   "execution_count": 56,
   "id": "7c9280f4",
   "metadata": {},
   "outputs": [
    {
     "name": "stdout",
     "output_type": "stream",
     "text": [
      "              precision    recall  f1-score   support\n",
      "\n",
      "           0       0.75      0.77      0.76      1159\n",
      "           1       0.68      0.65      0.66       841\n",
      "\n",
      "    accuracy                           0.72      2000\n",
      "   macro avg       0.71      0.71      0.71      2000\n",
      "weighted avg       0.72      0.72      0.72      2000\n",
      "\n"
     ]
    }
   ],
   "source": [
    "print(classification_report(dt_p,y_te))"
   ]
  },
  {
   "cell_type": "code",
   "execution_count": 57,
   "id": "f12c1e3e",
   "metadata": {},
   "outputs": [
    {
     "data": {
      "text/plain": [
       "0.7533557046979866"
      ]
     },
     "execution_count": 57,
     "metadata": {},
     "output_type": "execute_result"
    }
   ],
   "source": [
    "#tpr=tp/(tp+fn)\n",
    "tpr1=898/(898+294)\n",
    "tpr1"
   ]
  },
  {
   "cell_type": "code",
   "execution_count": 58,
   "id": "8f011263",
   "metadata": {},
   "outputs": [
    {
     "data": {
      "text/plain": [
       "0.3292079207920792"
      ]
     },
     "execution_count": 58,
     "metadata": {},
     "output_type": "execute_result"
    }
   ],
   "source": [
    "#fpr=fp/(fp+tn)\n",
    "fpr1=266/(266+542)\n",
    "fpr1"
   ]
  },
  {
   "cell_type": "code",
   "execution_count": 59,
   "id": "5a1f88be",
   "metadata": {},
   "outputs": [
    {
     "data": {
      "text/plain": [
       "0.7714776632302406"
      ]
     },
     "execution_count": 59,
     "metadata": {},
     "output_type": "execute_result"
    }
   ],
   "source": [
    "#precision=tp/(tp+fp)\n",
    "precesion1=898/(898+266)\n",
    "precesion1"
   ]
  },
  {
   "cell_type": "code",
   "execution_count": 60,
   "id": "a8f31658",
   "metadata": {},
   "outputs": [
    {
     "data": {
      "text/plain": [
       "0.7623089983022072"
      ]
     },
     "execution_count": 60,
     "metadata": {},
     "output_type": "execute_result"
    }
   ],
   "source": [
    "#f1score=2(precesion*recall)/(precision+recall)\n",
    "f1score1=(2*(precesion1*tpr1))/(precesion1+tpr1)\n",
    "f1score1"
   ]
  },
  {
   "cell_type": "markdown",
   "id": "e303576a",
   "metadata": {},
   "source": [
    "# Random Forest"
   ]
  },
  {
   "cell_type": "code",
   "execution_count": 61,
   "id": "f925fd1c",
   "metadata": {},
   "outputs": [],
   "source": [
    "from sklearn.ensemble import RandomForestClassifier\n",
    "rf=RandomForestClassifier()"
   ]
  },
  {
   "cell_type": "code",
   "execution_count": 62,
   "id": "531d5492",
   "metadata": {},
   "outputs": [
    {
     "data": {
      "text/html": [
       "<style>#sk-container-id-3 {color: black;}#sk-container-id-3 pre{padding: 0;}#sk-container-id-3 div.sk-toggleable {background-color: white;}#sk-container-id-3 label.sk-toggleable__label {cursor: pointer;display: block;width: 100%;margin-bottom: 0;padding: 0.3em;box-sizing: border-box;text-align: center;}#sk-container-id-3 label.sk-toggleable__label-arrow:before {content: \"▸\";float: left;margin-right: 0.25em;color: #696969;}#sk-container-id-3 label.sk-toggleable__label-arrow:hover:before {color: black;}#sk-container-id-3 div.sk-estimator:hover label.sk-toggleable__label-arrow:before {color: black;}#sk-container-id-3 div.sk-toggleable__content {max-height: 0;max-width: 0;overflow: hidden;text-align: left;background-color: #f0f8ff;}#sk-container-id-3 div.sk-toggleable__content pre {margin: 0.2em;color: black;border-radius: 0.25em;background-color: #f0f8ff;}#sk-container-id-3 input.sk-toggleable__control:checked~div.sk-toggleable__content {max-height: 200px;max-width: 100%;overflow: auto;}#sk-container-id-3 input.sk-toggleable__control:checked~label.sk-toggleable__label-arrow:before {content: \"▾\";}#sk-container-id-3 div.sk-estimator input.sk-toggleable__control:checked~label.sk-toggleable__label {background-color: #d4ebff;}#sk-container-id-3 div.sk-label input.sk-toggleable__control:checked~label.sk-toggleable__label {background-color: #d4ebff;}#sk-container-id-3 input.sk-hidden--visually {border: 0;clip: rect(1px 1px 1px 1px);clip: rect(1px, 1px, 1px, 1px);height: 1px;margin: -1px;overflow: hidden;padding: 0;position: absolute;width: 1px;}#sk-container-id-3 div.sk-estimator {font-family: monospace;background-color: #f0f8ff;border: 1px dotted black;border-radius: 0.25em;box-sizing: border-box;margin-bottom: 0.5em;}#sk-container-id-3 div.sk-estimator:hover {background-color: #d4ebff;}#sk-container-id-3 div.sk-parallel-item::after {content: \"\";width: 100%;border-bottom: 1px solid gray;flex-grow: 1;}#sk-container-id-3 div.sk-label:hover label.sk-toggleable__label {background-color: #d4ebff;}#sk-container-id-3 div.sk-serial::before {content: \"\";position: absolute;border-left: 1px solid gray;box-sizing: border-box;top: 0;bottom: 0;left: 50%;z-index: 0;}#sk-container-id-3 div.sk-serial {display: flex;flex-direction: column;align-items: center;background-color: white;padding-right: 0.2em;padding-left: 0.2em;position: relative;}#sk-container-id-3 div.sk-item {position: relative;z-index: 1;}#sk-container-id-3 div.sk-parallel {display: flex;align-items: stretch;justify-content: center;background-color: white;position: relative;}#sk-container-id-3 div.sk-item::before, #sk-container-id-3 div.sk-parallel-item::before {content: \"\";position: absolute;border-left: 1px solid gray;box-sizing: border-box;top: 0;bottom: 0;left: 50%;z-index: -1;}#sk-container-id-3 div.sk-parallel-item {display: flex;flex-direction: column;z-index: 1;position: relative;background-color: white;}#sk-container-id-3 div.sk-parallel-item:first-child::after {align-self: flex-end;width: 50%;}#sk-container-id-3 div.sk-parallel-item:last-child::after {align-self: flex-start;width: 50%;}#sk-container-id-3 div.sk-parallel-item:only-child::after {width: 0;}#sk-container-id-3 div.sk-dashed-wrapped {border: 1px dashed gray;margin: 0 0.4em 0.5em 0.4em;box-sizing: border-box;padding-bottom: 0.4em;background-color: white;}#sk-container-id-3 div.sk-label label {font-family: monospace;font-weight: bold;display: inline-block;line-height: 1.2em;}#sk-container-id-3 div.sk-label-container {text-align: center;}#sk-container-id-3 div.sk-container {/* jupyter's `normalize.less` sets `[hidden] { display: none; }` but bootstrap.min.css set `[hidden] { display: none !important; }` so we also need the `!important` here to be able to override the default hidden behavior on the sphinx rendered scikit-learn.org. See: https://github.com/scikit-learn/scikit-learn/issues/21755 */display: inline-block !important;position: relative;}#sk-container-id-3 div.sk-text-repr-fallback {display: none;}</style><div id=\"sk-container-id-3\" class=\"sk-top-container\"><div class=\"sk-text-repr-fallback\"><pre>RandomForestClassifier()</pre><b>In a Jupyter environment, please rerun this cell to show the HTML representation or trust the notebook. <br />On GitHub, the HTML representation is unable to render, please try loading this page with nbviewer.org.</b></div><div class=\"sk-container\" hidden><div class=\"sk-item\"><div class=\"sk-estimator sk-toggleable\"><input class=\"sk-toggleable__control sk-hidden--visually\" id=\"sk-estimator-id-3\" type=\"checkbox\" checked><label for=\"sk-estimator-id-3\" class=\"sk-toggleable__label sk-toggleable__label-arrow\">RandomForestClassifier</label><div class=\"sk-toggleable__content\"><pre>RandomForestClassifier()</pre></div></div></div></div></div>"
      ],
      "text/plain": [
       "RandomForestClassifier()"
      ]
     },
     "execution_count": 62,
     "metadata": {},
     "output_type": "execute_result"
    }
   ],
   "source": [
    "rf.fit(x_tr,y_tr)"
   ]
  },
  {
   "cell_type": "code",
   "execution_count": 63,
   "id": "9aeaeb7f",
   "metadata": {},
   "outputs": [
    {
     "data": {
      "text/plain": [
       "array([0, 0, 1, ..., 0, 1, 0])"
      ]
     },
     "execution_count": 63,
     "metadata": {},
     "output_type": "execute_result"
    }
   ],
   "source": [
    "rf_p=rf.predict(x_te)\n",
    "rf_p"
   ]
  },
  {
   "cell_type": "code",
   "execution_count": 64,
   "id": "416b1fce",
   "metadata": {},
   "outputs": [
    {
     "data": {
      "text/plain": [
       "array([[999, 233],\n",
       "       [193, 575]], dtype=int64)"
      ]
     },
     "execution_count": 64,
     "metadata": {},
     "output_type": "execute_result"
    }
   ],
   "source": [
    "rf_m=confusion_matrix(rf_p,y_te)\n",
    "rf_m"
   ]
  },
  {
   "cell_type": "code",
   "execution_count": 65,
   "id": "48597cfd",
   "metadata": {},
   "outputs": [
    {
     "data": {
      "text/plain": [
       "78.7"
      ]
     },
     "execution_count": 65,
     "metadata": {},
     "output_type": "execute_result"
    }
   ],
   "source": [
    "rf_acc=rf_m.diagonal().sum()/rf_m.sum()*100\n",
    "rf_acc"
   ]
  },
  {
   "cell_type": "code",
   "execution_count": 66,
   "id": "16c2eea2",
   "metadata": {},
   "outputs": [
    {
     "name": "stdout",
     "output_type": "stream",
     "text": [
      "              precision    recall  f1-score   support\n",
      "\n",
      "           0       0.84      0.81      0.82      1232\n",
      "           1       0.71      0.75      0.73       768\n",
      "\n",
      "    accuracy                           0.79      2000\n",
      "   macro avg       0.77      0.78      0.78      2000\n",
      "weighted avg       0.79      0.79      0.79      2000\n",
      "\n"
     ]
    }
   ],
   "source": [
    "print(classification_report(rf_p,y_te))"
   ]
  },
  {
   "cell_type": "code",
   "execution_count": 67,
   "id": "86b6d359",
   "metadata": {},
   "outputs": [
    {
     "data": {
      "text/plain": [
       "0.8416175231676495"
      ]
     },
     "execution_count": 67,
     "metadata": {},
     "output_type": "execute_result"
    }
   ],
   "source": [
    "#tpr=tp/(tp+fn)\n",
    "tpr2=999/(994+193)\n",
    "tpr2"
   ]
  },
  {
   "cell_type": "code",
   "execution_count": 68,
   "id": "427a9f88",
   "metadata": {},
   "outputs": [
    {
     "data": {
      "text/plain": [
       "0.2751842751842752"
      ]
     },
     "execution_count": 68,
     "metadata": {},
     "output_type": "execute_result"
    }
   ],
   "source": [
    "#fpr=fp/(fp+tn)\n",
    "fpr2=224/(230+584)\n",
    "fpr2"
   ]
  },
  {
   "cell_type": "code",
   "execution_count": 69,
   "id": "091142bc",
   "metadata": {},
   "outputs": [
    {
     "data": {
      "text/plain": [
       "0.8168438266557645"
      ]
     },
     "execution_count": 69,
     "metadata": {},
     "output_type": "execute_result"
    }
   ],
   "source": [
    "#precision=tp/(tp+fp)\n",
    "precesion2=999/(999+224)\n",
    "precesion2"
   ]
  },
  {
   "cell_type": "code",
   "execution_count": 70,
   "id": "d31627f7",
   "metadata": {},
   "outputs": [
    {
     "data": {
      "text/plain": [
       "0.8290456431535269"
      ]
     },
     "execution_count": 70,
     "metadata": {},
     "output_type": "execute_result"
    }
   ],
   "source": [
    "#f1score=2(precesion*recall)/(precision+recall)\n",
    "f1score2=(2*(precesion2*tpr2))/(precesion2+tpr2)\n",
    "f1score2"
   ]
  },
  {
   "cell_type": "code",
   "execution_count": 71,
   "id": "40c4addc",
   "metadata": {},
   "outputs": [],
   "source": [
    "precision,recall,threshold=precision_recall_curve(y_te,rf_p)"
   ]
  },
  {
   "cell_type": "code",
   "execution_count": 72,
   "id": "e0744615",
   "metadata": {},
   "outputs": [
    {
     "data": {
      "image/png": "[encoded data removed]",
      "text/plain": [
       "<Figure size 640x480 with 1 Axes>"
      ]
     },
     "metadata": {},
     "output_type": "display_data"
    }
   ],
   "source": [
    "fig,ax=plt.subplots()\n",
    "ax.plot(recall,precision,color=\"purple\")\n",
    "plt.show()"
   ]
  },
  {
   "cell_type": "markdown",
   "id": "ee9d0378",
   "metadata": {},
   "source": [
    "# knn"
   ]
  },
  {
   "cell_type": "code",
   "execution_count": 73,
   "id": "ebf5bd40",
   "metadata": {},
   "outputs": [],
   "source": [
    "from sklearn.neighbors import KNeighborsClassifier\n",
    "knn=KNeighborsClassifier(n_neighbors=15)"
   ]
  },
  {
   "cell_type": "code",
   "execution_count": 74,
   "id": "269b0fd3",
   "metadata": {},
   "outputs": [
    {
     "data": {
      "text/html": [
       "<style>#sk-container-id-4 {color: black;}#sk-container-id-4 pre{padding: 0;}#sk-container-id-4 div.sk-toggleable {background-color: white;}#sk-container-id-4 label.sk-toggleable__label {cursor: pointer;display: block;width: 100%;margin-bottom: 0;padding: 0.3em;box-sizing: border-box;text-align: center;}#sk-container-id-4 label.sk-toggleable__label-arrow:before {content: \"▸\";float: left;margin-right: 0.25em;color: #696969;}#sk-container-id-4 label.sk-toggleable__label-arrow:hover:before {color: black;}#sk-container-id-4 div.sk-estimator:hover label.sk-toggleable__label-arrow:before {color: black;}#sk-container-id-4 div.sk-toggleable__content {max-height: 0;max-width: 0;overflow: hidden;text-align: left;background-color: #f0f8ff;}#sk-container-id-4 div.sk-toggleable__content pre {margin: 0.2em;color: black;border-radius: 0.25em;background-color: #f0f8ff;}#sk-container-id-4 input.sk-toggleable__control:checked~div.sk-toggleable__content {max-height: 200px;max-width: 100%;overflow: auto;}#sk-container-id-4 input.sk-toggleable__control:checked~label.sk-toggleable__label-arrow:before {content: \"▾\";}#sk-container-id-4 div.sk-estimator input.sk-toggleable__control:checked~label.sk-toggleable__label {background-color: #d4ebff;}#sk-container-id-4 div.sk-label input.sk-toggleable__control:checked~label.sk-toggleable__label {background-color: #d4ebff;}#sk-container-id-4 input.sk-hidden--visually {border: 0;clip: rect(1px 1px 1px 1px);clip: rect(1px, 1px, 1px, 1px);height: 1px;margin: -1px;overflow: hidden;padding: 0;position: absolute;width: 1px;}#sk-container-id-4 div.sk-estimator {font-family: monospace;background-color: #f0f8ff;border: 1px dotted black;border-radius: 0.25em;box-sizing: border-box;margin-bottom: 0.5em;}#sk-container-id-4 div.sk-estimator:hover {background-color: #d4ebff;}#sk-container-id-4 div.sk-parallel-item::after {content: \"\";width: 100%;border-bottom: 1px solid gray;flex-grow: 1;}#sk-container-id-4 div.sk-label:hover label.sk-toggleable__label {background-color: #d4ebff;}#sk-container-id-4 div.sk-serial::before {content: \"\";position: absolute;border-left: 1px solid gray;box-sizing: border-box;top: 0;bottom: 0;left: 50%;z-index: 0;}#sk-container-id-4 div.sk-serial {display: flex;flex-direction: column;align-items: center;background-color: white;padding-right: 0.2em;padding-left: 0.2em;position: relative;}#sk-container-id-4 div.sk-item {position: relative;z-index: 1;}#sk-container-id-4 div.sk-parallel {display: flex;align-items: stretch;justify-content: center;background-color: white;position: relative;}#sk-container-id-4 div.sk-item::before, #sk-container-id-4 div.sk-parallel-item::before {content: \"\";position: absolute;border-left: 1px solid gray;box-sizing: border-box;top: 0;bottom: 0;left: 50%;z-index: -1;}#sk-container-id-4 div.sk-parallel-item {display: flex;flex-direction: column;z-index: 1;position: relative;background-color: white;}#sk-container-id-4 div.sk-parallel-item:first-child::after {align-self: flex-end;width: 50%;}#sk-container-id-4 div.sk-parallel-item:last-child::after {align-self: flex-start;width: 50%;}#sk-container-id-4 div.sk-parallel-item:only-child::after {width: 0;}#sk-container-id-4 div.sk-dashed-wrapped {border: 1px dashed gray;margin: 0 0.4em 0.5em 0.4em;box-sizing: border-box;padding-bottom: 0.4em;background-color: white;}#sk-container-id-4 div.sk-label label {font-family: monospace;font-weight: bold;display: inline-block;line-height: 1.2em;}#sk-container-id-4 div.sk-label-container {text-align: center;}#sk-container-id-4 div.sk-container {/* jupyter's `normalize.less` sets `[hidden] { display: none; }` but bootstrap.min.css set `[hidden] { display: none !important; }` so we also need the `!important` here to be able to override the default hidden behavior on the sphinx rendered scikit-learn.org. See: https://github.com/scikit-learn/scikit-learn/issues/21755 */display: inline-block !important;position: relative;}#sk-container-id-4 div.sk-text-repr-fallback {display: none;}</style><div id=\"sk-container-id-4\" class=\"sk-top-container\"><div class=\"sk-text-repr-fallback\"><pre>KNeighborsClassifier(n_neighbors=15)</pre><b>In a Jupyter environment, please rerun this cell to show the HTML representation or trust the notebook. <br />On GitHub, the HTML representation is unable to render, please try loading this page with nbviewer.org.</b></div><div class=\"sk-container\" hidden><div class=\"sk-item\"><div class=\"sk-estimator sk-toggleable\"><input class=\"sk-toggleable__control sk-hidden--visually\" id=\"sk-estimator-id-4\" type=\"checkbox\" checked><label for=\"sk-estimator-id-4\" class=\"sk-toggleable__label sk-toggleable__label-arrow\">KNeighborsClassifier</label><div class=\"sk-toggleable__content\"><pre>KNeighborsClassifier(n_neighbors=15)</pre></div></div></div></div></div>"
      ],
      "text/plain": [
       "KNeighborsClassifier(n_neighbors=15)"
      ]
     },
     "execution_count": 74,
     "metadata": {},
     "output_type": "execute_result"
    }
   ],
   "source": [
    "knn.fit(x_tr,y_tr)"
   ]
  },
  {
   "cell_type": "code",
   "execution_count": 75,
   "id": "913c0acb",
   "metadata": {},
   "outputs": [],
   "source": [
    "knn_p=knn.predict(x_te)"
   ]
  },
  {
   "cell_type": "code",
   "execution_count": 76,
   "id": "97f24e07",
   "metadata": {},
   "outputs": [
    {
     "data": {
      "text/plain": [
       "array([[996, 242],\n",
       "       [196, 566]], dtype=int64)"
      ]
     },
     "execution_count": 76,
     "metadata": {},
     "output_type": "execute_result"
    }
   ],
   "source": [
    "knn_m=confusion_matrix(knn_p,y_te)\n",
    "knn_m"
   ]
  },
  {
   "cell_type": "code",
   "execution_count": 77,
   "id": "86bdb9dc",
   "metadata": {},
   "outputs": [
    {
     "data": {
      "text/plain": [
       "78.10000000000001"
      ]
     },
     "execution_count": 77,
     "metadata": {},
     "output_type": "execute_result"
    }
   ],
   "source": [
    "knn_acc=knn_m.diagonal().sum()/knn_m.sum()*100\n",
    "knn_acc"
   ]
  },
  {
   "cell_type": "code",
   "execution_count": 78,
   "id": "9e5d09a8",
   "metadata": {},
   "outputs": [
    {
     "name": "stdout",
     "output_type": "stream",
     "text": [
      "              precision    recall  f1-score   support\n",
      "\n",
      "           0       0.84      0.80      0.82      1238\n",
      "           1       0.70      0.74      0.72       762\n",
      "\n",
      "    accuracy                           0.78      2000\n",
      "   macro avg       0.77      0.77      0.77      2000\n",
      "weighted avg       0.78      0.78      0.78      2000\n",
      "\n"
     ]
    }
   ],
   "source": [
    "print(classification_report(knn_p,y_te))"
   ]
  },
  {
   "cell_type": "code",
   "execution_count": 79,
   "id": "0492e099",
   "metadata": {},
   "outputs": [],
   "source": [
    "lst=list()"
   ]
  },
  {
   "cell_type": "code",
   "execution_count": 80,
   "id": "09229ee4",
   "metadata": {},
   "outputs": [],
   "source": [
    "for i in range(1,30):\n",
    "    knn=KNeighborsClassifier(n_neighbors=i)\n",
    "    knn.fit(x_tr,y_tr)\n",
    "    knp=knn.predict(x_te)\n",
    "    c=confusion_matrix(knp,y_te)\n",
    "    acc=c.diagonal().sum()/c.sum()*100\n",
    "    lst.append(acc)"
   ]
  },
  {
   "cell_type": "code",
   "execution_count": 81,
   "id": "6edf73ba",
   "metadata": {},
   "outputs": [
    {
     "data": {
      "image/png": "[encoded data removed]",
      "text/plain": [
       "<Figure size 640x480 with 1 Axes>"
      ]
     },
     "metadata": {},
     "output_type": "display_data"
    }
   ],
   "source": [
    "p=plt.plot(lst)"
   ]
  },
  {
   "cell_type": "code",
   "execution_count": 82,
   "id": "61fced0e",
   "metadata": {},
   "outputs": [
    {
     "data": {
      "text/plain": [
       "0.8355704697986577"
      ]
     },
     "execution_count": 82,
     "metadata": {},
     "output_type": "execute_result"
    }
   ],
   "source": [
    "#tpr=tp/(tp+fn)\n",
    "tpr3=996/(996+196)\n",
    "tpr3"
   ]
  },
  {
   "cell_type": "code",
   "execution_count": 83,
   "id": "2a762bf4",
   "metadata": {},
   "outputs": [
    {
     "data": {
      "text/plain": [
       "0.2995049504950495"
      ]
     },
     "execution_count": 83,
     "metadata": {},
     "output_type": "execute_result"
    }
   ],
   "source": [
    "#fpr=fp/(fp+tn)\n",
    "fpr3=242/(242+566)\n",
    "fpr3"
   ]
  },
  {
   "cell_type": "code",
   "execution_count": 84,
   "id": "a58b2897",
   "metadata": {},
   "outputs": [
    {
     "data": {
      "text/plain": [
       "0.8045234248788369"
      ]
     },
     "execution_count": 84,
     "metadata": {},
     "output_type": "execute_result"
    }
   ],
   "source": [
    "#precision=tp/(tp+fp)\n",
    "precesion3=996/(996+242)\n",
    "precesion3"
   ]
  },
  {
   "cell_type": "code",
   "execution_count": 85,
   "id": "ee880bf8",
   "metadata": {},
   "outputs": [
    {
     "data": {
      "text/plain": [
       "0.8197530864197531"
      ]
     },
     "execution_count": 85,
     "metadata": {},
     "output_type": "execute_result"
    }
   ],
   "source": [
    "#f1score=2(precesion*recall)/(precision+recall)\n",
    "f1score3=(2*(precesion3*tpr3))/(precesion3+tpr3)\n",
    "f1score3"
   ]
  },
  {
   "cell_type": "markdown",
   "id": "764c9ddf",
   "metadata": {},
   "source": [
    "# Navie Bayes"
   ]
  },
  {
   "cell_type": "code",
   "execution_count": 86,
   "id": "3e94eac4",
   "metadata": {},
   "outputs": [],
   "source": [
    "from sklearn.naive_bayes import MultinomialNB\n",
    "nb=MultinomialNB()"
   ]
  },
  {
   "cell_type": "code",
   "execution_count": 87,
   "id": "5a496d6e",
   "metadata": {},
   "outputs": [
    {
     "data": {
      "text/html": [
       "<style>#sk-container-id-5 {color: black;}#sk-container-id-5 pre{padding: 0;}#sk-container-id-5 div.sk-toggleable {background-color: white;}#sk-container-id-5 label.sk-toggleable__label {cursor: pointer;display: block;width: 100%;margin-bottom: 0;padding: 0.3em;box-sizing: border-box;text-align: center;}#sk-container-id-5 label.sk-toggleable__label-arrow:before {content: \"▸\";float: left;margin-right: 0.25em;color: #696969;}#sk-container-id-5 label.sk-toggleable__label-arrow:hover:before {color: black;}#sk-container-id-5 div.sk-estimator:hover label.sk-toggleable__label-arrow:before {color: black;}#sk-container-id-5 div.sk-toggleable__content {max-height: 0;max-width: 0;overflow: hidden;text-align: left;background-color: #f0f8ff;}#sk-container-id-5 div.sk-toggleable__content pre {margin: 0.2em;color: black;border-radius: 0.25em;background-color: #f0f8ff;}#sk-container-id-5 input.sk-toggleable__control:checked~div.sk-toggleable__content {max-height: 200px;max-width: 100%;overflow: auto;}#sk-container-id-5 input.sk-toggleable__control:checked~label.sk-toggleable__label-arrow:before {content: \"▾\";}#sk-container-id-5 div.sk-estimator input.sk-toggleable__control:checked~label.sk-toggleable__label {background-color: #d4ebff;}#sk-container-id-5 div.sk-label input.sk-toggleable__control:checked~label.sk-toggleable__label {background-color: #d4ebff;}#sk-container-id-5 input.sk-hidden--visually {border: 0;clip: rect(1px 1px 1px 1px);clip: rect(1px, 1px, 1px, 1px);height: 1px;margin: -1px;overflow: hidden;padding: 0;position: absolute;width: 1px;}#sk-container-id-5 div.sk-estimator {font-family: monospace;background-color: #f0f8ff;border: 1px dotted black;border-radius: 0.25em;box-sizing: border-box;margin-bottom: 0.5em;}#sk-container-id-5 div.sk-estimator:hover {background-color: #d4ebff;}#sk-container-id-5 div.sk-parallel-item::after {content: \"\";width: 100%;border-bottom: 1px solid gray;flex-grow: 1;}#sk-container-id-5 div.sk-label:hover label.sk-toggleable__label {background-color: #d4ebff;}#sk-container-id-5 div.sk-serial::before {content: \"\";position: absolute;border-left: 1px solid gray;box-sizing: border-box;top: 0;bottom: 0;left: 50%;z-index: 0;}#sk-container-id-5 div.sk-serial {display: flex;flex-direction: column;align-items: center;background-color: white;padding-right: 0.2em;padding-left: 0.2em;position: relative;}#sk-container-id-5 div.sk-item {position: relative;z-index: 1;}#sk-container-id-5 div.sk-parallel {display: flex;align-items: stretch;justify-content: center;background-color: white;position: relative;}#sk-container-id-5 div.sk-item::before, #sk-container-id-5 div.sk-parallel-item::before {content: \"\";position: absolute;border-left: 1px solid gray;box-sizing: border-box;top: 0;bottom: 0;left: 50%;z-index: -1;}#sk-container-id-5 div.sk-parallel-item {display: flex;flex-direction: column;z-index: 1;position: relative;background-color: white;}#sk-container-id-5 div.sk-parallel-item:first-child::after {align-self: flex-end;width: 50%;}#sk-container-id-5 div.sk-parallel-item:last-child::after {align-self: flex-start;width: 50%;}#sk-container-id-5 div.sk-parallel-item:only-child::after {width: 0;}#sk-container-id-5 div.sk-dashed-wrapped {border: 1px dashed gray;margin: 0 0.4em 0.5em 0.4em;box-sizing: border-box;padding-bottom: 0.4em;background-color: white;}#sk-container-id-5 div.sk-label label {font-family: monospace;font-weight: bold;display: inline-block;line-height: 1.2em;}#sk-container-id-5 div.sk-label-container {text-align: center;}#sk-container-id-5 div.sk-container {/* jupyter's `normalize.less` sets `[hidden] { display: none; }` but bootstrap.min.css set `[hidden] { display: none !important; }` so we also need the `!important` here to be able to override the default hidden behavior on the sphinx rendered scikit-learn.org. See: https://github.com/scikit-learn/scikit-learn/issues/21755 */display: inline-block !important;position: relative;}#sk-container-id-5 div.sk-text-repr-fallback {display: none;}</style><div id=\"sk-container-id-5\" class=\"sk-top-container\"><div class=\"sk-text-repr-fallback\"><pre>MultinomialNB()</pre><b>In a Jupyter environment, please rerun this cell to show the HTML representation or trust the notebook. <br />On GitHub, the HTML representation is unable to render, please try loading this page with nbviewer.org.</b></div><div class=\"sk-container\" hidden><div class=\"sk-item\"><div class=\"sk-estimator sk-toggleable\"><input class=\"sk-toggleable__control sk-hidden--visually\" id=\"sk-estimator-id-5\" type=\"checkbox\" checked><label for=\"sk-estimator-id-5\" class=\"sk-toggleable__label sk-toggleable__label-arrow\">MultinomialNB</label><div class=\"sk-toggleable__content\"><pre>MultinomialNB()</pre></div></div></div></div></div>"
      ],
      "text/plain": [
       "MultinomialNB()"
      ]
     },
     "execution_count": 87,
     "metadata": {},
     "output_type": "execute_result"
    }
   ],
   "source": [
    "nb.fit(x_tr,y_tr)"
   ]
  },
  {
   "cell_type": "code",
   "execution_count": 88,
   "id": "0d629524",
   "metadata": {},
   "outputs": [],
   "source": [
    "nb_p=nb.predict(x_te)"
   ]
  },
  {
   "cell_type": "code",
   "execution_count": 89,
   "id": "72d4c354",
   "metadata": {},
   "outputs": [
    {
     "data": {
      "text/plain": [
       "array([[981, 288],\n",
       "       [211, 520]], dtype=int64)"
      ]
     },
     "execution_count": 89,
     "metadata": {},
     "output_type": "execute_result"
    }
   ],
   "source": [
    "nb_m=confusion_matrix(nb_p,y_te)\n",
    "nb_m"
   ]
  },
  {
   "cell_type": "code",
   "execution_count": 90,
   "id": "f709ea75",
   "metadata": {},
   "outputs": [
    {
     "data": {
      "text/plain": [
       "75.05"
      ]
     },
     "execution_count": 90,
     "metadata": {},
     "output_type": "execute_result"
    }
   ],
   "source": [
    "nb_acc=nb_m.diagonal().sum()/nb_m.sum()*100\n",
    "nb_acc"
   ]
  },
  {
   "cell_type": "code",
   "execution_count": 91,
   "id": "4df5cba7",
   "metadata": {},
   "outputs": [
    {
     "name": "stdout",
     "output_type": "stream",
     "text": [
      "              precision    recall  f1-score   support\n",
      "\n",
      "           0       0.82      0.77      0.80      1269\n",
      "           1       0.64      0.71      0.68       731\n",
      "\n",
      "    accuracy                           0.75      2000\n",
      "   macro avg       0.73      0.74      0.74      2000\n",
      "weighted avg       0.76      0.75      0.75      2000\n",
      "\n"
     ]
    }
   ],
   "source": [
    "print(classification_report(nb_p,y_te))"
   ]
  },
  {
   "cell_type": "code",
   "execution_count": 92,
   "id": "96eae5eb",
   "metadata": {},
   "outputs": [
    {
     "data": {
      "text/plain": [
       "0.822986577181208"
      ]
     },
     "execution_count": 92,
     "metadata": {},
     "output_type": "execute_result"
    }
   ],
   "source": [
    "#tpr=tp/(tp+fn)\n",
    "tpr4=981/(981+211)\n",
    "tpr4"
   ]
  },
  {
   "cell_type": "code",
   "execution_count": 93,
   "id": "f41d1d00",
   "metadata": {},
   "outputs": [
    {
     "data": {
      "text/plain": [
       "0.3564356435643564"
      ]
     },
     "execution_count": 93,
     "metadata": {},
     "output_type": "execute_result"
    }
   ],
   "source": [
    "#fpr=fp/(fp+tn)\n",
    "fpr4=288/(288+520)\n",
    "fpr4"
   ]
  },
  {
   "cell_type": "code",
   "execution_count": 94,
   "id": "40546217",
   "metadata": {},
   "outputs": [
    {
     "data": {
      "text/plain": [
       "0.7730496453900709"
      ]
     },
     "execution_count": 94,
     "metadata": {},
     "output_type": "execute_result"
    }
   ],
   "source": [
    "#precision=tp/(tp+fp)\n",
    "precesion4=981/(981+288)\n",
    "precesion4"
   ]
  },
  {
   "cell_type": "code",
   "execution_count": 95,
   "id": "b0a149aa",
   "metadata": {},
   "outputs": [
    {
     "data": {
      "text/plain": [
       "0.8197530864197531"
      ]
     },
     "execution_count": 95,
     "metadata": {},
     "output_type": "execute_result"
    }
   ],
   "source": [
    "#f1score=2(precesion*recall)/(precision+recall)\n",
    "f1score4=(2*(precesion3*tpr3))/(precesion3+tpr3)\n",
    "f1score4"
   ]
  },
  {
   "cell_type": "markdown",
   "id": "f57e4f80",
   "metadata": {},
   "source": [
    "# SVM"
   ]
  },
  {
   "cell_type": "code",
   "execution_count": 96,
   "id": "9fb8b41c",
   "metadata": {},
   "outputs": [],
   "source": [
    "from sklearn.svm import SVC\n",
    "svc=SVC()"
   ]
  },
  {
   "cell_type": "code",
   "execution_count": 97,
   "id": "8b574d82",
   "metadata": {},
   "outputs": [
    {
     "data": {
      "text/html": [
       "<style>#sk-container-id-6 {color: black;}#sk-container-id-6 pre{padding: 0;}#sk-container-id-6 div.sk-toggleable {background-color: white;}#sk-container-id-6 label.sk-toggleable__label {cursor: pointer;display: block;width: 100%;margin-bottom: 0;padding: 0.3em;box-sizing: border-box;text-align: center;}#sk-container-id-6 label.sk-toggleable__label-arrow:before {content: \"▸\";float: left;margin-right: 0.25em;color: #696969;}#sk-container-id-6 label.sk-toggleable__label-arrow:hover:before {color: black;}#sk-container-id-6 div.sk-estimator:hover label.sk-toggleable__label-arrow:before {color: black;}#sk-container-id-6 div.sk-toggleable__content {max-height: 0;max-width: 0;overflow: hidden;text-align: left;background-color: #f0f8ff;}#sk-container-id-6 div.sk-toggleable__content pre {margin: 0.2em;color: black;border-radius: 0.25em;background-color: #f0f8ff;}#sk-container-id-6 input.sk-toggleable__control:checked~div.sk-toggleable__content {max-height: 200px;max-width: 100%;overflow: auto;}#sk-container-id-6 input.sk-toggleable__control:checked~label.sk-toggleable__label-arrow:before {content: \"▾\";}#sk-container-id-6 div.sk-estimator input.sk-toggleable__control:checked~label.sk-toggleable__label {background-color: #d4ebff;}#sk-container-id-6 div.sk-label input.sk-toggleable__control:checked~label.sk-toggleable__label {background-color: #d4ebff;}#sk-container-id-6 input.sk-hidden--visually {border: 0;clip: rect(1px 1px 1px 1px);clip: rect(1px, 1px, 1px, 1px);height: 1px;margin: -1px;overflow: hidden;padding: 0;position: absolute;width: 1px;}#sk-container-id-6 div.sk-estimator {font-family: monospace;background-color: #f0f8ff;border: 1px dotted black;border-radius: 0.25em;box-sizing: border-box;margin-bottom: 0.5em;}#sk-container-id-6 div.sk-estimator:hover {background-color: #d4ebff;}#sk-container-id-6 div.sk-parallel-item::after {content: \"\";width: 100%;border-bottom: 1px solid gray;flex-grow: 1;}#sk-container-id-6 div.sk-label:hover label.sk-toggleable__label {background-color: #d4ebff;}#sk-container-id-6 div.sk-serial::before {content: \"\";position: absolute;border-left: 1px solid gray;box-sizing: border-box;top: 0;bottom: 0;left: 50%;z-index: 0;}#sk-container-id-6 div.sk-serial {display: flex;flex-direction: column;align-items: center;background-color: white;padding-right: 0.2em;padding-left: 0.2em;position: relative;}#sk-container-id-6 div.sk-item {position: relative;z-index: 1;}#sk-container-id-6 div.sk-parallel {display: flex;align-items: stretch;justify-content: center;background-color: white;position: relative;}#sk-container-id-6 div.sk-item::before, #sk-container-id-6 div.sk-parallel-item::before {content: \"\";position: absolute;border-left: 1px solid gray;box-sizing: border-box;top: 0;bottom: 0;left: 50%;z-index: -1;}#sk-container-id-6 div.sk-parallel-item {display: flex;flex-direction: column;z-index: 1;position: relative;background-color: white;}#sk-container-id-6 div.sk-parallel-item:first-child::after {align-self: flex-end;width: 50%;}#sk-container-id-6 div.sk-parallel-item:last-child::after {align-self: flex-start;width: 50%;}#sk-container-id-6 div.sk-parallel-item:only-child::after {width: 0;}#sk-container-id-6 div.sk-dashed-wrapped {border: 1px dashed gray;margin: 0 0.4em 0.5em 0.4em;box-sizing: border-box;padding-bottom: 0.4em;background-color: white;}#sk-container-id-6 div.sk-label label {font-family: monospace;font-weight: bold;display: inline-block;line-height: 1.2em;}#sk-container-id-6 div.sk-label-container {text-align: center;}#sk-container-id-6 div.sk-container {/* jupyter's `normalize.less` sets `[hidden] { display: none; }` but bootstrap.min.css set `[hidden] { display: none !important; }` so we also need the `!important` here to be able to override the default hidden behavior on the sphinx rendered scikit-learn.org. See: https://github.com/scikit-learn/scikit-learn/issues/21755 */display: inline-block !important;position: relative;}#sk-container-id-6 div.sk-text-repr-fallback {display: none;}</style><div id=\"sk-container-id-6\" class=\"sk-top-container\"><div class=\"sk-text-repr-fallback\"><pre>SVC()</pre><b>In a Jupyter environment, please rerun this cell to show the HTML representation or trust the notebook. <br />On GitHub, the HTML representation is unable to render, please try loading this page with nbviewer.org.</b></div><div class=\"sk-container\" hidden><div class=\"sk-item\"><div class=\"sk-estimator sk-toggleable\"><input class=\"sk-toggleable__control sk-hidden--visually\" id=\"sk-estimator-id-6\" type=\"checkbox\" checked><label for=\"sk-estimator-id-6\" class=\"sk-toggleable__label sk-toggleable__label-arrow\">SVC</label><div class=\"sk-toggleable__content\"><pre>SVC()</pre></div></div></div></div></div>"
      ],
      "text/plain": [
       "SVC()"
      ]
     },
     "execution_count": 97,
     "metadata": {},
     "output_type": "execute_result"
    }
   ],
   "source": [
    "svc.fit(x_tr,y_tr)"
   ]
  },
  {
   "cell_type": "code",
   "execution_count": 98,
   "id": "bb34bca3",
   "metadata": {},
   "outputs": [],
   "source": [
    "svc_p=svc.predict(x_te)"
   ]
  },
  {
   "cell_type": "code",
   "execution_count": 99,
   "id": "66d7b49e",
   "metadata": {},
   "outputs": [
    {
     "data": {
      "text/plain": [
       "array([[985, 239],\n",
       "       [207, 569]], dtype=int64)"
      ]
     },
     "execution_count": 99,
     "metadata": {},
     "output_type": "execute_result"
    }
   ],
   "source": [
    "svc_m=confusion_matrix(svc_p,y_te)\n",
    "svc_m"
   ]
  },
  {
   "cell_type": "code",
   "execution_count": 100,
   "id": "b5e7002c",
   "metadata": {},
   "outputs": [
    {
     "data": {
      "text/plain": [
       "77.7"
      ]
     },
     "execution_count": 100,
     "metadata": {},
     "output_type": "execute_result"
    }
   ],
   "source": [
    "svc_acc=svc_m.diagonal().sum()/svc_m.sum()*100\n",
    "svc_acc"
   ]
  },
  {
   "cell_type": "code",
   "execution_count": 101,
   "id": "e9f1f00a",
   "metadata": {},
   "outputs": [
    {
     "name": "stdout",
     "output_type": "stream",
     "text": [
      "              precision    recall  f1-score   support\n",
      "\n",
      "           0       0.83      0.80      0.82      1224\n",
      "           1       0.70      0.73      0.72       776\n",
      "\n",
      "    accuracy                           0.78      2000\n",
      "   macro avg       0.77      0.77      0.77      2000\n",
      "weighted avg       0.78      0.78      0.78      2000\n",
      "\n"
     ]
    }
   ],
   "source": [
    "print(classification_report(svc_p,y_te))"
   ]
  },
  {
   "cell_type": "code",
   "execution_count": 102,
   "id": "cd602b25",
   "metadata": {},
   "outputs": [
    {
     "data": {
      "text/plain": [
       "0.8263422818791947"
      ]
     },
     "execution_count": 102,
     "metadata": {},
     "output_type": "execute_result"
    }
   ],
   "source": [
    "#tpr=tp/(tp+fn)\n",
    "tpr5=985/(985+207)\n",
    "tpr5"
   ]
  },
  {
   "cell_type": "code",
   "execution_count": 103,
   "id": "6ecad8a8",
   "metadata": {},
   "outputs": [
    {
     "data": {
      "text/plain": [
       "0.2957920792079208"
      ]
     },
     "execution_count": 103,
     "metadata": {},
     "output_type": "execute_result"
    }
   ],
   "source": [
    "#fpr=fp/(fp+tn)\n",
    "fpr5=239/(239+569)\n",
    "fpr5"
   ]
  },
  {
   "cell_type": "code",
   "execution_count": 104,
   "id": "0a4a73fb",
   "metadata": {},
   "outputs": [
    {
     "data": {
      "text/plain": [
       "0.8047385620915033"
      ]
     },
     "execution_count": 104,
     "metadata": {},
     "output_type": "execute_result"
    }
   ],
   "source": [
    "#precision=tp/(tp+fp)\n",
    "precesion5=985/(985+239)\n",
    "precesion5"
   ]
  },
  {
   "cell_type": "code",
   "execution_count": 105,
   "id": "614b1d8d",
   "metadata": {},
   "outputs": [
    {
     "data": {
      "text/plain": [
       "0.7972368955709062"
      ]
     },
     "execution_count": 105,
     "metadata": {},
     "output_type": "execute_result"
    }
   ],
   "source": [
    "#f1score=2(precesion*recall)/(precision+recall)\n",
    "f1score5=(2*(precesion4*tpr4))/(precesion4+tpr4)\n",
    "f1score5"
   ]
  },
  {
   "cell_type": "markdown",
   "id": "08201df0",
   "metadata": {},
   "source": [
    "# Boosting"
   ]
  },
  {
   "cell_type": "code",
   "execution_count": 106,
   "id": "e72b8203",
   "metadata": {},
   "outputs": [],
   "source": [
    "from sklearn.ensemble import AdaBoostClassifier\n",
    "from sklearn.tree import DecisionTreeClassifier"
   ]
  },
  {
   "cell_type": "code",
   "execution_count": 107,
   "id": "413fe950",
   "metadata": {},
   "outputs": [],
   "source": [
    "adbo=AdaBoostClassifier(DecisionTreeClassifier(),n_estimators=5)"
   ]
  },
  {
   "cell_type": "code",
   "execution_count": 108,
   "id": "2561f1f8",
   "metadata": {},
   "outputs": [
    {
     "data": {
      "text/html": [
       "<style>#sk-container-id-7 {color: black;}#sk-container-id-7 pre{padding: 0;}#sk-container-id-7 div.sk-toggleable {background-color: white;}#sk-container-id-7 label.sk-toggleable__label {cursor: pointer;display: block;width: 100%;margin-bottom: 0;padding: 0.3em;box-sizing: border-box;text-align: center;}#sk-container-id-7 label.sk-toggleable__label-arrow:before {content: \"▸\";float: left;margin-right: 0.25em;color: #696969;}#sk-container-id-7 label.sk-toggleable__label-arrow:hover:before {color: black;}#sk-container-id-7 div.sk-estimator:hover label.sk-toggleable__label-arrow:before {color: black;}#sk-container-id-7 div.sk-toggleable__content {max-height: 0;max-width: 0;overflow: hidden;text-align: left;background-color: #f0f8ff;}#sk-container-id-7 div.sk-toggleable__content pre {margin: 0.2em;color: black;border-radius: 0.25em;background-color: #f0f8ff;}#sk-container-id-7 input.sk-toggleable__control:checked~div.sk-toggleable__content {max-height: 200px;max-width: 100%;overflow: auto;}#sk-container-id-7 input.sk-toggleable__control:checked~label.sk-toggleable__label-arrow:before {content: \"▾\";}#sk-container-id-7 div.sk-estimator input.sk-toggleable__control:checked~label.sk-toggleable__label {background-color: #d4ebff;}#sk-container-id-7 div.sk-label input.sk-toggleable__control:checked~label.sk-toggleable__label {background-color: #d4ebff;}#sk-container-id-7 input.sk-hidden--visually {border: 0;clip: rect(1px 1px 1px 1px);clip: rect(1px, 1px, 1px, 1px);height: 1px;margin: -1px;overflow: hidden;padding: 0;position: absolute;width: 1px;}#sk-container-id-7 div.sk-estimator {font-family: monospace;background-color: #f0f8ff;border: 1px dotted black;border-radius: 0.25em;box-sizing: border-box;margin-bottom: 0.5em;}#sk-container-id-7 div.sk-estimator:hover {background-color: #d4ebff;}#sk-container-id-7 div.sk-parallel-item::after {content: \"\";width: 100%;border-bottom: 1px solid gray;flex-grow: 1;}#sk-container-id-7 div.sk-label:hover label.sk-toggleable__label {background-color: #d4ebff;}#sk-container-id-7 div.sk-serial::before {content: \"\";position: absolute;border-left: 1px solid gray;box-sizing: border-box;top: 0;bottom: 0;left: 50%;z-index: 0;}#sk-container-id-7 div.sk-serial {display: flex;flex-direction: column;align-items: center;background-color: white;padding-right: 0.2em;padding-left: 0.2em;position: relative;}#sk-container-id-7 div.sk-item {position: relative;z-index: 1;}#sk-container-id-7 div.sk-parallel {display: flex;align-items: stretch;justify-content: center;background-color: white;position: relative;}#sk-container-id-7 div.sk-item::before, #sk-container-id-7 div.sk-parallel-item::before {content: \"\";position: absolute;border-left: 1px solid gray;box-sizing: border-box;top: 0;bottom: 0;left: 50%;z-index: -1;}#sk-container-id-7 div.sk-parallel-item {display: flex;flex-direction: column;z-index: 1;position: relative;background-color: white;}#sk-container-id-7 div.sk-parallel-item:first-child::after {align-self: flex-end;width: 50%;}#sk-container-id-7 div.sk-parallel-item:last-child::after {align-self: flex-start;width: 50%;}#sk-container-id-7 div.sk-parallel-item:only-child::after {width: 0;}#sk-container-id-7 div.sk-dashed-wrapped {border: 1px dashed gray;margin: 0 0.4em 0.5em 0.4em;box-sizing: border-box;padding-bottom: 0.4em;background-color: white;}#sk-container-id-7 div.sk-label label {font-family: monospace;font-weight: bold;display: inline-block;line-height: 1.2em;}#sk-container-id-7 div.sk-label-container {text-align: center;}#sk-container-id-7 div.sk-container {/* jupyter's `normalize.less` sets `[hidden] { display: none; }` but bootstrap.min.css set `[hidden] { display: none !important; }` so we also need the `!important` here to be able to override the default hidden behavior on the sphinx rendered scikit-learn.org. See: https://github.com/scikit-learn/scikit-learn/issues/21755 */display: inline-block !important;position: relative;}#sk-container-id-7 div.sk-text-repr-fallback {display: none;}</style><div id=\"sk-container-id-7\" class=\"sk-top-container\"><div class=\"sk-text-repr-fallback\"><pre>AdaBoostClassifier(estimator=DecisionTreeClassifier(), n_estimators=5)</pre><b>In a Jupyter environment, please rerun this cell to show the HTML representation or trust the notebook. <br />On GitHub, the HTML representation is unable to render, please try loading this page with nbviewer.org.</b></div><div class=\"sk-container\" hidden><div class=\"sk-item sk-dashed-wrapped\"><div class=\"sk-label-container\"><div class=\"sk-label sk-toggleable\"><input class=\"sk-toggleable__control sk-hidden--visually\" id=\"sk-estimator-id-7\" type=\"checkbox\" ><label for=\"sk-estimator-id-7\" class=\"sk-toggleable__label sk-toggleable__label-arrow\">AdaBoostClassifier</label><div class=\"sk-toggleable__content\"><pre>AdaBoostClassifier(estimator=DecisionTreeClassifier(), n_estimators=5)</pre></div></div></div><div class=\"sk-parallel\"><div class=\"sk-parallel-item\"><div class=\"sk-item\"><div class=\"sk-label-container\"><div class=\"sk-label sk-toggleable\"><input class=\"sk-toggleable__control sk-hidden--visually\" id=\"sk-estimator-id-8\" type=\"checkbox\" ><label for=\"sk-estimator-id-8\" class=\"sk-toggleable__label sk-toggleable__label-arrow\">estimator: DecisionTreeClassifier</label><div class=\"sk-toggleable__content\"><pre>DecisionTreeClassifier()</pre></div></div></div><div class=\"sk-serial\"><div class=\"sk-item\"><div class=\"sk-estimator sk-toggleable\"><input class=\"sk-toggleable__control sk-hidden--visually\" id=\"sk-estimator-id-9\" type=\"checkbox\" ><label for=\"sk-estimator-id-9\" class=\"sk-toggleable__label sk-toggleable__label-arrow\">DecisionTreeClassifier</label><div class=\"sk-toggleable__content\"><pre>DecisionTreeClassifier()</pre></div></div></div></div></div></div></div></div></div></div>"
      ],
      "text/plain": [
       "AdaBoostClassifier(estimator=DecisionTreeClassifier(), n_estimators=5)"
      ]
     },
     "execution_count": 108,
     "metadata": {},
     "output_type": "execute_result"
    }
   ],
   "source": [
    "adbo.fit(x_tr,y_tr)"
   ]
  },
  {
   "cell_type": "code",
   "execution_count": 109,
   "id": "6ec93551",
   "metadata": {},
   "outputs": [],
   "source": [
    "adbo_p=adbo.predict(x_te)"
   ]
  },
  {
   "cell_type": "code",
   "execution_count": 110,
   "id": "e577eb29",
   "metadata": {},
   "outputs": [
    {
     "data": {
      "text/plain": [
       "array([[901, 251],\n",
       "       [291, 557]], dtype=int64)"
      ]
     },
     "execution_count": 110,
     "metadata": {},
     "output_type": "execute_result"
    }
   ],
   "source": [
    "adboo_m=confusion_matrix(adbo_p,y_te)\n",
    "adboo_m"
   ]
  },
  {
   "cell_type": "code",
   "execution_count": 111,
   "id": "e27f8a35",
   "metadata": {},
   "outputs": [
    {
     "data": {
      "text/plain": [
       "72.89999999999999"
      ]
     },
     "execution_count": 111,
     "metadata": {},
     "output_type": "execute_result"
    }
   ],
   "source": [
    "adbo_acc=adboo_m.diagonal().sum()/adboo_m.sum()*100\n",
    "adbo_acc"
   ]
  },
  {
   "cell_type": "code",
   "execution_count": 112,
   "id": "eb77f401",
   "metadata": {},
   "outputs": [
    {
     "name": "stdout",
     "output_type": "stream",
     "text": [
      "              precision    recall  f1-score   support\n",
      "\n",
      "           0       0.76      0.78      0.77      1152\n",
      "           1       0.69      0.66      0.67       848\n",
      "\n",
      "    accuracy                           0.73      2000\n",
      "   macro avg       0.72      0.72      0.72      2000\n",
      "weighted avg       0.73      0.73      0.73      2000\n",
      "\n"
     ]
    }
   ],
   "source": [
    "print(classification_report(adbo_p,y_te))"
   ]
  },
  {
   "cell_type": "code",
   "execution_count": 113,
   "id": "1091fb30",
   "metadata": {},
   "outputs": [
    {
     "data": {
      "text/plain": [
       "0.7583892617449665"
      ]
     },
     "execution_count": 113,
     "metadata": {},
     "output_type": "execute_result"
    }
   ],
   "source": [
    "#tpr=tp/(tp+fn)\n",
    "tpr6=904/(904+288)\n",
    "tpr6"
   ]
  },
  {
   "cell_type": "code",
   "execution_count": 114,
   "id": "cfb8730d",
   "metadata": {},
   "outputs": [
    {
     "data": {
      "text/plain": [
       "0.30198019801980197"
      ]
     },
     "execution_count": 114,
     "metadata": {},
     "output_type": "execute_result"
    }
   ],
   "source": [
    "#fpr=fp/(fp+tn)\n",
    "fpr6=244/(244+564)\n",
    "fpr6"
   ]
  },
  {
   "cell_type": "code",
   "execution_count": 115,
   "id": "6dd7253e",
   "metadata": {},
   "outputs": [
    {
     "data": {
      "text/plain": [
       "0.7874564459930313"
      ]
     },
     "execution_count": 115,
     "metadata": {},
     "output_type": "execute_result"
    }
   ],
   "source": [
    "#precision=tp/(tp+fp)\n",
    "precesion6=904/(904+244)\n",
    "precesion6"
   ]
  },
  {
   "cell_type": "code",
   "execution_count": 116,
   "id": "77e6492a",
   "metadata": {},
   "outputs": [
    {
     "data": {
      "text/plain": [
       "0.8153973509933775"
      ]
     },
     "execution_count": 116,
     "metadata": {},
     "output_type": "execute_result"
    }
   ],
   "source": [
    "#f1score=2(precesion*recall)/(precision+recall)\n",
    "f1score6=(2*(precesion5*tpr5))/(precesion5+tpr5)\n",
    "f1score6"
   ]
  },
  {
   "cell_type": "markdown",
   "id": "1e25a336",
   "metadata": {},
   "source": [
    "# XG Boost"
   ]
  },
  {
   "cell_type": "code",
   "execution_count": 117,
   "id": "97f6d01b",
   "metadata": {},
   "outputs": [],
   "source": [
    "from xgboost import XGBClassifier\n",
    "xgb=XGBClassifier()"
   ]
  },
  {
   "cell_type": "code",
   "execution_count": 118,
   "id": "8c7c2cce",
   "metadata": {},
   "outputs": [
    {
     "data": {
      "text/html": [
       "<style>#sk-container-id-8 {color: black;}#sk-container-id-8 pre{padding: 0;}#sk-container-id-8 div.sk-toggleable {background-color: white;}#sk-container-id-8 label.sk-toggleable__label {cursor: pointer;display: block;width: 100%;margin-bottom: 0;padding: 0.3em;box-sizing: border-box;text-align: center;}#sk-container-id-8 label.sk-toggleable__label-arrow:before {content: \"▸\";float: left;margin-right: 0.25em;color: #696969;}#sk-container-id-8 label.sk-toggleable__label-arrow:hover:before {color: black;}#sk-container-id-8 div.sk-estimator:hover label.sk-toggleable__label-arrow:before {color: black;}#sk-container-id-8 div.sk-toggleable__content {max-height: 0;max-width: 0;overflow: hidden;text-align: left;background-color: #f0f8ff;}#sk-container-id-8 div.sk-toggleable__content pre {margin: 0.2em;color: black;border-radius: 0.25em;background-color: #f0f8ff;}#sk-container-id-8 input.sk-toggleable__control:checked~div.sk-toggleable__content {max-height: 200px;max-width: 100%;overflow: auto;}#sk-container-id-8 input.sk-toggleable__control:checked~label.sk-toggleable__label-arrow:before {content: \"▾\";}#sk-container-id-8 div.sk-estimator input.sk-toggleable__control:checked~label.sk-toggleable__label {background-color: #d4ebff;}#sk-container-id-8 div.sk-label input.sk-toggleable__control:checked~label.sk-toggleable__label {background-color: #d4ebff;}#sk-container-id-8 input.sk-hidden--visually {border: 0;clip: rect(1px 1px 1px 1px);clip: rect(1px, 1px, 1px, 1px);height: 1px;margin: -1px;overflow: hidden;padding: 0;position: absolute;width: 1px;}#sk-container-id-8 div.sk-estimator {font-family: monospace;background-color: #f0f8ff;border: 1px dotted black;border-radius: 0.25em;box-sizing: border-box;margin-bottom: 0.5em;}#sk-container-id-8 div.sk-estimator:hover {background-color: #d4ebff;}#sk-container-id-8 div.sk-parallel-item::after {content: \"\";width: 100%;border-bottom: 1px solid gray;flex-grow: 1;}#sk-container-id-8 div.sk-label:hover label.sk-toggleable__label {background-color: #d4ebff;}#sk-container-id-8 div.sk-serial::before {content: \"\";position: absolute;border-left: 1px solid gray;box-sizing: border-box;top: 0;bottom: 0;left: 50%;z-index: 0;}#sk-container-id-8 div.sk-serial {display: flex;flex-direction: column;align-items: center;background-color: white;padding-right: 0.2em;padding-left: 0.2em;position: relative;}#sk-container-id-8 div.sk-item {position: relative;z-index: 1;}#sk-container-id-8 div.sk-parallel {display: flex;align-items: stretch;justify-content: center;background-color: white;position: relative;}#sk-container-id-8 div.sk-item::before, #sk-container-id-8 div.sk-parallel-item::before {content: \"\";position: absolute;border-left: 1px solid gray;box-sizing: border-box;top: 0;bottom: 0;left: 50%;z-index: -1;}#sk-container-id-8 div.sk-parallel-item {display: flex;flex-direction: column;z-index: 1;position: relative;background-color: white;}#sk-container-id-8 div.sk-parallel-item:first-child::after {align-self: flex-end;width: 50%;}#sk-container-id-8 div.sk-parallel-item:last-child::after {align-self: flex-start;width: 50%;}#sk-container-id-8 div.sk-parallel-item:only-child::after {width: 0;}#sk-container-id-8 div.sk-dashed-wrapped {border: 1px dashed gray;margin: 0 0.4em 0.5em 0.4em;box-sizing: border-box;padding-bottom: 0.4em;background-color: white;}#sk-container-id-8 div.sk-label label {font-family: monospace;font-weight: bold;display: inline-block;line-height: 1.2em;}#sk-container-id-8 div.sk-label-container {text-align: center;}#sk-container-id-8 div.sk-container {/* jupyter's `normalize.less` sets `[hidden] { display: none; }` but bootstrap.min.css set `[hidden] { display: none !important; }` so we also need the `!important` here to be able to override the default hidden behavior on the sphinx rendered scikit-learn.org. See: https://github.com/scikit-learn/scikit-learn/issues/21755 */display: inline-block !important;position: relative;}#sk-container-id-8 div.sk-text-repr-fallback {display: none;}</style><div id=\"sk-container-id-8\" class=\"sk-top-container\"><div class=\"sk-text-repr-fallback\"><pre>XGBClassifier(base_score=None, booster=None, callbacks=None,\n",
       "              colsample_bylevel=None, colsample_bynode=None,\n",
       "              colsample_bytree=None, device=None, early_stopping_rounds=None,\n",
       "              enable_categorical=False, eval_metric=None, feature_types=None,\n",
       "              gamma=None, grow_policy=None, importance_type=None,\n",
       "              interaction_constraints=None, learning_rate=None, max_bin=None,\n",
       "              max_cat_threshold=None, max_cat_to_onehot=None,\n",
       "              max_delta_step=None, max_depth=None, max_leaves=None,\n",
       "              min_child_weight=None, missing=nan, monotone_constraints=None,\n",
       "              multi_strategy=None, n_estimators=None, n_jobs=None,\n",
       "              num_parallel_tree=None, random_state=None, ...)</pre><b>In a Jupyter environment, please rerun this cell to show the HTML representation or trust the notebook. <br />On GitHub, the HTML representation is unable to render, please try loading this page with nbviewer.org.</b></div><div class=\"sk-container\" hidden><div class=\"sk-item\"><div class=\"sk-estimator sk-toggleable\"><input class=\"sk-toggleable__control sk-hidden--visually\" id=\"sk-estimator-id-10\" type=\"checkbox\" checked><label for=\"sk-estimator-id-10\" class=\"sk-toggleable__label sk-toggleable__label-arrow\">XGBClassifier</label><div class=\"sk-toggleable__content\"><pre>XGBClassifier(base_score=None, booster=None, callbacks=None,\n",
       "              colsample_bylevel=None, colsample_bynode=None,\n",
       "              colsample_bytree=None, device=None, early_stopping_rounds=None,\n",
       "              enable_categorical=False, eval_metric=None, feature_types=None,\n",
       "              gamma=None, grow_policy=None, importance_type=None,\n",
       "              interaction_constraints=None, learning_rate=None, max_bin=None,\n",
       "              max_cat_threshold=None, max_cat_to_onehot=None,\n",
       "              max_delta_step=None, max_depth=None, max_leaves=None,\n",
       "              min_child_weight=None, missing=nan, monotone_constraints=None,\n",
       "              multi_strategy=None, n_estimators=None, n_jobs=None,\n",
       "              num_parallel_tree=None, random_state=None, ...)</pre></div></div></div></div></div>"
      ],
      "text/plain": [
       "XGBClassifier(base_score=None, booster=None, callbacks=None,\n",
       "              colsample_bylevel=None, colsample_bynode=None,\n",
       "              colsample_bytree=None, device=None, early_stopping_rounds=None,\n",
       "              enable_categorical=False, eval_metric=None, feature_types=None,\n",
       "              gamma=None, grow_policy=None, importance_type=None,\n",
       "              interaction_constraints=None, learning_rate=None, max_bin=None,\n",
       "              max_cat_threshold=None, max_cat_to_onehot=None,\n",
       "              max_delta_step=None, max_depth=None, max_leaves=None,\n",
       "              min_child_weight=None, missing=nan, monotone_constraints=None,\n",
       "              multi_strategy=None, n_estimators=None, n_jobs=None,\n",
       "              num_parallel_tree=None, random_state=None, ...)"
      ]
     },
     "execution_count": 118,
     "metadata": {},
     "output_type": "execute_result"
    }
   ],
   "source": [
    "xgb.fit(x_tr,y_tr)"
   ]
  },
  {
   "cell_type": "code",
   "execution_count": 119,
   "id": "a5f89e16",
   "metadata": {},
   "outputs": [],
   "source": [
    "xgb_p=xgb.predict(x_te)"
   ]
  },
  {
   "cell_type": "code",
   "execution_count": 120,
   "id": "9d0dd477",
   "metadata": {},
   "outputs": [
    {
     "data": {
      "text/plain": [
       "array([[986, 230],\n",
       "       [206, 578]], dtype=int64)"
      ]
     },
     "execution_count": 120,
     "metadata": {},
     "output_type": "execute_result"
    }
   ],
   "source": [
    "xgb_m=confusion_matrix(xgb_p,y_te)\n",
    "xgb_m"
   ]
  },
  {
   "cell_type": "code",
   "execution_count": 121,
   "id": "f9e52ab7",
   "metadata": {},
   "outputs": [
    {
     "data": {
      "text/plain": [
       "78.2"
      ]
     },
     "execution_count": 121,
     "metadata": {},
     "output_type": "execute_result"
    }
   ],
   "source": [
    "xgb_acc=xgb_m.diagonal().sum()/xgb_m.sum()*100\n",
    "xgb_acc"
   ]
  },
  {
   "cell_type": "code",
   "execution_count": 122,
   "id": "1cd659da",
   "metadata": {},
   "outputs": [
    {
     "name": "stdout",
     "output_type": "stream",
     "text": [
      "              precision    recall  f1-score   support\n",
      "\n",
      "           0       0.83      0.81      0.82      1216\n",
      "           1       0.72      0.74      0.73       784\n",
      "\n",
      "    accuracy                           0.78      2000\n",
      "   macro avg       0.77      0.77      0.77      2000\n",
      "weighted avg       0.78      0.78      0.78      2000\n",
      "\n"
     ]
    }
   ],
   "source": [
    "print(classification_report(xgb_p,y_te))"
   ]
  },
  {
   "cell_type": "code",
   "execution_count": 123,
   "id": "6c690f5e",
   "metadata": {},
   "outputs": [
    {
     "data": {
      "text/plain": [
       "0.8271812080536913"
      ]
     },
     "execution_count": 123,
     "metadata": {},
     "output_type": "execute_result"
    }
   ],
   "source": [
    "#tpr=tp/(tp+fn)\n",
    "tpr7=986/(986+206)\n",
    "tpr7"
   ]
  },
  {
   "cell_type": "code",
   "execution_count": 124,
   "id": "b88a0142",
   "metadata": {},
   "outputs": [
    {
     "data": {
      "text/plain": [
       "0.28465346534653463"
      ]
     },
     "execution_count": 124,
     "metadata": {},
     "output_type": "execute_result"
    }
   ],
   "source": [
    "#fpr=fp/(fp+tn)\n",
    "fpr7=230/(230+578)\n",
    "fpr7"
   ]
  },
  {
   "cell_type": "code",
   "execution_count": 125,
   "id": "fb0ade5c",
   "metadata": {},
   "outputs": [
    {
     "data": {
      "text/plain": [
       "0.8108552631578947"
      ]
     },
     "execution_count": 125,
     "metadata": {},
     "output_type": "execute_result"
    }
   ],
   "source": [
    "#precision=tp/(tp+fp)\n",
    "precesion7=986/(986+230)\n",
    "precesion7"
   ]
  },
  {
   "cell_type": "code",
   "execution_count": 126,
   "id": "dea0e1ba",
   "metadata": {},
   "outputs": [
    {
     "data": {
      "text/plain": [
       "0.8189368770764119"
      ]
     },
     "execution_count": 126,
     "metadata": {},
     "output_type": "execute_result"
    }
   ],
   "source": [
    "#f1score=2(precesion*recall)/(precision+recall)\n",
    "f1score7=(2*(precesion7*tpr7))/(precesion7+tpr7)\n",
    "f1score7"
   ]
  },
  {
   "cell_type": "code",
   "execution_count": 127,
   "id": "65640ba6",
   "metadata": {},
   "outputs": [],
   "source": [
    "#DF-1`\n",
    "l1=[\"log\",\"dt\",\"rf\",\"nb\",\"svc\",\"knn\",\"adaboost\",\"xgboost\"]\n",
    "l2=[lg_acc,dt_acc,rf_acc,nb_acc,svc_acc,knn_acc,adbo_acc,xgb_acc]\n",
    "l3=[fpr,fpr1,fpr2,fpr3,fpr4,fpr5,fpr6,fpr7]\n",
    "l4=[tpr,tpr1,tpr2,tpr3,tpr4,tpr5,tpr6,tpr7]\n",
    "l5=[f1score,f1score1,f1score3,f1score3,f1score4,f1score5,f1score6,f1score7]"
   ]
  },
  {
   "cell_type": "code",
   "execution_count": 128,
   "id": "dc16bd38",
   "metadata": {
    "scrolled": true
   },
   "outputs": [
    {
     "data": {
      "text/html": [
       "<div>\n",
       "<style scoped>\n",
       "    .dataframe tbody tr th:only-of-type {\n",
       "        vertical-align: middle;\n",
       "    }\n",
       "\n",
       "    .dataframe tbody tr th {\n",
       "        vertical-align: top;\n",
       "    }\n",
       "\n",
       "    .dataframe thead th {\n",
       "        text-align: right;\n",
       "    }\n",
       "</style>\n",
       "<table border=\"1\" class=\"dataframe\">\n",
       "  <thead>\n",
       "    <tr style=\"text-align: right;\">\n",
       "      <th></th>\n",
       "      <th>Model_Name</th>\n",
       "      <th>accuracy</th>\n",
       "      <th>fpr</th>\n",
       "      <th>tpr</th>\n",
       "      <th>f1score</th>\n",
       "    </tr>\n",
       "  </thead>\n",
       "  <tbody>\n",
       "    <tr>\n",
       "      <th>0</th>\n",
       "      <td>log</td>\n",
       "      <td>76.90</td>\n",
       "      <td>0.259901</td>\n",
       "      <td>0.788591</td>\n",
       "      <td>0.802733</td>\n",
       "    </tr>\n",
       "    <tr>\n",
       "      <th>1</th>\n",
       "      <td>dt</td>\n",
       "      <td>72.15</td>\n",
       "      <td>0.329208</td>\n",
       "      <td>0.753356</td>\n",
       "      <td>0.762309</td>\n",
       "    </tr>\n",
       "    <tr>\n",
       "      <th>2</th>\n",
       "      <td>rf</td>\n",
       "      <td>78.70</td>\n",
       "      <td>0.275184</td>\n",
       "      <td>0.841618</td>\n",
       "      <td>0.819753</td>\n",
       "    </tr>\n",
       "    <tr>\n",
       "      <th>3</th>\n",
       "      <td>nb</td>\n",
       "      <td>75.05</td>\n",
       "      <td>0.299505</td>\n",
       "      <td>0.835570</td>\n",
       "      <td>0.819753</td>\n",
       "    </tr>\n",
       "    <tr>\n",
       "      <th>4</th>\n",
       "      <td>svc</td>\n",
       "      <td>77.70</td>\n",
       "      <td>0.356436</td>\n",
       "      <td>0.822987</td>\n",
       "      <td>0.819753</td>\n",
       "    </tr>\n",
       "    <tr>\n",
       "      <th>5</th>\n",
       "      <td>knn</td>\n",
       "      <td>78.10</td>\n",
       "      <td>0.295792</td>\n",
       "      <td>0.826342</td>\n",
       "      <td>0.797237</td>\n",
       "    </tr>\n",
       "    <tr>\n",
       "      <th>6</th>\n",
       "      <td>adaboost</td>\n",
       "      <td>72.90</td>\n",
       "      <td>0.301980</td>\n",
       "      <td>0.758389</td>\n",
       "      <td>0.815397</td>\n",
       "    </tr>\n",
       "    <tr>\n",
       "      <th>7</th>\n",
       "      <td>xgboost</td>\n",
       "      <td>78.20</td>\n",
       "      <td>0.284653</td>\n",
       "      <td>0.827181</td>\n",
       "      <td>0.818937</td>\n",
       "    </tr>\n",
       "  </tbody>\n",
       "</table>\n",
       "</div>"
      ],
      "text/plain": [
       "  Model_Name  accuracy       fpr       tpr   f1score\n",
       "0        log     76.90  0.259901  0.788591  0.802733\n",
       "1         dt     72.15  0.329208  0.753356  0.762309\n",
       "2         rf     78.70  0.275184  0.841618  0.819753\n",
       "3         nb     75.05  0.299505  0.835570  0.819753\n",
       "4        svc     77.70  0.356436  0.822987  0.819753\n",
       "5        knn     78.10  0.295792  0.826342  0.797237\n",
       "6   adaboost     72.90  0.301980  0.758389  0.815397\n",
       "7    xgboost     78.20  0.284653  0.827181  0.818937"
      ]
     },
     "execution_count": 128,
     "metadata": {},
     "output_type": "execute_result"
    }
   ],
   "source": [
    "final=pd.DataFrame({\"Model_Name\":l1,\"accuracy\":l2,\"fpr\":l3,\"tpr\":l4,\"f1score\":l5})\n",
    "final"
   ]
  },
  {
   "cell_type": "raw",
   "id": "108918c5",
   "metadata": {},
   "source": [
    "the random forest (rf) model achieved the highest accuracy at 79.30 and also had a relatively low false positive rate (fpr) of 0.269802 and tpr 0.833893 "
   ]
  },
  {
   "cell_type": "code",
   "execution_count": 129,
   "id": "8d4cfe09",
   "metadata": {},
   "outputs": [
    {
     "data": {
      "text/plain": [
       "CGPA                         float64\n",
       "Internships                    int64\n",
       "Projects                       int64\n",
       "Workshops/Certifications       int64\n",
       "AptitudeTestScore              int64\n",
       "SoftSkillsRating             float64\n",
       "ExtracurricularActivities      int32\n",
       "PlacementTraining              int32\n",
       "SSC_Marks                      int64\n",
       "HSC_Marks                      int64\n",
       "PlacementStatus                int32\n",
       "dtype: object"
      ]
     },
     "execution_count": 129,
     "metadata": {},
     "output_type": "execute_result"
    }
   ],
   "source": [
    "data.dtypes"
   ]
  },
  {
   "cell_type": "markdown",
   "id": "769cd227",
   "metadata": {},
   "source": [
    "# Class Imbalance"
   ]
  },
  {
   "cell_type": "code",
   "execution_count": 130,
   "id": "22b75792",
   "metadata": {},
   "outputs": [
    {
     "data": {
      "text/plain": [
       "(5803, 4197)"
      ]
     },
     "execution_count": 130,
     "metadata": {},
     "output_type": "execute_result"
    }
   ],
   "source": [
    "#oversampling\n",
    "c_0,c_1=data[\"PlacementStatus\"].value_counts()\n",
    "c_0,c_1"
   ]
  },
  {
   "cell_type": "code",
   "execution_count": 131,
   "id": "fe82b931",
   "metadata": {},
   "outputs": [],
   "source": [
    "train_0=data[data[\"PlacementStatus\"]==0]\n",
    "train_1=data[data[\"PlacementStatus\"]==1]"
   ]
  },
  {
   "cell_type": "code",
   "execution_count": 132,
   "id": "e6559583",
   "metadata": {},
   "outputs": [
    {
     "data": {
      "text/plain": [
       "((5803, 11), (4197, 11))"
      ]
     },
     "execution_count": 132,
     "metadata": {},
     "output_type": "execute_result"
    }
   ],
   "source": [
    "train_0.shape,train_1.shape"
   ]
  },
  {
   "cell_type": "code",
   "execution_count": 133,
   "id": "9ce3cf14",
   "metadata": {},
   "outputs": [],
   "source": [
    "train_1over=train_1.sample(c_0,replace=True)"
   ]
  },
  {
   "cell_type": "code",
   "execution_count": 134,
   "id": "c8f9b1a8",
   "metadata": {},
   "outputs": [
    {
     "data": {
      "text/plain": [
       "(5803, 11)"
      ]
     },
     "execution_count": 134,
     "metadata": {},
     "output_type": "execute_result"
    }
   ],
   "source": [
    "train_1over.shape"
   ]
  },
  {
   "cell_type": "code",
   "execution_count": 135,
   "id": "95b3943c",
   "metadata": {},
   "outputs": [],
   "source": [
    "class_1=pd.concat([train_1over,train_0],axis=0)"
   ]
  },
  {
   "cell_type": "code",
   "execution_count": 136,
   "id": "4672aefd",
   "metadata": {},
   "outputs": [
    {
     "data": {
      "text/plain": [
       "(11606, 11)"
      ]
     },
     "execution_count": 136,
     "metadata": {},
     "output_type": "execute_result"
    }
   ],
   "source": [
    "class_1.shape"
   ]
  },
  {
   "cell_type": "code",
   "execution_count": 137,
   "id": "49290bbd",
   "metadata": {},
   "outputs": [
    {
     "data": {
      "text/html": [
       "<div>\n",
       "<style scoped>\n",
       "    .dataframe tbody tr th:only-of-type {\n",
       "        vertical-align: middle;\n",
       "    }\n",
       "\n",
       "    .dataframe tbody tr th {\n",
       "        vertical-align: top;\n",
       "    }\n",
       "\n",
       "    .dataframe thead th {\n",
       "        text-align: right;\n",
       "    }\n",
       "</style>\n",
       "<table border=\"1\" class=\"dataframe\">\n",
       "  <thead>\n",
       "    <tr style=\"text-align: right;\">\n",
       "      <th></th>\n",
       "      <th>CGPA</th>\n",
       "      <th>Internships</th>\n",
       "      <th>Projects</th>\n",
       "      <th>Workshops/Certifications</th>\n",
       "      <th>AptitudeTestScore</th>\n",
       "      <th>SoftSkillsRating</th>\n",
       "      <th>ExtracurricularActivities</th>\n",
       "      <th>PlacementTraining</th>\n",
       "      <th>SSC_Marks</th>\n",
       "      <th>HSC_Marks</th>\n",
       "      <th>PlacementStatus</th>\n",
       "    </tr>\n",
       "  </thead>\n",
       "  <tbody>\n",
       "    <tr>\n",
       "      <th>9062</th>\n",
       "      <td>8.6</td>\n",
       "      <td>1</td>\n",
       "      <td>2</td>\n",
       "      <td>2</td>\n",
       "      <td>88</td>\n",
       "      <td>4.3</td>\n",
       "      <td>1</td>\n",
       "      <td>1</td>\n",
       "      <td>71</td>\n",
       "      <td>82</td>\n",
       "      <td>1</td>\n",
       "    </tr>\n",
       "  </tbody>\n",
       "</table>\n",
       "</div>"
      ],
      "text/plain": [
       "      CGPA  Internships  Projects  Workshops/Certifications  \\\n",
       "9062   8.6            1         2                         2   \n",
       "\n",
       "      AptitudeTestScore  SoftSkillsRating  ExtracurricularActivities  \\\n",
       "9062                 88               4.3                          1   \n",
       "\n",
       "      PlacementTraining  SSC_Marks  HSC_Marks  PlacementStatus  \n",
       "9062                  1         71         82                1  "
      ]
     },
     "execution_count": 137,
     "metadata": {},
     "output_type": "execute_result"
    }
   ],
   "source": [
    "class_1.head(1)"
   ]
  },
  {
   "cell_type": "code",
   "execution_count": 138,
   "id": "5666055e",
   "metadata": {},
   "outputs": [
    {
     "data": {
      "text/plain": [
       "PlacementStatus\n",
       "1    5803\n",
       "0    5803\n",
       "Name: count, dtype: int64"
      ]
     },
     "execution_count": 138,
     "metadata": {},
     "output_type": "execute_result"
    }
   ],
   "source": [
    "class_1.PlacementStatus.value_counts()"
   ]
  },
  {
   "cell_type": "markdown",
   "id": "a847ad56",
   "metadata": {},
   "source": [
    "# Outliers"
   ]
  },
  {
   "cell_type": "code",
   "execution_count": 139,
   "id": "d65d64de",
   "metadata": {},
   "outputs": [
    {
     "data": {
      "text/plain": [
       "<Axes: >"
      ]
     },
     "execution_count": 139,
     "metadata": {},
     "output_type": "execute_result"
    },
    {
     "data": {
      "image/png": "[encoded data removed]",
      "text/plain": [
       "<Figure size 640x480 with 1 Axes>"
      ]
     },
     "metadata": {},
     "output_type": "display_data"
    }
   ],
   "source": [
    "sns.boxplot(class_1[\"AptitudeTestScore\"])"
   ]
  },
  {
   "cell_type": "code",
   "execution_count": 140,
   "id": "93ed5143",
   "metadata": {},
   "outputs": [
    {
     "data": {
      "text/plain": [
       "<Axes: >"
      ]
     },
     "execution_count": 140,
     "metadata": {},
     "output_type": "execute_result"
    },
    {
     "data": {
      "image/png": "[encoded data removed]",
      "text/plain": [
       "<Figure size 640x480 with 1 Axes>"
      ]
     },
     "metadata": {},
     "output_type": "display_data"
    }
   ],
   "source": [
    "sns.boxplot(class_1[\"HSC_Marks\"])"
   ]
  },
  {
   "cell_type": "code",
   "execution_count": 141,
   "id": "d53d1849",
   "metadata": {},
   "outputs": [
    {
     "data": {
      "text/plain": [
       "<Axes: >"
      ]
     },
     "execution_count": 141,
     "metadata": {},
     "output_type": "execute_result"
    },
    {
     "data": {
      "image/png": "[encoded data removed]",
      "text/plain": [
       "<Figure size 640x480 with 1 Axes>"
      ]
     },
     "metadata": {},
     "output_type": "display_data"
    }
   ],
   "source": [
    "sns.boxplot(class_1[\"SSC_Marks\"])"
   ]
  },
  {
   "cell_type": "code",
   "execution_count": 142,
   "id": "0bb4f8b4",
   "metadata": {},
   "outputs": [
    {
     "data": {
      "text/plain": [
       "CGPA                        -0.461745\n",
       "Internships                 -0.087504\n",
       "Projects                    -0.189509\n",
       "Workshops/Certifications     0.101668\n",
       "AptitudeTestScore           -0.436570\n",
       "SoftSkillsRating            -0.740873\n",
       "ExtracurricularActivities   -0.505569\n",
       "PlacementTraining           -1.179188\n",
       "SSC_Marks                   -0.072222\n",
       "HSC_Marks                   -0.120107\n",
       "PlacementStatus              0.000000\n",
       "dtype: float64"
      ]
     },
     "execution_count": 142,
     "metadata": {},
     "output_type": "execute_result"
    }
   ],
   "source": [
    "class_1.skew()"
   ]
  },
  {
   "cell_type": "markdown",
   "id": "3a84ba5a",
   "metadata": {},
   "source": [
    "# Visualization"
   ]
  },
  {
   "cell_type": "code",
   "execution_count": 143,
   "id": "b6fe3c2d",
   "metadata": {},
   "outputs": [
    {
     "data": {
      "text/plain": [
       "(array([ 229.,  324.,  601.,  912., 1033., 1218., 1336., 1327., 1250.,\n",
       "        3376.]),\n",
       " array([60., 63., 66., 69., 72., 75., 78., 81., 84., 87., 90.]),\n",
       " <BarContainer object of 10 artists>)"
      ]
     },
     "execution_count": 143,
     "metadata": {},
     "output_type": "execute_result"
    },
    {
     "data": {
      "image/png": "[encoded data removed]",
      "text/plain": [
       "<Figure size 640x480 with 1 Axes>"
      ]
     },
     "metadata": {},
     "output_type": "display_data"
    }
   ],
   "source": [
    "plt.hist(class_1[\"AptitudeTestScore\"])"
   ]
  },
  {
   "cell_type": "code",
   "execution_count": 144,
   "id": "5b7db7dd",
   "metadata": {},
   "outputs": [
    {
     "data": {
      "text/plain": [
       "(array([2594.,  836.,  901.,  585., 1205., 1169., 1778., 1184.,  933.,\n",
       "         421.]),\n",
       " array([55. , 58.5, 62. , 65.5, 69. , 72.5, 76. , 79.5, 83. , 86.5, 90. ]),\n",
       " <BarContainer object of 10 artists>)"
      ]
     },
     "execution_count": 144,
     "metadata": {},
     "output_type": "execute_result"
    },
    {
     "data": {
      "image/png": "[encoded data removed]",
      "text/plain": [
       "<Figure size 640x480 with 1 Axes>"
      ]
     },
     "metadata": {},
     "output_type": "display_data"
    }
   ],
   "source": [
    "plt.hist(class_1[\"SSC_Marks\"])"
   ]
  },
  {
   "cell_type": "code",
   "execution_count": 145,
   "id": "729b5fcd",
   "metadata": {},
   "outputs": [
    {
     "data": {
      "text/plain": [
       "(array([ 343.,  832., 1343., 1592., 1201.,  608.,  343., 1028., 2004.,\n",
       "        2312.]),\n",
       " array([57. , 60.1, 63.2, 66.3, 69.4, 72.5, 75.6, 78.7, 81.8, 84.9, 88. ]),\n",
       " <BarContainer object of 10 artists>)"
      ]
     },
     "execution_count": 145,
     "metadata": {},
     "output_type": "execute_result"
    },
    {
     "data": {
      "image/png": "[encoded data removed]",
      "text/plain": [
       "<Figure size 640x480 with 1 Axes>"
      ]
     },
     "metadata": {},
     "output_type": "display_data"
    }
   ],
   "source": [
    "plt.hist(class_1[\"HSC_Marks\"])"
   ]
  },
  {
   "cell_type": "code",
   "execution_count": 146,
   "id": "10e27902",
   "metadata": {},
   "outputs": [
    {
     "data": {
      "text/plain": [
       "<Axes: xlabel='Internships'>"
      ]
     },
     "execution_count": 146,
     "metadata": {},
     "output_type": "execute_result"
    },
    {
     "data": {
      "image/png": "[encoded data removed]",
      "text/plain": [
       "<Figure size 640x480 with 1 Axes>"
      ]
     },
     "metadata": {},
     "output_type": "display_data"
    }
   ],
   "source": [
    "class_1[\"Internships\"].value_counts().plot.bar()"
   ]
  },
  {
   "cell_type": "code",
   "execution_count": 147,
   "id": "1a6a06a5",
   "metadata": {},
   "outputs": [
    {
     "data": {
      "text/plain": [
       "<Axes: xlabel='Projects'>"
      ]
     },
     "execution_count": 147,
     "metadata": {},
     "output_type": "execute_result"
    },
    {
     "data": {
      "image/png": "[encoded data removed]",
      "text/plain": [
       "<Figure size 640x480 with 1 Axes>"
      ]
     },
     "metadata": {},
     "output_type": "display_data"
    }
   ],
   "source": [
    "class_1[\"Projects\"].value_counts().plot.bar()"
   ]
  },
  {
   "cell_type": "code",
   "execution_count": 148,
   "id": "0a89f4d8",
   "metadata": {},
   "outputs": [
    {
     "data": {
      "text/plain": [
       "<Axes: xlabel='Workshops/Certifications'>"
      ]
     },
     "execution_count": 148,
     "metadata": {},
     "output_type": "execute_result"
    },
    {
     "data": {
      "image/png": "[encoded data removed]",
      "text/plain": [
       "<Figure size 640x480 with 1 Axes>"
      ]
     },
     "metadata": {},
     "output_type": "display_data"
    }
   ],
   "source": [
    "class_1[\"Workshops/Certifications\"].value_counts().plot.bar()"
   ]
  },
  {
   "cell_type": "code",
   "execution_count": 149,
   "id": "b2e89683",
   "metadata": {},
   "outputs": [
    {
     "data": {
      "text/plain": [
       "<Axes: xlabel='Internships', ylabel='count'>"
      ]
     },
     "execution_count": 149,
     "metadata": {},
     "output_type": "execute_result"
    },
    {
     "data": {
      "image/png": "[encoded data removed]",
      "text/plain": [
       "<Figure size 640x480 with 1 Axes>"
      ]
     },
     "metadata": {},
     "output_type": "display_data"
    }
   ],
   "source": [
    "sns.countplot(x=\"Internships\", data=class_1)"
   ]
  },
  {
   "cell_type": "code",
   "execution_count": 150,
   "id": "bb967d00",
   "metadata": {},
   "outputs": [
    {
     "data": {
      "text/plain": [
       "<Axes: xlabel='Projects', ylabel='count'>"
      ]
     },
     "execution_count": 150,
     "metadata": {},
     "output_type": "execute_result"
    },
    {
     "data": {
      "image/png": "[encoded data removed]",
      "text/plain": [
       "<Figure size 640x480 with 1 Axes>"
      ]
     },
     "metadata": {},
     "output_type": "display_data"
    }
   ],
   "source": [
    "sns.countplot(x=\"Projects\", data=class_1)"
   ]
  },
  {
   "cell_type": "code",
   "execution_count": 151,
   "id": "38a2df0b",
   "metadata": {},
   "outputs": [
    {
     "data": {
      "text/plain": [
       "<Axes: xlabel='Workshops/Certifications', ylabel='count'>"
      ]
     },
     "execution_count": 151,
     "metadata": {},
     "output_type": "execute_result"
    },
    {
     "data": {
      "image/png": "[encoded data removed]",
      "text/plain": [
       "<Figure size 640x480 with 1 Axes>"
      ]
     },
     "metadata": {},
     "output_type": "display_data"
    }
   ],
   "source": [
    "sns.countplot(x=\"Workshops/Certifications\", data=class_1)"
   ]
  },
  {
   "cell_type": "code",
   "execution_count": 152,
   "id": "86226c07",
   "metadata": {},
   "outputs": [
    {
     "data": {
      "text/html": [
       "<div>\n",
       "<style scoped>\n",
       "    .dataframe tbody tr th:only-of-type {\n",
       "        vertical-align: middle;\n",
       "    }\n",
       "\n",
       "    .dataframe tbody tr th {\n",
       "        vertical-align: top;\n",
       "    }\n",
       "\n",
       "    .dataframe thead th {\n",
       "        text-align: right;\n",
       "    }\n",
       "</style>\n",
       "<table border=\"1\" class=\"dataframe\">\n",
       "  <thead>\n",
       "    <tr style=\"text-align: right;\">\n",
       "      <th></th>\n",
       "      <th>CGPA</th>\n",
       "      <th>Internships</th>\n",
       "      <th>Projects</th>\n",
       "      <th>Workshops/Certifications</th>\n",
       "      <th>AptitudeTestScore</th>\n",
       "      <th>SoftSkillsRating</th>\n",
       "      <th>ExtracurricularActivities</th>\n",
       "      <th>PlacementTraining</th>\n",
       "      <th>SSC_Marks</th>\n",
       "      <th>HSC_Marks</th>\n",
       "      <th>PlacementStatus</th>\n",
       "    </tr>\n",
       "  </thead>\n",
       "  <tbody>\n",
       "    <tr>\n",
       "      <th>CGPA</th>\n",
       "      <td>1.000000</td>\n",
       "      <td>0.291053</td>\n",
       "      <td>0.441543</td>\n",
       "      <td>0.356233</td>\n",
       "      <td>0.469301</td>\n",
       "      <td>0.398949</td>\n",
       "      <td>0.443318</td>\n",
       "      <td>0.256935</td>\n",
       "      <td>0.414718</td>\n",
       "      <td>0.464659</td>\n",
       "      <td>0.424412</td>\n",
       "    </tr>\n",
       "    <tr>\n",
       "      <th>Internships</th>\n",
       "      <td>0.291053</td>\n",
       "      <td>1.000000</td>\n",
       "      <td>0.311204</td>\n",
       "      <td>0.282008</td>\n",
       "      <td>0.326931</td>\n",
       "      <td>0.284485</td>\n",
       "      <td>0.270071</td>\n",
       "      <td>0.154768</td>\n",
       "      <td>0.275093</td>\n",
       "      <td>0.309361</td>\n",
       "      <td>0.251999</td>\n",
       "    </tr>\n",
       "    <tr>\n",
       "      <th>Projects</th>\n",
       "      <td>0.441543</td>\n",
       "      <td>0.311204</td>\n",
       "      <td>1.000000</td>\n",
       "      <td>0.378513</td>\n",
       "      <td>0.543547</td>\n",
       "      <td>0.454956</td>\n",
       "      <td>0.493443</td>\n",
       "      <td>0.290191</td>\n",
       "      <td>0.499494</td>\n",
       "      <td>0.531295</td>\n",
       "      <td>0.475780</td>\n",
       "    </tr>\n",
       "    <tr>\n",
       "      <th>Workshops/Certifications</th>\n",
       "      <td>0.356233</td>\n",
       "      <td>0.282008</td>\n",
       "      <td>0.378513</td>\n",
       "      <td>1.000000</td>\n",
       "      <td>0.396128</td>\n",
       "      <td>0.351246</td>\n",
       "      <td>0.379109</td>\n",
       "      <td>0.182159</td>\n",
       "      <td>0.384518</td>\n",
       "      <td>0.417355</td>\n",
       "      <td>0.356887</td>\n",
       "    </tr>\n",
       "    <tr>\n",
       "      <th>AptitudeTestScore</th>\n",
       "      <td>0.469301</td>\n",
       "      <td>0.326931</td>\n",
       "      <td>0.543547</td>\n",
       "      <td>0.396128</td>\n",
       "      <td>1.000000</td>\n",
       "      <td>0.526258</td>\n",
       "      <td>0.476646</td>\n",
       "      <td>0.317011</td>\n",
       "      <td>0.517620</td>\n",
       "      <td>0.564479</td>\n",
       "      <td>0.521305</td>\n",
       "    </tr>\n",
       "    <tr>\n",
       "      <th>SoftSkillsRating</th>\n",
       "      <td>0.398949</td>\n",
       "      <td>0.284485</td>\n",
       "      <td>0.454956</td>\n",
       "      <td>0.351246</td>\n",
       "      <td>0.526258</td>\n",
       "      <td>1.000000</td>\n",
       "      <td>0.449312</td>\n",
       "      <td>0.237296</td>\n",
       "      <td>0.427957</td>\n",
       "      <td>0.467428</td>\n",
       "      <td>0.427037</td>\n",
       "    </tr>\n",
       "    <tr>\n",
       "      <th>ExtracurricularActivities</th>\n",
       "      <td>0.443318</td>\n",
       "      <td>0.270071</td>\n",
       "      <td>0.493443</td>\n",
       "      <td>0.379109</td>\n",
       "      <td>0.476646</td>\n",
       "      <td>0.449312</td>\n",
       "      <td>1.000000</td>\n",
       "      <td>0.328860</td>\n",
       "      <td>0.527397</td>\n",
       "      <td>0.531720</td>\n",
       "      <td>0.493595</td>\n",
       "    </tr>\n",
       "    <tr>\n",
       "      <th>PlacementTraining</th>\n",
       "      <td>0.256935</td>\n",
       "      <td>0.154768</td>\n",
       "      <td>0.290191</td>\n",
       "      <td>0.182159</td>\n",
       "      <td>0.317011</td>\n",
       "      <td>0.237296</td>\n",
       "      <td>0.328860</td>\n",
       "      <td>1.000000</td>\n",
       "      <td>0.257426</td>\n",
       "      <td>0.327987</td>\n",
       "      <td>0.334467</td>\n",
       "    </tr>\n",
       "    <tr>\n",
       "      <th>SSC_Marks</th>\n",
       "      <td>0.414718</td>\n",
       "      <td>0.275093</td>\n",
       "      <td>0.499494</td>\n",
       "      <td>0.384518</td>\n",
       "      <td>0.517620</td>\n",
       "      <td>0.427957</td>\n",
       "      <td>0.527397</td>\n",
       "      <td>0.257426</td>\n",
       "      <td>1.000000</td>\n",
       "      <td>0.524324</td>\n",
       "      <td>0.478414</td>\n",
       "    </tr>\n",
       "    <tr>\n",
       "      <th>HSC_Marks</th>\n",
       "      <td>0.464659</td>\n",
       "      <td>0.309361</td>\n",
       "      <td>0.531295</td>\n",
       "      <td>0.417355</td>\n",
       "      <td>0.564479</td>\n",
       "      <td>0.467428</td>\n",
       "      <td>0.531720</td>\n",
       "      <td>0.327987</td>\n",
       "      <td>0.524324</td>\n",
       "      <td>1.000000</td>\n",
       "      <td>0.505623</td>\n",
       "    </tr>\n",
       "    <tr>\n",
       "      <th>PlacementStatus</th>\n",
       "      <td>0.424412</td>\n",
       "      <td>0.251999</td>\n",
       "      <td>0.475780</td>\n",
       "      <td>0.356887</td>\n",
       "      <td>0.521305</td>\n",
       "      <td>0.427037</td>\n",
       "      <td>0.493595</td>\n",
       "      <td>0.334467</td>\n",
       "      <td>0.478414</td>\n",
       "      <td>0.505623</td>\n",
       "      <td>1.000000</td>\n",
       "    </tr>\n",
       "  </tbody>\n",
       "</table>\n",
       "</div>"
      ],
      "text/plain": [
       "                               CGPA  Internships  Projects  \\\n",
       "CGPA                       1.000000     0.291053  0.441543   \n",
       "Internships                0.291053     1.000000  0.311204   \n",
       "Projects                   0.441543     0.311204  1.000000   \n",
       "Workshops/Certifications   0.356233     0.282008  0.378513   \n",
       "AptitudeTestScore          0.469301     0.326931  0.543547   \n",
       "SoftSkillsRating           0.398949     0.284485  0.454956   \n",
       "ExtracurricularActivities  0.443318     0.270071  0.493443   \n",
       "PlacementTraining          0.256935     0.154768  0.290191   \n",
       "SSC_Marks                  0.414718     0.275093  0.499494   \n",
       "HSC_Marks                  0.464659     0.309361  0.531295   \n",
       "PlacementStatus            0.424412     0.251999  0.475780   \n",
       "\n",
       "                           Workshops/Certifications  AptitudeTestScore  \\\n",
       "CGPA                                       0.356233           0.469301   \n",
       "Internships                                0.282008           0.326931   \n",
       "Projects                                   0.378513           0.543547   \n",
       "Workshops/Certifications                   1.000000           0.396128   \n",
       "AptitudeTestScore                          0.396128           1.000000   \n",
       "SoftSkillsRating                           0.351246           0.526258   \n",
       "ExtracurricularActivities                  0.379109           0.476646   \n",
       "PlacementTraining                          0.182159           0.317011   \n",
       "SSC_Marks                                  0.384518           0.517620   \n",
       "HSC_Marks                                  0.417355           0.564479   \n",
       "PlacementStatus                            0.356887           0.521305   \n",
       "\n",
       "                           SoftSkillsRating  ExtracurricularActivities  \\\n",
       "CGPA                               0.398949                   0.443318   \n",
       "Internships                        0.284485                   0.270071   \n",
       "Projects                           0.454956                   0.493443   \n",
       "Workshops/Certifications           0.351246                   0.379109   \n",
       "AptitudeTestScore                  0.526258                   0.476646   \n",
       "SoftSkillsRating                   1.000000                   0.449312   \n",
       "ExtracurricularActivities          0.449312                   1.000000   \n",
       "PlacementTraining                  0.237296                   0.328860   \n",
       "SSC_Marks                          0.427957                   0.527397   \n",
       "HSC_Marks                          0.467428                   0.531720   \n",
       "PlacementStatus                    0.427037                   0.493595   \n",
       "\n",
       "                           PlacementTraining  SSC_Marks  HSC_Marks  \\\n",
       "CGPA                                0.256935   0.414718   0.464659   \n",
       "Internships                         0.154768   0.275093   0.309361   \n",
       "Projects                            0.290191   0.499494   0.531295   \n",
       "Workshops/Certifications            0.182159   0.384518   0.417355   \n",
       "AptitudeTestScore                   0.317011   0.517620   0.564479   \n",
       "SoftSkillsRating                    0.237296   0.427957   0.467428   \n",
       "ExtracurricularActivities           0.328860   0.527397   0.531720   \n",
       "PlacementTraining                   1.000000   0.257426   0.327987   \n",
       "SSC_Marks                           0.257426   1.000000   0.524324   \n",
       "HSC_Marks                           0.327987   0.524324   1.000000   \n",
       "PlacementStatus                     0.334467   0.478414   0.505623   \n",
       "\n",
       "                           PlacementStatus  \n",
       "CGPA                              0.424412  \n",
       "Internships                       0.251999  \n",
       "Projects                          0.475780  \n",
       "Workshops/Certifications          0.356887  \n",
       "AptitudeTestScore                 0.521305  \n",
       "SoftSkillsRating                  0.427037  \n",
       "ExtracurricularActivities         0.493595  \n",
       "PlacementTraining                 0.334467  \n",
       "SSC_Marks                         0.478414  \n",
       "HSC_Marks                         0.505623  \n",
       "PlacementStatus                   1.000000  "
      ]
     },
     "execution_count": 152,
     "metadata": {},
     "output_type": "execute_result"
    }
   ],
   "source": [
    "cor=class_1.corr()\n",
    "cor"
   ]
  },
  {
   "cell_type": "code",
   "execution_count": 153,
   "id": "68eb3a8d",
   "metadata": {},
   "outputs": [
    {
     "data": {
      "text/plain": [
       "<Axes: >"
      ]
     },
     "execution_count": 153,
     "metadata": {},
     "output_type": "execute_result"
    },
    {
     "data": {
      "image/png": "[encoded data removed]",
      "text/plain": [
       "<Figure size 640x480 with 2 Axes>"
      ]
     },
     "metadata": {},
     "output_type": "display_data"
    }
   ],
   "source": [
    "sns.heatmap(cor)"
   ]
  },
  {
   "cell_type": "code",
   "execution_count": 154,
   "id": "f308a707",
   "metadata": {},
   "outputs": [
    {
     "data": {
      "text/plain": [
       "<Axes: xlabel='PlacementStatus'>"
      ]
     },
     "execution_count": 154,
     "metadata": {},
     "output_type": "execute_result"
    },
    {
     "data": {
      "image/png": "[encoded data removed]",
      "text/plain": [
       "<Figure size 640x480 with 1 Axes>"
      ]
     },
     "metadata": {},
     "output_type": "display_data"
    }
   ],
   "source": [
    "data[\"PlacementStatus\"].value_counts().plot.bar()"
   ]
  },
  {
   "cell_type": "code",
   "execution_count": 153,
   "id": "2507a0f3",
   "metadata": {},
   "outputs": [
    {
     "data": {
      "text/plain": [
       "<Axes: xlabel='PlacementStatus'>"
      ]
     },
     "execution_count": 153,
     "metadata": {},
     "output_type": "execute_result"
    },
    {
     "data": {
      "image/png": "[encoded data removed]",
      "text/plain": [
       "<Figure size 640x480 with 1 Axes>"
      ]
     },
     "metadata": {},
     "output_type": "display_data"
    }
   ],
   "source": [
    "class_1[\"PlacementStatus\"].value_counts().plot.bar()"
   ]
  },
  {
   "cell_type": "markdown",
   "id": "4da9fc72",
   "metadata": {},
   "source": [
    "# Model build"
   ]
  },
  {
   "cell_type": "code",
   "execution_count": 154,
   "id": "a801a3a2",
   "metadata": {},
   "outputs": [],
   "source": [
    "xo=class_1.iloc[:,:-1]\n",
    "yo=class_1.iloc[:,-1]"
   ]
  },
  {
   "cell_type": "code",
   "execution_count": 155,
   "id": "c84c29b1",
   "metadata": {},
   "outputs": [
    {
     "data": {
      "text/plain": [
       "((11606,), (11606, 10))"
      ]
     },
     "execution_count": 155,
     "metadata": {},
     "output_type": "execute_result"
    }
   ],
   "source": [
    "yo.shape,xo.shape"
   ]
  },
  {
   "cell_type": "code",
   "execution_count": 156,
   "id": "f72f6f3d",
   "metadata": {},
   "outputs": [],
   "source": [
    "x1_tr,x1_te,y1_tr,y1_te=train_test_split(xo,yo,test_size=0.2,random_state=100)"
   ]
  },
  {
   "cell_type": "code",
   "execution_count": 157,
   "id": "4c0fb545",
   "metadata": {},
   "outputs": [
    {
     "data": {
      "text/plain": [
       "((9284, 10), (2322, 10), (9284,), (2322,))"
      ]
     },
     "execution_count": 157,
     "metadata": {},
     "output_type": "execute_result"
    }
   ],
   "source": [
    "x1_tr.shape,x1_te.shape,y1_tr.shape,y1_te.shape"
   ]
  },
  {
   "cell_type": "markdown",
   "id": "eab42725",
   "metadata": {},
   "source": [
    "# Logestic Regression"
   ]
  },
  {
   "cell_type": "code",
   "execution_count": 158,
   "id": "d9dadb88",
   "metadata": {},
   "outputs": [],
   "source": [
    "from sklearn.linear_model import LogisticRegression\n",
    "lg=LogisticRegression()"
   ]
  },
  {
   "cell_type": "code",
   "execution_count": 159,
   "id": "633abdb0",
   "metadata": {},
   "outputs": [
    {
     "data": {
      "text/html": [
       "<style>#sk-container-id-9 {color: black;}#sk-container-id-9 pre{padding: 0;}#sk-container-id-9 div.sk-toggleable {background-color: white;}#sk-container-id-9 label.sk-toggleable__label {cursor: pointer;display: block;width: 100%;margin-bottom: 0;padding: 0.3em;box-sizing: border-box;text-align: center;}#sk-container-id-9 label.sk-toggleable__label-arrow:before {content: \"▸\";float: left;margin-right: 0.25em;color: #696969;}#sk-container-id-9 label.sk-toggleable__label-arrow:hover:before {color: black;}#sk-container-id-9 div.sk-estimator:hover label.sk-toggleable__label-arrow:before {color: black;}#sk-container-id-9 div.sk-toggleable__content {max-height: 0;max-width: 0;overflow: hidden;text-align: left;background-color: #f0f8ff;}#sk-container-id-9 div.sk-toggleable__content pre {margin: 0.2em;color: black;border-radius: 0.25em;background-color: #f0f8ff;}#sk-container-id-9 input.sk-toggleable__control:checked~div.sk-toggleable__content {max-height: 200px;max-width: 100%;overflow: auto;}#sk-container-id-9 input.sk-toggleable__control:checked~label.sk-toggleable__label-arrow:before {content: \"▾\";}#sk-container-id-9 div.sk-estimator input.sk-toggleable__control:checked~label.sk-toggleable__label {background-color: #d4ebff;}#sk-container-id-9 div.sk-label input.sk-toggleable__control:checked~label.sk-toggleable__label {background-color: #d4ebff;}#sk-container-id-9 input.sk-hidden--visually {border: 0;clip: rect(1px 1px 1px 1px);clip: rect(1px, 1px, 1px, 1px);height: 1px;margin: -1px;overflow: hidden;padding: 0;position: absolute;width: 1px;}#sk-container-id-9 div.sk-estimator {font-family: monospace;background-color: #f0f8ff;border: 1px dotted black;border-radius: 0.25em;box-sizing: border-box;margin-bottom: 0.5em;}#sk-container-id-9 div.sk-estimator:hover {background-color: #d4ebff;}#sk-container-id-9 div.sk-parallel-item::after {content: \"\";width: 100%;border-bottom: 1px solid gray;flex-grow: 1;}#sk-container-id-9 div.sk-label:hover label.sk-toggleable__label {background-color: #d4ebff;}#sk-container-id-9 div.sk-serial::before {content: \"\";position: absolute;border-left: 1px solid gray;box-sizing: border-box;top: 0;bottom: 0;left: 50%;z-index: 0;}#sk-container-id-9 div.sk-serial {display: flex;flex-direction: column;align-items: center;background-color: white;padding-right: 0.2em;padding-left: 0.2em;position: relative;}#sk-container-id-9 div.sk-item {position: relative;z-index: 1;}#sk-container-id-9 div.sk-parallel {display: flex;align-items: stretch;justify-content: center;background-color: white;position: relative;}#sk-container-id-9 div.sk-item::before, #sk-container-id-9 div.sk-parallel-item::before {content: \"\";position: absolute;border-left: 1px solid gray;box-sizing: border-box;top: 0;bottom: 0;left: 50%;z-index: -1;}#sk-container-id-9 div.sk-parallel-item {display: flex;flex-direction: column;z-index: 1;position: relative;background-color: white;}#sk-container-id-9 div.sk-parallel-item:first-child::after {align-self: flex-end;width: 50%;}#sk-container-id-9 div.sk-parallel-item:last-child::after {align-self: flex-start;width: 50%;}#sk-container-id-9 div.sk-parallel-item:only-child::after {width: 0;}#sk-container-id-9 div.sk-dashed-wrapped {border: 1px dashed gray;margin: 0 0.4em 0.5em 0.4em;box-sizing: border-box;padding-bottom: 0.4em;background-color: white;}#sk-container-id-9 div.sk-label label {font-family: monospace;font-weight: bold;display: inline-block;line-height: 1.2em;}#sk-container-id-9 div.sk-label-container {text-align: center;}#sk-container-id-9 div.sk-container {/* jupyter's `normalize.less` sets `[hidden] { display: none; }` but bootstrap.min.css set `[hidden] { display: none !important; }` so we also need the `!important` here to be able to override the default hidden behavior on the sphinx rendered scikit-learn.org. See: https://github.com/scikit-learn/scikit-learn/issues/21755 */display: inline-block !important;position: relative;}#sk-container-id-9 div.sk-text-repr-fallback {display: none;}</style><div id=\"sk-container-id-9\" class=\"sk-top-container\"><div class=\"sk-text-repr-fallback\"><pre>LogisticRegression()</pre><b>In a Jupyter environment, please rerun this cell to show the HTML representation or trust the notebook. <br />On GitHub, the HTML representation is unable to render, please try loading this page with nbviewer.org.</b></div><div class=\"sk-container\" hidden><div class=\"sk-item\"><div class=\"sk-estimator sk-toggleable\"><input class=\"sk-toggleable__control sk-hidden--visually\" id=\"sk-estimator-id-11\" type=\"checkbox\" checked><label for=\"sk-estimator-id-11\" class=\"sk-toggleable__label sk-toggleable__label-arrow\">LogisticRegression</label><div class=\"sk-toggleable__content\"><pre>LogisticRegression()</pre></div></div></div></div></div>"
      ],
      "text/plain": [
       "LogisticRegression()"
      ]
     },
     "execution_count": 159,
     "metadata": {},
     "output_type": "execute_result"
    }
   ],
   "source": [
    "lg.fit(x1_tr,y1_tr)"
   ]
  },
  {
   "cell_type": "code",
   "execution_count": 160,
   "id": "46531494",
   "metadata": {},
   "outputs": [
    {
     "data": {
      "text/plain": [
       "array([1, 0, 1, ..., 1, 0, 0])"
      ]
     },
     "execution_count": 160,
     "metadata": {},
     "output_type": "execute_result"
    }
   ],
   "source": [
    "lg_p1=lg.predict(x1_te)\n",
    "lg_p1"
   ]
  },
  {
   "cell_type": "code",
   "execution_count": 161,
   "id": "600baf76",
   "metadata": {},
   "outputs": [
    {
     "data": {
      "text/plain": [
       "array([1, 0, 1, ..., 1, 0, 0])"
      ]
     },
     "execution_count": 161,
     "metadata": {},
     "output_type": "execute_result"
    }
   ],
   "source": [
    "lg_p1=lg.predict(x1_te)\n",
    "lg_p1"
   ]
  },
  {
   "cell_type": "code",
   "execution_count": 162,
   "id": "4bf581da",
   "metadata": {},
   "outputs": [
    {
     "data": {
      "text/plain": [
       "array([[884, 202],\n",
       "       [310, 926]], dtype=int64)"
      ]
     },
     "execution_count": 162,
     "metadata": {},
     "output_type": "execute_result"
    }
   ],
   "source": [
    "lg_m1=confusion_matrix(lg_p1,y1_te)\n",
    "lg_m1"
   ]
  },
  {
   "cell_type": "code",
   "execution_count": 163,
   "id": "f02353de",
   "metadata": {},
   "outputs": [
    {
     "data": {
      "text/plain": [
       "77.95004306632214"
      ]
     },
     "execution_count": 163,
     "metadata": {},
     "output_type": "execute_result"
    }
   ],
   "source": [
    "lg_acc1=lg_m1.diagonal().sum()/lg_m1.sum()*100\n",
    "lg_acc1"
   ]
  },
  {
   "cell_type": "code",
   "execution_count": 164,
   "id": "9f1da999",
   "metadata": {},
   "outputs": [
    {
     "name": "stdout",
     "output_type": "stream",
     "text": [
      "              precision    recall  f1-score   support\n",
      "\n",
      "           0       0.74      0.81      0.78      1086\n",
      "           1       0.82      0.75      0.78      1236\n",
      "\n",
      "    accuracy                           0.78      2322\n",
      "   macro avg       0.78      0.78      0.78      2322\n",
      "weighted avg       0.78      0.78      0.78      2322\n",
      "\n"
     ]
    }
   ],
   "source": [
    "print(classification_report(lg_p1,y1_te))"
   ]
  },
  {
   "cell_type": "code",
   "execution_count": 165,
   "id": "8f1755b3",
   "metadata": {},
   "outputs": [
    {
     "data": {
      "text/plain": [
       "0.7336683417085427"
      ]
     },
     "execution_count": 165,
     "metadata": {},
     "output_type": "execute_result"
    }
   ],
   "source": [
    "#tpr=tp/(tp+fn)\n",
    "tpr8=876/(876+318)\n",
    "tpr8"
   ]
  },
  {
   "cell_type": "code",
   "execution_count": 166,
   "id": "b7290a68",
   "metadata": {},
   "outputs": [
    {
     "data": {
      "text/plain": [
       "0.16489361702127658"
      ]
     },
     "execution_count": 166,
     "metadata": {},
     "output_type": "execute_result"
    }
   ],
   "source": [
    "#fpr=fp/(fp+tn)\n",
    "fpr8=186/(186+942)\n",
    "fpr8"
   ]
  },
  {
   "cell_type": "code",
   "execution_count": 167,
   "id": "74bfb1f7",
   "metadata": {},
   "outputs": [
    {
     "data": {
      "text/plain": [
       "0.8248587570621468"
      ]
     },
     "execution_count": 167,
     "metadata": {},
     "output_type": "execute_result"
    }
   ],
   "source": [
    "#precision=tp/(tp+fp)\n",
    "precesion8=876/(876+186)\n",
    "precesion8"
   ]
  },
  {
   "cell_type": "code",
   "execution_count": 168,
   "id": "fc584f24",
   "metadata": {},
   "outputs": [
    {
     "data": {
      "text/plain": [
       "0.776595744680851"
      ]
     },
     "execution_count": 168,
     "metadata": {},
     "output_type": "execute_result"
    }
   ],
   "source": [
    "#f1score=2(precesion*recall)/(precision+recall)\n",
    "f1score8=(2*(precesion8*tpr8))/(precesion8+tpr8)\n",
    "f1score8"
   ]
  },
  {
   "cell_type": "markdown",
   "id": "afc76ddd",
   "metadata": {},
   "source": [
    "# Decision Tree"
   ]
  },
  {
   "cell_type": "code",
   "execution_count": 169,
   "id": "63467dc5",
   "metadata": {},
   "outputs": [],
   "source": [
    "from sklearn.tree import DecisionTreeClassifier\n",
    "dt=DecisionTreeClassifier()"
   ]
  },
  {
   "cell_type": "code",
   "execution_count": 170,
   "id": "ff3bd152",
   "metadata": {},
   "outputs": [
    {
     "data": {
      "text/html": [
       "<style>#sk-container-id-10 {color: black;}#sk-container-id-10 pre{padding: 0;}#sk-container-id-10 div.sk-toggleable {background-color: white;}#sk-container-id-10 label.sk-toggleable__label {cursor: pointer;display: block;width: 100%;margin-bottom: 0;padding: 0.3em;box-sizing: border-box;text-align: center;}#sk-container-id-10 label.sk-toggleable__label-arrow:before {content: \"▸\";float: left;margin-right: 0.25em;color: #696969;}#sk-container-id-10 label.sk-toggleable__label-arrow:hover:before {color: black;}#sk-container-id-10 div.sk-estimator:hover label.sk-toggleable__label-arrow:before {color: black;}#sk-container-id-10 div.sk-toggleable__content {max-height: 0;max-width: 0;overflow: hidden;text-align: left;background-color: #f0f8ff;}#sk-container-id-10 div.sk-toggleable__content pre {margin: 0.2em;color: black;border-radius: 0.25em;background-color: #f0f8ff;}#sk-container-id-10 input.sk-toggleable__control:checked~div.sk-toggleable__content {max-height: 200px;max-width: 100%;overflow: auto;}#sk-container-id-10 input.sk-toggleable__control:checked~label.sk-toggleable__label-arrow:before {content: \"▾\";}#sk-container-id-10 div.sk-estimator input.sk-toggleable__control:checked~label.sk-toggleable__label {background-color: #d4ebff;}#sk-container-id-10 div.sk-label input.sk-toggleable__control:checked~label.sk-toggleable__label {background-color: #d4ebff;}#sk-container-id-10 input.sk-hidden--visually {border: 0;clip: rect(1px 1px 1px 1px);clip: rect(1px, 1px, 1px, 1px);height: 1px;margin: -1px;overflow: hidden;padding: 0;position: absolute;width: 1px;}#sk-container-id-10 div.sk-estimator {font-family: monospace;background-color: #f0f8ff;border: 1px dotted black;border-radius: 0.25em;box-sizing: border-box;margin-bottom: 0.5em;}#sk-container-id-10 div.sk-estimator:hover {background-color: #d4ebff;}#sk-container-id-10 div.sk-parallel-item::after {content: \"\";width: 100%;border-bottom: 1px solid gray;flex-grow: 1;}#sk-container-id-10 div.sk-label:hover label.sk-toggleable__label {background-color: #d4ebff;}#sk-container-id-10 div.sk-serial::before {content: \"\";position: absolute;border-left: 1px solid gray;box-sizing: border-box;top: 0;bottom: 0;left: 50%;z-index: 0;}#sk-container-id-10 div.sk-serial {display: flex;flex-direction: column;align-items: center;background-color: white;padding-right: 0.2em;padding-left: 0.2em;position: relative;}#sk-container-id-10 div.sk-item {position: relative;z-index: 1;}#sk-container-id-10 div.sk-parallel {display: flex;align-items: stretch;justify-content: center;background-color: white;position: relative;}#sk-container-id-10 div.sk-item::before, #sk-container-id-10 div.sk-parallel-item::before {content: \"\";position: absolute;border-left: 1px solid gray;box-sizing: border-box;top: 0;bottom: 0;left: 50%;z-index: -1;}#sk-container-id-10 div.sk-parallel-item {display: flex;flex-direction: column;z-index: 1;position: relative;background-color: white;}#sk-container-id-10 div.sk-parallel-item:first-child::after {align-self: flex-end;width: 50%;}#sk-container-id-10 div.sk-parallel-item:last-child::after {align-self: flex-start;width: 50%;}#sk-container-id-10 div.sk-parallel-item:only-child::after {width: 0;}#sk-container-id-10 div.sk-dashed-wrapped {border: 1px dashed gray;margin: 0 0.4em 0.5em 0.4em;box-sizing: border-box;padding-bottom: 0.4em;background-color: white;}#sk-container-id-10 div.sk-label label {font-family: monospace;font-weight: bold;display: inline-block;line-height: 1.2em;}#sk-container-id-10 div.sk-label-container {text-align: center;}#sk-container-id-10 div.sk-container {/* jupyter's `normalize.less` sets `[hidden] { display: none; }` but bootstrap.min.css set `[hidden] { display: none !important; }` so we also need the `!important` here to be able to override the default hidden behavior on the sphinx rendered scikit-learn.org. See: https://github.com/scikit-learn/scikit-learn/issues/21755 */display: inline-block !important;position: relative;}#sk-container-id-10 div.sk-text-repr-fallback {display: none;}</style><div id=\"sk-container-id-10\" class=\"sk-top-container\"><div class=\"sk-text-repr-fallback\"><pre>DecisionTreeClassifier()</pre><b>In a Jupyter environment, please rerun this cell to show the HTML representation or trust the notebook. <br />On GitHub, the HTML representation is unable to render, please try loading this page with nbviewer.org.</b></div><div class=\"sk-container\" hidden><div class=\"sk-item\"><div class=\"sk-estimator sk-toggleable\"><input class=\"sk-toggleable__control sk-hidden--visually\" id=\"sk-estimator-id-12\" type=\"checkbox\" checked><label for=\"sk-estimator-id-12\" class=\"sk-toggleable__label sk-toggleable__label-arrow\">DecisionTreeClassifier</label><div class=\"sk-toggleable__content\"><pre>DecisionTreeClassifier()</pre></div></div></div></div></div>"
      ],
      "text/plain": [
       "DecisionTreeClassifier()"
      ]
     },
     "execution_count": 170,
     "metadata": {},
     "output_type": "execute_result"
    }
   ],
   "source": [
    "dt.fit(x1_tr,y1_tr)"
   ]
  },
  {
   "cell_type": "code",
   "execution_count": 171,
   "id": "1bb3de16",
   "metadata": {},
   "outputs": [
    {
     "data": {
      "text/plain": [
       "array([1, 0, 1, ..., 1, 1, 1])"
      ]
     },
     "execution_count": 171,
     "metadata": {},
     "output_type": "execute_result"
    }
   ],
   "source": [
    "dt_p1=dt.predict(x1_te)\n",
    "dt_p1"
   ]
  },
  {
   "cell_type": "code",
   "execution_count": 172,
   "id": "2d3ab2bf",
   "metadata": {},
   "outputs": [
    {
     "data": {
      "text/plain": [
       "array([[898, 138],\n",
       "       [296, 990]], dtype=int64)"
      ]
     },
     "execution_count": 172,
     "metadata": {},
     "output_type": "execute_result"
    }
   ],
   "source": [
    "dt_m1=confusion_matrix(dt_p1,y1_te)\n",
    "dt_m1"
   ]
  },
  {
   "cell_type": "code",
   "execution_count": 173,
   "id": "9fb5c75a",
   "metadata": {},
   "outputs": [
    {
     "data": {
      "text/plain": [
       "81.30921619293713"
      ]
     },
     "execution_count": 173,
     "metadata": {},
     "output_type": "execute_result"
    }
   ],
   "source": [
    "dt_acc1=dt_m1.diagonal().sum()/dt_m1.sum()*100\n",
    "dt_acc1"
   ]
  },
  {
   "cell_type": "code",
   "execution_count": 174,
   "id": "daa0a046",
   "metadata": {},
   "outputs": [
    {
     "name": "stdout",
     "output_type": "stream",
     "text": [
      "              precision    recall  f1-score   support\n",
      "\n",
      "           0       0.75      0.87      0.81      1036\n",
      "           1       0.88      0.77      0.82      1286\n",
      "\n",
      "    accuracy                           0.81      2322\n",
      "   macro avg       0.81      0.82      0.81      2322\n",
      "weighted avg       0.82      0.81      0.81      2322\n",
      "\n"
     ]
    }
   ],
   "source": [
    "print(classification_report(dt_p1,y1_te))"
   ]
  },
  {
   "cell_type": "code",
   "execution_count": 175,
   "id": "b652d16e",
   "metadata": {},
   "outputs": [
    {
     "data": {
      "text/plain": [
       "0.7646566164154104"
      ]
     },
     "execution_count": 175,
     "metadata": {},
     "output_type": "execute_result"
    }
   ],
   "source": [
    "#tpr=tp/(tp+fn)\n",
    "tpr9=913/(913+281)\n",
    "tpr9"
   ]
  },
  {
   "cell_type": "code",
   "execution_count": 176,
   "id": "ceb527ba",
   "metadata": {},
   "outputs": [
    {
     "data": {
      "text/plain": [
       "0.0975177304964539"
      ]
     },
     "execution_count": 176,
     "metadata": {},
     "output_type": "execute_result"
    }
   ],
   "source": [
    "#fpr=fp/(fp+tn)\n",
    "fpr9=110/(110+1018)\n",
    "fpr9"
   ]
  },
  {
   "cell_type": "code",
   "execution_count": 177,
   "id": "12796323",
   "metadata": {},
   "outputs": [
    {
     "data": {
      "text/plain": [
       "0.8924731182795699"
      ]
     },
     "execution_count": 177,
     "metadata": {},
     "output_type": "execute_result"
    }
   ],
   "source": [
    "#precision=tp/(tp+fp)\n",
    "precesion9=913/(913+110)\n",
    "precesion9"
   ]
  },
  {
   "cell_type": "code",
   "execution_count": 178,
   "id": "7eef8d95",
   "metadata": {},
   "outputs": [
    {
     "data": {
      "text/plain": [
       "0.8236355435272892"
      ]
     },
     "execution_count": 178,
     "metadata": {},
     "output_type": "execute_result"
    }
   ],
   "source": [
    "#f1score=2(precesion*recall)/(precision+recall)\n",
    "f1score9=(2*(precesion9*tpr9))/(precesion9+tpr9)\n",
    "f1score9"
   ]
  },
  {
   "cell_type": "markdown",
   "id": "33ff02fa",
   "metadata": {},
   "source": [
    "# Random Forest"
   ]
  },
  {
   "cell_type": "code",
   "execution_count": 179,
   "id": "be969e54",
   "metadata": {},
   "outputs": [],
   "source": [
    "from sklearn.ensemble import RandomForestClassifier\n",
    "rf=RandomForestClassifier()"
   ]
  },
  {
   "cell_type": "code",
   "execution_count": 180,
   "id": "dc8dc18e",
   "metadata": {},
   "outputs": [
    {
     "data": {
      "text/html": [
       "<style>#sk-container-id-11 {color: black;}#sk-container-id-11 pre{padding: 0;}#sk-container-id-11 div.sk-toggleable {background-color: white;}#sk-container-id-11 label.sk-toggleable__label {cursor: pointer;display: block;width: 100%;margin-bottom: 0;padding: 0.3em;box-sizing: border-box;text-align: center;}#sk-container-id-11 label.sk-toggleable__label-arrow:before {content: \"▸\";float: left;margin-right: 0.25em;color: #696969;}#sk-container-id-11 label.sk-toggleable__label-arrow:hover:before {color: black;}#sk-container-id-11 div.sk-estimator:hover label.sk-toggleable__label-arrow:before {color: black;}#sk-container-id-11 div.sk-toggleable__content {max-height: 0;max-width: 0;overflow: hidden;text-align: left;background-color: #f0f8ff;}#sk-container-id-11 div.sk-toggleable__content pre {margin: 0.2em;color: black;border-radius: 0.25em;background-color: #f0f8ff;}#sk-container-id-11 input.sk-toggleable__control:checked~div.sk-toggleable__content {max-height: 200px;max-width: 100%;overflow: auto;}#sk-container-id-11 input.sk-toggleable__control:checked~label.sk-toggleable__label-arrow:before {content: \"▾\";}#sk-container-id-11 div.sk-estimator input.sk-toggleable__control:checked~label.sk-toggleable__label {background-color: #d4ebff;}#sk-container-id-11 div.sk-label input.sk-toggleable__control:checked~label.sk-toggleable__label {background-color: #d4ebff;}#sk-container-id-11 input.sk-hidden--visually {border: 0;clip: rect(1px 1px 1px 1px);clip: rect(1px, 1px, 1px, 1px);height: 1px;margin: -1px;overflow: hidden;padding: 0;position: absolute;width: 1px;}#sk-container-id-11 div.sk-estimator {font-family: monospace;background-color: #f0f8ff;border: 1px dotted black;border-radius: 0.25em;box-sizing: border-box;margin-bottom: 0.5em;}#sk-container-id-11 div.sk-estimator:hover {background-color: #d4ebff;}#sk-container-id-11 div.sk-parallel-item::after {content: \"\";width: 100%;border-bottom: 1px solid gray;flex-grow: 1;}#sk-container-id-11 div.sk-label:hover label.sk-toggleable__label {background-color: #d4ebff;}#sk-container-id-11 div.sk-serial::before {content: \"\";position: absolute;border-left: 1px solid gray;box-sizing: border-box;top: 0;bottom: 0;left: 50%;z-index: 0;}#sk-container-id-11 div.sk-serial {display: flex;flex-direction: column;align-items: center;background-color: white;padding-right: 0.2em;padding-left: 0.2em;position: relative;}#sk-container-id-11 div.sk-item {position: relative;z-index: 1;}#sk-container-id-11 div.sk-parallel {display: flex;align-items: stretch;justify-content: center;background-color: white;position: relative;}#sk-container-id-11 div.sk-item::before, #sk-container-id-11 div.sk-parallel-item::before {content: \"\";position: absolute;border-left: 1px solid gray;box-sizing: border-box;top: 0;bottom: 0;left: 50%;z-index: -1;}#sk-container-id-11 div.sk-parallel-item {display: flex;flex-direction: column;z-index: 1;position: relative;background-color: white;}#sk-container-id-11 div.sk-parallel-item:first-child::after {align-self: flex-end;width: 50%;}#sk-container-id-11 div.sk-parallel-item:last-child::after {align-self: flex-start;width: 50%;}#sk-container-id-11 div.sk-parallel-item:only-child::after {width: 0;}#sk-container-id-11 div.sk-dashed-wrapped {border: 1px dashed gray;margin: 0 0.4em 0.5em 0.4em;box-sizing: border-box;padding-bottom: 0.4em;background-color: white;}#sk-container-id-11 div.sk-label label {font-family: monospace;font-weight: bold;display: inline-block;line-height: 1.2em;}#sk-container-id-11 div.sk-label-container {text-align: center;}#sk-container-id-11 div.sk-container {/* jupyter's `normalize.less` sets `[hidden] { display: none; }` but bootstrap.min.css set `[hidden] { display: none !important; }` so we also need the `!important` here to be able to override the default hidden behavior on the sphinx rendered scikit-learn.org. See: https://github.com/scikit-learn/scikit-learn/issues/21755 */display: inline-block !important;position: relative;}#sk-container-id-11 div.sk-text-repr-fallback {display: none;}</style><div id=\"sk-container-id-11\" class=\"sk-top-container\"><div class=\"sk-text-repr-fallback\"><pre>RandomForestClassifier()</pre><b>In a Jupyter environment, please rerun this cell to show the HTML representation or trust the notebook. <br />On GitHub, the HTML representation is unable to render, please try loading this page with nbviewer.org.</b></div><div class=\"sk-container\" hidden><div class=\"sk-item\"><div class=\"sk-estimator sk-toggleable\"><input class=\"sk-toggleable__control sk-hidden--visually\" id=\"sk-estimator-id-13\" type=\"checkbox\" checked><label for=\"sk-estimator-id-13\" class=\"sk-toggleable__label sk-toggleable__label-arrow\">RandomForestClassifier</label><div class=\"sk-toggleable__content\"><pre>RandomForestClassifier()</pre></div></div></div></div></div>"
      ],
      "text/plain": [
       "RandomForestClassifier()"
      ]
     },
     "execution_count": 180,
     "metadata": {},
     "output_type": "execute_result"
    }
   ],
   "source": [
    "rf.fit(x1_tr,y1_tr)"
   ]
  },
  {
   "cell_type": "code",
   "execution_count": 181,
   "id": "1f96f606",
   "metadata": {},
   "outputs": [
    {
     "data": {
      "text/plain": [
       "array([1, 0, 1, ..., 1, 1, 0])"
      ]
     },
     "execution_count": 181,
     "metadata": {},
     "output_type": "execute_result"
    }
   ],
   "source": [
    "rf_pre1=rf.predict(x1_te)\n",
    "rf_pre1"
   ]
  },
  {
   "cell_type": "code",
   "execution_count": 182,
   "id": "cc573283",
   "metadata": {},
   "outputs": [
    {
     "data": {
      "text/plain": [
       "array([[ 995,  101],\n",
       "       [ 199, 1027]], dtype=int64)"
      ]
     },
     "execution_count": 182,
     "metadata": {},
     "output_type": "execute_result"
    }
   ],
   "source": [
    "rf_mat1=confusion_matrix(rf_pre1,y1_te)\n",
    "rf_mat1"
   ]
  },
  {
   "cell_type": "code",
   "execution_count": 183,
   "id": "1e6ce811",
   "metadata": {},
   "outputs": [
    {
     "data": {
      "text/plain": [
       "87.08010335917312"
      ]
     },
     "execution_count": 183,
     "metadata": {},
     "output_type": "execute_result"
    }
   ],
   "source": [
    "rf_acc1=rf_mat1.diagonal().sum()/rf_mat1.sum()*100\n",
    "rf_acc1"
   ]
  },
  {
   "cell_type": "code",
   "execution_count": 184,
   "id": "6b5d6c1f",
   "metadata": {},
   "outputs": [
    {
     "name": "stdout",
     "output_type": "stream",
     "text": [
      "              precision    recall  f1-score   support\n",
      "\n",
      "           0       0.83      0.91      0.87      1096\n",
      "           1       0.91      0.84      0.87      1226\n",
      "\n",
      "    accuracy                           0.87      2322\n",
      "   macro avg       0.87      0.87      0.87      2322\n",
      "weighted avg       0.87      0.87      0.87      2322\n",
      "\n"
     ]
    }
   ],
   "source": [
    "print(classification_report (rf_pre1,y1_te))"
   ]
  },
  {
   "cell_type": "code",
   "execution_count": 185,
   "id": "13fa1e77",
   "metadata": {},
   "outputs": [
    {
     "data": {
      "text/plain": [
       "0.8266331658291457"
      ]
     },
     "execution_count": 185,
     "metadata": {},
     "output_type": "execute_result"
    }
   ],
   "source": [
    "#tpr=tp/(tp+fn)\n",
    "tpr10=987/(987+207)\n",
    "tpr10"
   ]
  },
  {
   "cell_type": "code",
   "execution_count": 186,
   "id": "38fdc739",
   "metadata": {},
   "outputs": [
    {
     "data": {
      "text/plain": [
       "0.08244680851063829"
      ]
     },
     "execution_count": 186,
     "metadata": {},
     "output_type": "execute_result"
    }
   ],
   "source": [
    "#fpr=fp/(fp+tn)\n",
    "fpr10=93/(93+1035)\n",
    "fpr10"
   ]
  },
  {
   "cell_type": "code",
   "execution_count": 187,
   "id": "a3d7f4a4",
   "metadata": {},
   "outputs": [
    {
     "data": {
      "text/plain": [
       "0.9138888888888889"
      ]
     },
     "execution_count": 187,
     "metadata": {},
     "output_type": "execute_result"
    }
   ],
   "source": [
    "#precision=tp/(tp+fp)\n",
    "precesion10=987/(987+93)\n",
    "precesion10"
   ]
  },
  {
   "cell_type": "code",
   "execution_count": 188,
   "id": "146b8219",
   "metadata": {},
   "outputs": [
    {
     "data": {
      "text/plain": [
       "0.9360705377261668"
      ]
     },
     "execution_count": 188,
     "metadata": {},
     "output_type": "execute_result"
    }
   ],
   "source": [
    "#f1score=2(precesion*recall)/(precision+recall)\n",
    "f1score10=(2*(precesion10*tpr10))/(precesion6+tpr10)\n",
    "f1score10"
   ]
  },
  {
   "cell_type": "code",
   "execution_count": 189,
   "id": "eefd6ce2",
   "metadata": {},
   "outputs": [],
   "source": [
    "precision,recall,threshold=precision_recall_curve(y1_te,rf_pre1)"
   ]
  },
  {
   "cell_type": "code",
   "execution_count": 190,
   "id": "8dbfa36c",
   "metadata": {},
   "outputs": [
    {
     "data": {
      "image/png": "[encoded data removed]",
      "text/plain": [
       "<Figure size 640x480 with 1 Axes>"
      ]
     },
     "metadata": {},
     "output_type": "display_data"
    }
   ],
   "source": [
    "fig,ax=plt.subplots()\n",
    "ax.plot(recall,precision,color=\"purple\")\n",
    "plt.show()"
   ]
  },
  {
   "cell_type": "markdown",
   "id": "76faae93",
   "metadata": {},
   "source": [
    "# KNN"
   ]
  },
  {
   "cell_type": "code",
   "execution_count": 191,
   "id": "24fee617",
   "metadata": {},
   "outputs": [],
   "source": [
    "from sklearn.neighbors import KNeighborsClassifier\n",
    "knn=KNeighborsClassifier(n_neighbors=25)"
   ]
  },
  {
   "cell_type": "code",
   "execution_count": 192,
   "id": "9a65dbea",
   "metadata": {},
   "outputs": [
    {
     "data": {
      "text/html": [
       "<style>#sk-container-id-12 {color: black;}#sk-container-id-12 pre{padding: 0;}#sk-container-id-12 div.sk-toggleable {background-color: white;}#sk-container-id-12 label.sk-toggleable__label {cursor: pointer;display: block;width: 100%;margin-bottom: 0;padding: 0.3em;box-sizing: border-box;text-align: center;}#sk-container-id-12 label.sk-toggleable__label-arrow:before {content: \"▸\";float: left;margin-right: 0.25em;color: #696969;}#sk-container-id-12 label.sk-toggleable__label-arrow:hover:before {color: black;}#sk-container-id-12 div.sk-estimator:hover label.sk-toggleable__label-arrow:before {color: black;}#sk-container-id-12 div.sk-toggleable__content {max-height: 0;max-width: 0;overflow: hidden;text-align: left;background-color: #f0f8ff;}#sk-container-id-12 div.sk-toggleable__content pre {margin: 0.2em;color: black;border-radius: 0.25em;background-color: #f0f8ff;}#sk-container-id-12 input.sk-toggleable__control:checked~div.sk-toggleable__content {max-height: 200px;max-width: 100%;overflow: auto;}#sk-container-id-12 input.sk-toggleable__control:checked~label.sk-toggleable__label-arrow:before {content: \"▾\";}#sk-container-id-12 div.sk-estimator input.sk-toggleable__control:checked~label.sk-toggleable__label {background-color: #d4ebff;}#sk-container-id-12 div.sk-label input.sk-toggleable__control:checked~label.sk-toggleable__label {background-color: #d4ebff;}#sk-container-id-12 input.sk-hidden--visually {border: 0;clip: rect(1px 1px 1px 1px);clip: rect(1px, 1px, 1px, 1px);height: 1px;margin: -1px;overflow: hidden;padding: 0;position: absolute;width: 1px;}#sk-container-id-12 div.sk-estimator {font-family: monospace;background-color: #f0f8ff;border: 1px dotted black;border-radius: 0.25em;box-sizing: border-box;margin-bottom: 0.5em;}#sk-container-id-12 div.sk-estimator:hover {background-color: #d4ebff;}#sk-container-id-12 div.sk-parallel-item::after {content: \"\";width: 100%;border-bottom: 1px solid gray;flex-grow: 1;}#sk-container-id-12 div.sk-label:hover label.sk-toggleable__label {background-color: #d4ebff;}#sk-container-id-12 div.sk-serial::before {content: \"\";position: absolute;border-left: 1px solid gray;box-sizing: border-box;top: 0;bottom: 0;left: 50%;z-index: 0;}#sk-container-id-12 div.sk-serial {display: flex;flex-direction: column;align-items: center;background-color: white;padding-right: 0.2em;padding-left: 0.2em;position: relative;}#sk-container-id-12 div.sk-item {position: relative;z-index: 1;}#sk-container-id-12 div.sk-parallel {display: flex;align-items: stretch;justify-content: center;background-color: white;position: relative;}#sk-container-id-12 div.sk-item::before, #sk-container-id-12 div.sk-parallel-item::before {content: \"\";position: absolute;border-left: 1px solid gray;box-sizing: border-box;top: 0;bottom: 0;left: 50%;z-index: -1;}#sk-container-id-12 div.sk-parallel-item {display: flex;flex-direction: column;z-index: 1;position: relative;background-color: white;}#sk-container-id-12 div.sk-parallel-item:first-child::after {align-self: flex-end;width: 50%;}#sk-container-id-12 div.sk-parallel-item:last-child::after {align-self: flex-start;width: 50%;}#sk-container-id-12 div.sk-parallel-item:only-child::after {width: 0;}#sk-container-id-12 div.sk-dashed-wrapped {border: 1px dashed gray;margin: 0 0.4em 0.5em 0.4em;box-sizing: border-box;padding-bottom: 0.4em;background-color: white;}#sk-container-id-12 div.sk-label label {font-family: monospace;font-weight: bold;display: inline-block;line-height: 1.2em;}#sk-container-id-12 div.sk-label-container {text-align: center;}#sk-container-id-12 div.sk-container {/* jupyter's `normalize.less` sets `[hidden] { display: none; }` but bootstrap.min.css set `[hidden] { display: none !important; }` so we also need the `!important` here to be able to override the default hidden behavior on the sphinx rendered scikit-learn.org. See: https://github.com/scikit-learn/scikit-learn/issues/21755 */display: inline-block !important;position: relative;}#sk-container-id-12 div.sk-text-repr-fallback {display: none;}</style><div id=\"sk-container-id-12\" class=\"sk-top-container\"><div class=\"sk-text-repr-fallback\"><pre>KNeighborsClassifier(n_neighbors=25)</pre><b>In a Jupyter environment, please rerun this cell to show the HTML representation or trust the notebook. <br />On GitHub, the HTML representation is unable to render, please try loading this page with nbviewer.org.</b></div><div class=\"sk-container\" hidden><div class=\"sk-item\"><div class=\"sk-estimator sk-toggleable\"><input class=\"sk-toggleable__control sk-hidden--visually\" id=\"sk-estimator-id-14\" type=\"checkbox\" checked><label for=\"sk-estimator-id-14\" class=\"sk-toggleable__label sk-toggleable__label-arrow\">KNeighborsClassifier</label><div class=\"sk-toggleable__content\"><pre>KNeighborsClassifier(n_neighbors=25)</pre></div></div></div></div></div>"
      ],
      "text/plain": [
       "KNeighborsClassifier(n_neighbors=25)"
      ]
     },
     "execution_count": 192,
     "metadata": {},
     "output_type": "execute_result"
    }
   ],
   "source": [
    "knn.fit(x_tr,y_tr)"
   ]
  },
  {
   "cell_type": "code",
   "execution_count": 193,
   "id": "6d5c2093",
   "metadata": {},
   "outputs": [],
   "source": [
    "knn_p1=knn.predict(x_te)"
   ]
  },
  {
   "cell_type": "code",
   "execution_count": 194,
   "id": "659aab0e",
   "metadata": {},
   "outputs": [
    {
     "data": {
      "text/plain": [
       "array([[1002,  250],\n",
       "       [ 190,  558]], dtype=int64)"
      ]
     },
     "execution_count": 194,
     "metadata": {},
     "output_type": "execute_result"
    }
   ],
   "source": [
    "knn_m1=confusion_matrix(knn_p1,y_te)\n",
    "knn_m1"
   ]
  },
  {
   "cell_type": "code",
   "execution_count": 195,
   "id": "0a1a2080",
   "metadata": {},
   "outputs": [
    {
     "data": {
      "text/plain": [
       "78.0"
      ]
     },
     "execution_count": 195,
     "metadata": {},
     "output_type": "execute_result"
    }
   ],
   "source": [
    "knn_acc1=knn_m1.diagonal().sum()/knn_m1.sum()*100\n",
    "knn_acc1"
   ]
  },
  {
   "cell_type": "code",
   "execution_count": 196,
   "id": "d285331a",
   "metadata": {},
   "outputs": [
    {
     "name": "stdout",
     "output_type": "stream",
     "text": [
      "              precision    recall  f1-score   support\n",
      "\n",
      "           0       0.84      0.80      0.82      1252\n",
      "           1       0.69      0.75      0.72       748\n",
      "\n",
      "    accuracy                           0.78      2000\n",
      "   macro avg       0.77      0.77      0.77      2000\n",
      "weighted avg       0.78      0.78      0.78      2000\n",
      "\n"
     ]
    }
   ],
   "source": [
    "print(classification_report(knn_p1,y_te))"
   ]
  },
  {
   "cell_type": "code",
   "execution_count": 197,
   "id": "ce34999b",
   "metadata": {},
   "outputs": [
    {
     "data": {
      "text/plain": [
       "0.8406040268456376"
      ]
     },
     "execution_count": 197,
     "metadata": {},
     "output_type": "execute_result"
    }
   ],
   "source": [
    "#tpr=tp/(tp+fn)\n",
    "tpr11=1002/(1002+190)\n",
    "tpr11"
   ]
  },
  {
   "cell_type": "code",
   "execution_count": 198,
   "id": "916674da",
   "metadata": {},
   "outputs": [
    {
     "data": {
      "text/plain": [
       "0.3094059405940594"
      ]
     },
     "execution_count": 198,
     "metadata": {},
     "output_type": "execute_result"
    }
   ],
   "source": [
    "#fpr=fp/(fp+tn)\n",
    "fpr11=250/(250+558)\n",
    "fpr11"
   ]
  },
  {
   "cell_type": "code",
   "execution_count": 199,
   "id": "2899c219",
   "metadata": {},
   "outputs": [
    {
     "data": {
      "text/plain": [
       "0.8003194888178914"
      ]
     },
     "execution_count": 199,
     "metadata": {},
     "output_type": "execute_result"
    }
   ],
   "source": [
    "#precision=tp/(tp+fp)\n",
    "precesion11=1002/(1002+250)\n",
    "precesion11"
   ]
  },
  {
   "cell_type": "code",
   "execution_count": 200,
   "id": "9b583cd0",
   "metadata": {},
   "outputs": [
    {
     "data": {
      "text/plain": [
       "0.8199672667757774"
      ]
     },
     "execution_count": 200,
     "metadata": {},
     "output_type": "execute_result"
    }
   ],
   "source": [
    "#f1score=2(precesion*recall)/(precision+recall)\n",
    "f1score11=(2*(precesion11*tpr11))/(precesion11+tpr11)\n",
    "f1score11"
   ]
  },
  {
   "cell_type": "markdown",
   "id": "6898de3d",
   "metadata": {},
   "source": [
    "# NB-Naive Bayes"
   ]
  },
  {
   "cell_type": "code",
   "execution_count": 201,
   "id": "db90a258",
   "metadata": {},
   "outputs": [],
   "source": [
    "from sklearn.naive_bayes import MultinomialNB\n",
    "nb=MultinomialNB()"
   ]
  },
  {
   "cell_type": "code",
   "execution_count": 202,
   "id": "36d49904",
   "metadata": {},
   "outputs": [
    {
     "data": {
      "text/html": [
       "<style>#sk-container-id-13 {color: black;}#sk-container-id-13 pre{padding: 0;}#sk-container-id-13 div.sk-toggleable {background-color: white;}#sk-container-id-13 label.sk-toggleable__label {cursor: pointer;display: block;width: 100%;margin-bottom: 0;padding: 0.3em;box-sizing: border-box;text-align: center;}#sk-container-id-13 label.sk-toggleable__label-arrow:before {content: \"▸\";float: left;margin-right: 0.25em;color: #696969;}#sk-container-id-13 label.sk-toggleable__label-arrow:hover:before {color: black;}#sk-container-id-13 div.sk-estimator:hover label.sk-toggleable__label-arrow:before {color: black;}#sk-container-id-13 div.sk-toggleable__content {max-height: 0;max-width: 0;overflow: hidden;text-align: left;background-color: #f0f8ff;}#sk-container-id-13 div.sk-toggleable__content pre {margin: 0.2em;color: black;border-radius: 0.25em;background-color: #f0f8ff;}#sk-container-id-13 input.sk-toggleable__control:checked~div.sk-toggleable__content {max-height: 200px;max-width: 100%;overflow: auto;}#sk-container-id-13 input.sk-toggleable__control:checked~label.sk-toggleable__label-arrow:before {content: \"▾\";}#sk-container-id-13 div.sk-estimator input.sk-toggleable__control:checked~label.sk-toggleable__label {background-color: #d4ebff;}#sk-container-id-13 div.sk-label input.sk-toggleable__control:checked~label.sk-toggleable__label {background-color: #d4ebff;}#sk-container-id-13 input.sk-hidden--visually {border: 0;clip: rect(1px 1px 1px 1px);clip: rect(1px, 1px, 1px, 1px);height: 1px;margin: -1px;overflow: hidden;padding: 0;position: absolute;width: 1px;}#sk-container-id-13 div.sk-estimator {font-family: monospace;background-color: #f0f8ff;border: 1px dotted black;border-radius: 0.25em;box-sizing: border-box;margin-bottom: 0.5em;}#sk-container-id-13 div.sk-estimator:hover {background-color: #d4ebff;}#sk-container-id-13 div.sk-parallel-item::after {content: \"\";width: 100%;border-bottom: 1px solid gray;flex-grow: 1;}#sk-container-id-13 div.sk-label:hover label.sk-toggleable__label {background-color: #d4ebff;}#sk-container-id-13 div.sk-serial::before {content: \"\";position: absolute;border-left: 1px solid gray;box-sizing: border-box;top: 0;bottom: 0;left: 50%;z-index: 0;}#sk-container-id-13 div.sk-serial {display: flex;flex-direction: column;align-items: center;background-color: white;padding-right: 0.2em;padding-left: 0.2em;position: relative;}#sk-container-id-13 div.sk-item {position: relative;z-index: 1;}#sk-container-id-13 div.sk-parallel {display: flex;align-items: stretch;justify-content: center;background-color: white;position: relative;}#sk-container-id-13 div.sk-item::before, #sk-container-id-13 div.sk-parallel-item::before {content: \"\";position: absolute;border-left: 1px solid gray;box-sizing: border-box;top: 0;bottom: 0;left: 50%;z-index: -1;}#sk-container-id-13 div.sk-parallel-item {display: flex;flex-direction: column;z-index: 1;position: relative;background-color: white;}#sk-container-id-13 div.sk-parallel-item:first-child::after {align-self: flex-end;width: 50%;}#sk-container-id-13 div.sk-parallel-item:last-child::after {align-self: flex-start;width: 50%;}#sk-container-id-13 div.sk-parallel-item:only-child::after {width: 0;}#sk-container-id-13 div.sk-dashed-wrapped {border: 1px dashed gray;margin: 0 0.4em 0.5em 0.4em;box-sizing: border-box;padding-bottom: 0.4em;background-color: white;}#sk-container-id-13 div.sk-label label {font-family: monospace;font-weight: bold;display: inline-block;line-height: 1.2em;}#sk-container-id-13 div.sk-label-container {text-align: center;}#sk-container-id-13 div.sk-container {/* jupyter's `normalize.less` sets `[hidden] { display: none; }` but bootstrap.min.css set `[hidden] { display: none !important; }` so we also need the `!important` here to be able to override the default hidden behavior on the sphinx rendered scikit-learn.org. See: https://github.com/scikit-learn/scikit-learn/issues/21755 */display: inline-block !important;position: relative;}#sk-container-id-13 div.sk-text-repr-fallback {display: none;}</style><div id=\"sk-container-id-13\" class=\"sk-top-container\"><div class=\"sk-text-repr-fallback\"><pre>MultinomialNB()</pre><b>In a Jupyter environment, please rerun this cell to show the HTML representation or trust the notebook. <br />On GitHub, the HTML representation is unable to render, please try loading this page with nbviewer.org.</b></div><div class=\"sk-container\" hidden><div class=\"sk-item\"><div class=\"sk-estimator sk-toggleable\"><input class=\"sk-toggleable__control sk-hidden--visually\" id=\"sk-estimator-id-15\" type=\"checkbox\" checked><label for=\"sk-estimator-id-15\" class=\"sk-toggleable__label sk-toggleable__label-arrow\">MultinomialNB</label><div class=\"sk-toggleable__content\"><pre>MultinomialNB()</pre></div></div></div></div></div>"
      ],
      "text/plain": [
       "MultinomialNB()"
      ]
     },
     "execution_count": 202,
     "metadata": {},
     "output_type": "execute_result"
    }
   ],
   "source": [
    "nb.fit(x_tr,y_tr)"
   ]
  },
  {
   "cell_type": "code",
   "execution_count": 203,
   "id": "b75b228b",
   "metadata": {},
   "outputs": [],
   "source": [
    "nb_p1=nb.predict(x_te)"
   ]
  },
  {
   "cell_type": "code",
   "execution_count": 204,
   "id": "8a677d7c",
   "metadata": {},
   "outputs": [
    {
     "data": {
      "text/plain": [
       "array([[981, 288],\n",
       "       [211, 520]], dtype=int64)"
      ]
     },
     "execution_count": 204,
     "metadata": {},
     "output_type": "execute_result"
    }
   ],
   "source": [
    "nb_m1=confusion_matrix(nb_p1,y_te)\n",
    "nb_m1"
   ]
  },
  {
   "cell_type": "code",
   "execution_count": 205,
   "id": "0a3cfbe1",
   "metadata": {},
   "outputs": [
    {
     "data": {
      "text/plain": [
       "75.05"
      ]
     },
     "execution_count": 205,
     "metadata": {},
     "output_type": "execute_result"
    }
   ],
   "source": [
    "nb_acc1=nb_m1.diagonal().sum()/nb_m1.sum()*100\n",
    "nb_acc1"
   ]
  },
  {
   "cell_type": "code",
   "execution_count": 206,
   "id": "e8764ed5",
   "metadata": {},
   "outputs": [
    {
     "name": "stdout",
     "output_type": "stream",
     "text": [
      "              precision    recall  f1-score   support\n",
      "\n",
      "           0       0.82      0.77      0.80      1269\n",
      "           1       0.64      0.71      0.68       731\n",
      "\n",
      "    accuracy                           0.75      2000\n",
      "   macro avg       0.73      0.74      0.74      2000\n",
      "weighted avg       0.76      0.75      0.75      2000\n",
      "\n"
     ]
    }
   ],
   "source": [
    "print(classification_report(nb_p1,y_te))"
   ]
  },
  {
   "cell_type": "code",
   "execution_count": 207,
   "id": "7e878324",
   "metadata": {},
   "outputs": [
    {
     "data": {
      "text/plain": [
       "0.822986577181208"
      ]
     },
     "execution_count": 207,
     "metadata": {},
     "output_type": "execute_result"
    }
   ],
   "source": [
    "#tpr=tp/(tp+fn)\n",
    "tpr12=981/(981+211)\n",
    "tpr12"
   ]
  },
  {
   "cell_type": "code",
   "execution_count": 208,
   "id": "270eeabd",
   "metadata": {},
   "outputs": [
    {
     "data": {
      "text/plain": [
       "0.3564356435643564"
      ]
     },
     "execution_count": 208,
     "metadata": {},
     "output_type": "execute_result"
    }
   ],
   "source": [
    "#fpr=fp/(fp+tn)\n",
    "fpr12=288/(288+520)\n",
    "fpr12"
   ]
  },
  {
   "cell_type": "code",
   "execution_count": 209,
   "id": "1ce01c73",
   "metadata": {},
   "outputs": [
    {
     "data": {
      "text/plain": [
       "0.7730496453900709"
      ]
     },
     "execution_count": 209,
     "metadata": {},
     "output_type": "execute_result"
    }
   ],
   "source": [
    "#precision=tp/(tp+fp)\n",
    "precesion12=981/(981+288)\n",
    "precesion12"
   ]
  },
  {
   "cell_type": "code",
   "execution_count": 210,
   "id": "1bdf73b0",
   "metadata": {},
   "outputs": [
    {
     "data": {
      "text/plain": [
       "0.7972368955709062"
      ]
     },
     "execution_count": 210,
     "metadata": {},
     "output_type": "execute_result"
    }
   ],
   "source": [
    "#f1score=2(precesion*recall)/(precision+recall)\n",
    "f1score12=(2*(precesion12*tpr12))/(precesion12+tpr12)\n",
    "f1score12"
   ]
  },
  {
   "cell_type": "markdown",
   "id": "6bddcc05",
   "metadata": {},
   "source": [
    "# SVM"
   ]
  },
  {
   "cell_type": "code",
   "execution_count": 211,
   "id": "963b8f5d",
   "metadata": {},
   "outputs": [],
   "source": [
    "from sklearn.svm import SVC\n",
    "svc=SVC()"
   ]
  },
  {
   "cell_type": "code",
   "execution_count": 212,
   "id": "a21d3479",
   "metadata": {},
   "outputs": [
    {
     "data": {
      "text/html": [
       "<style>#sk-container-id-14 {color: black;}#sk-container-id-14 pre{padding: 0;}#sk-container-id-14 div.sk-toggleable {background-color: white;}#sk-container-id-14 label.sk-toggleable__label {cursor: pointer;display: block;width: 100%;margin-bottom: 0;padding: 0.3em;box-sizing: border-box;text-align: center;}#sk-container-id-14 label.sk-toggleable__label-arrow:before {content: \"▸\";float: left;margin-right: 0.25em;color: #696969;}#sk-container-id-14 label.sk-toggleable__label-arrow:hover:before {color: black;}#sk-container-id-14 div.sk-estimator:hover label.sk-toggleable__label-arrow:before {color: black;}#sk-container-id-14 div.sk-toggleable__content {max-height: 0;max-width: 0;overflow: hidden;text-align: left;background-color: #f0f8ff;}#sk-container-id-14 div.sk-toggleable__content pre {margin: 0.2em;color: black;border-radius: 0.25em;background-color: #f0f8ff;}#sk-container-id-14 input.sk-toggleable__control:checked~div.sk-toggleable__content {max-height: 200px;max-width: 100%;overflow: auto;}#sk-container-id-14 input.sk-toggleable__control:checked~label.sk-toggleable__label-arrow:before {content: \"▾\";}#sk-container-id-14 div.sk-estimator input.sk-toggleable__control:checked~label.sk-toggleable__label {background-color: #d4ebff;}#sk-container-id-14 div.sk-label input.sk-toggleable__control:checked~label.sk-toggleable__label {background-color: #d4ebff;}#sk-container-id-14 input.sk-hidden--visually {border: 0;clip: rect(1px 1px 1px 1px);clip: rect(1px, 1px, 1px, 1px);height: 1px;margin: -1px;overflow: hidden;padding: 0;position: absolute;width: 1px;}#sk-container-id-14 div.sk-estimator {font-family: monospace;background-color: #f0f8ff;border: 1px dotted black;border-radius: 0.25em;box-sizing: border-box;margin-bottom: 0.5em;}#sk-container-id-14 div.sk-estimator:hover {background-color: #d4ebff;}#sk-container-id-14 div.sk-parallel-item::after {content: \"\";width: 100%;border-bottom: 1px solid gray;flex-grow: 1;}#sk-container-id-14 div.sk-label:hover label.sk-toggleable__label {background-color: #d4ebff;}#sk-container-id-14 div.sk-serial::before {content: \"\";position: absolute;border-left: 1px solid gray;box-sizing: border-box;top: 0;bottom: 0;left: 50%;z-index: 0;}#sk-container-id-14 div.sk-serial {display: flex;flex-direction: column;align-items: center;background-color: white;padding-right: 0.2em;padding-left: 0.2em;position: relative;}#sk-container-id-14 div.sk-item {position: relative;z-index: 1;}#sk-container-id-14 div.sk-parallel {display: flex;align-items: stretch;justify-content: center;background-color: white;position: relative;}#sk-container-id-14 div.sk-item::before, #sk-container-id-14 div.sk-parallel-item::before {content: \"\";position: absolute;border-left: 1px solid gray;box-sizing: border-box;top: 0;bottom: 0;left: 50%;z-index: -1;}#sk-container-id-14 div.sk-parallel-item {display: flex;flex-direction: column;z-index: 1;position: relative;background-color: white;}#sk-container-id-14 div.sk-parallel-item:first-child::after {align-self: flex-end;width: 50%;}#sk-container-id-14 div.sk-parallel-item:last-child::after {align-self: flex-start;width: 50%;}#sk-container-id-14 div.sk-parallel-item:only-child::after {width: 0;}#sk-container-id-14 div.sk-dashed-wrapped {border: 1px dashed gray;margin: 0 0.4em 0.5em 0.4em;box-sizing: border-box;padding-bottom: 0.4em;background-color: white;}#sk-container-id-14 div.sk-label label {font-family: monospace;font-weight: bold;display: inline-block;line-height: 1.2em;}#sk-container-id-14 div.sk-label-container {text-align: center;}#sk-container-id-14 div.sk-container {/* jupyter's `normalize.less` sets `[hidden] { display: none; }` but bootstrap.min.css set `[hidden] { display: none !important; }` so we also need the `!important` here to be able to override the default hidden behavior on the sphinx rendered scikit-learn.org. See: https://github.com/scikit-learn/scikit-learn/issues/21755 */display: inline-block !important;position: relative;}#sk-container-id-14 div.sk-text-repr-fallback {display: none;}</style><div id=\"sk-container-id-14\" class=\"sk-top-container\"><div class=\"sk-text-repr-fallback\"><pre>SVC()</pre><b>In a Jupyter environment, please rerun this cell to show the HTML representation or trust the notebook. <br />On GitHub, the HTML representation is unable to render, please try loading this page with nbviewer.org.</b></div><div class=\"sk-container\" hidden><div class=\"sk-item\"><div class=\"sk-estimator sk-toggleable\"><input class=\"sk-toggleable__control sk-hidden--visually\" id=\"sk-estimator-id-16\" type=\"checkbox\" checked><label for=\"sk-estimator-id-16\" class=\"sk-toggleable__label sk-toggleable__label-arrow\">SVC</label><div class=\"sk-toggleable__content\"><pre>SVC()</pre></div></div></div></div></div>"
      ],
      "text/plain": [
       "SVC()"
      ]
     },
     "execution_count": 212,
     "metadata": {},
     "output_type": "execute_result"
    }
   ],
   "source": [
    "svc.fit(x_tr,y_tr)"
   ]
  },
  {
   "cell_type": "code",
   "execution_count": 213,
   "id": "5c7eb389",
   "metadata": {},
   "outputs": [
    {
     "data": {
      "text/plain": [
       "array([0, 1, 1, ..., 0, 1, 0])"
      ]
     },
     "execution_count": 213,
     "metadata": {},
     "output_type": "execute_result"
    }
   ],
   "source": [
    "svc_p1=svc.predict(x_te)\n",
    "svc_p1"
   ]
  },
  {
   "cell_type": "code",
   "execution_count": 214,
   "id": "b23ba823",
   "metadata": {},
   "outputs": [
    {
     "data": {
      "text/plain": [
       "array([[985, 239],\n",
       "       [207, 569]], dtype=int64)"
      ]
     },
     "execution_count": 214,
     "metadata": {},
     "output_type": "execute_result"
    }
   ],
   "source": [
    "svc_m1=confusion_matrix(svc_p1,y_te)\n",
    "svc_m1"
   ]
  },
  {
   "cell_type": "code",
   "execution_count": 215,
   "id": "a3a0d870",
   "metadata": {},
   "outputs": [
    {
     "data": {
      "text/plain": [
       "77.7"
      ]
     },
     "execution_count": 215,
     "metadata": {},
     "output_type": "execute_result"
    }
   ],
   "source": [
    "svc_acc1=svc_m1.diagonal().sum()/svc_m1.sum()*100\n",
    "svc_acc1"
   ]
  },
  {
   "cell_type": "code",
   "execution_count": 216,
   "id": "e6263296",
   "metadata": {},
   "outputs": [
    {
     "name": "stdout",
     "output_type": "stream",
     "text": [
      "              precision    recall  f1-score   support\n",
      "\n",
      "           0       0.83      0.80      0.82      1224\n",
      "           1       0.70      0.73      0.72       776\n",
      "\n",
      "    accuracy                           0.78      2000\n",
      "   macro avg       0.77      0.77      0.77      2000\n",
      "weighted avg       0.78      0.78      0.78      2000\n",
      "\n"
     ]
    }
   ],
   "source": [
    "print(classification_report(svc_p1,y_te))"
   ]
  },
  {
   "cell_type": "code",
   "execution_count": 217,
   "id": "0ebc912e",
   "metadata": {},
   "outputs": [
    {
     "data": {
      "text/plain": [
       "0.8263422818791947"
      ]
     },
     "execution_count": 217,
     "metadata": {},
     "output_type": "execute_result"
    }
   ],
   "source": [
    "#tpr=tp/(tp+fn)\n",
    "tpr13=985/(985+207)\n",
    "tpr13"
   ]
  },
  {
   "cell_type": "code",
   "execution_count": 218,
   "id": "dcff54ec",
   "metadata": {},
   "outputs": [
    {
     "data": {
      "text/plain": [
       "0.2957920792079208"
      ]
     },
     "execution_count": 218,
     "metadata": {},
     "output_type": "execute_result"
    }
   ],
   "source": [
    "#fpr=fp/(fp+tn)\n",
    "fpr13=239/(239+569)\n",
    "fpr13"
   ]
  },
  {
   "cell_type": "code",
   "execution_count": 219,
   "id": "8f5ace46",
   "metadata": {},
   "outputs": [
    {
     "data": {
      "text/plain": [
       "0.8047385620915033"
      ]
     },
     "execution_count": 219,
     "metadata": {},
     "output_type": "execute_result"
    }
   ],
   "source": [
    "#precision=tp/(tp+fp)\n",
    "precesion13=985/(985+239)\n",
    "precesion13"
   ]
  },
  {
   "cell_type": "code",
   "execution_count": 220,
   "id": "16263da9",
   "metadata": {},
   "outputs": [
    {
     "data": {
      "text/plain": [
       "0.8153973509933775"
      ]
     },
     "execution_count": 220,
     "metadata": {},
     "output_type": "execute_result"
    }
   ],
   "source": [
    "#f1score=2(precesion*recall)/(precision+recall)\n",
    "f1score13=(2*(precesion13*tpr13))/(precesion13+tpr13)\n",
    "f1score13"
   ]
  },
  {
   "cell_type": "markdown",
   "id": "e9781d02",
   "metadata": {},
   "source": [
    "# Ada boost"
   ]
  },
  {
   "cell_type": "code",
   "execution_count": 221,
   "id": "974a70a2",
   "metadata": {},
   "outputs": [],
   "source": [
    "from sklearn.ensemble import AdaBoostClassifier\n",
    "from sklearn.ensemble import RandomForestClassifier"
   ]
  },
  {
   "cell_type": "code",
   "execution_count": 222,
   "id": "15516e88",
   "metadata": {},
   "outputs": [],
   "source": [
    "adbo=AdaBoostClassifier(RandomForestClassifier(),n_estimators=5)"
   ]
  },
  {
   "cell_type": "code",
   "execution_count": 223,
   "id": "189e3023",
   "metadata": {},
   "outputs": [
    {
     "data": {
      "text/html": [
       "<style>#sk-container-id-15 {color: black;}#sk-container-id-15 pre{padding: 0;}#sk-container-id-15 div.sk-toggleable {background-color: white;}#sk-container-id-15 label.sk-toggleable__label {cursor: pointer;display: block;width: 100%;margin-bottom: 0;padding: 0.3em;box-sizing: border-box;text-align: center;}#sk-container-id-15 label.sk-toggleable__label-arrow:before {content: \"▸\";float: left;margin-right: 0.25em;color: #696969;}#sk-container-id-15 label.sk-toggleable__label-arrow:hover:before {color: black;}#sk-container-id-15 div.sk-estimator:hover label.sk-toggleable__label-arrow:before {color: black;}#sk-container-id-15 div.sk-toggleable__content {max-height: 0;max-width: 0;overflow: hidden;text-align: left;background-color: #f0f8ff;}#sk-container-id-15 div.sk-toggleable__content pre {margin: 0.2em;color: black;border-radius: 0.25em;background-color: #f0f8ff;}#sk-container-id-15 input.sk-toggleable__control:checked~div.sk-toggleable__content {max-height: 200px;max-width: 100%;overflow: auto;}#sk-container-id-15 input.sk-toggleable__control:checked~label.sk-toggleable__label-arrow:before {content: \"▾\";}#sk-container-id-15 div.sk-estimator input.sk-toggleable__control:checked~label.sk-toggleable__label {background-color: #d4ebff;}#sk-container-id-15 div.sk-label input.sk-toggleable__control:checked~label.sk-toggleable__label {background-color: #d4ebff;}#sk-container-id-15 input.sk-hidden--visually {border: 0;clip: rect(1px 1px 1px 1px);clip: rect(1px, 1px, 1px, 1px);height: 1px;margin: -1px;overflow: hidden;padding: 0;position: absolute;width: 1px;}#sk-container-id-15 div.sk-estimator {font-family: monospace;background-color: #f0f8ff;border: 1px dotted black;border-radius: 0.25em;box-sizing: border-box;margin-bottom: 0.5em;}#sk-container-id-15 div.sk-estimator:hover {background-color: #d4ebff;}#sk-container-id-15 div.sk-parallel-item::after {content: \"\";width: 100%;border-bottom: 1px solid gray;flex-grow: 1;}#sk-container-id-15 div.sk-label:hover label.sk-toggleable__label {background-color: #d4ebff;}#sk-container-id-15 div.sk-serial::before {content: \"\";position: absolute;border-left: 1px solid gray;box-sizing: border-box;top: 0;bottom: 0;left: 50%;z-index: 0;}#sk-container-id-15 div.sk-serial {display: flex;flex-direction: column;align-items: center;background-color: white;padding-right: 0.2em;padding-left: 0.2em;position: relative;}#sk-container-id-15 div.sk-item {position: relative;z-index: 1;}#sk-container-id-15 div.sk-parallel {display: flex;align-items: stretch;justify-content: center;background-color: white;position: relative;}#sk-container-id-15 div.sk-item::before, #sk-container-id-15 div.sk-parallel-item::before {content: \"\";position: absolute;border-left: 1px solid gray;box-sizing: border-box;top: 0;bottom: 0;left: 50%;z-index: -1;}#sk-container-id-15 div.sk-parallel-item {display: flex;flex-direction: column;z-index: 1;position: relative;background-color: white;}#sk-container-id-15 div.sk-parallel-item:first-child::after {align-self: flex-end;width: 50%;}#sk-container-id-15 div.sk-parallel-item:last-child::after {align-self: flex-start;width: 50%;}#sk-container-id-15 div.sk-parallel-item:only-child::after {width: 0;}#sk-container-id-15 div.sk-dashed-wrapped {border: 1px dashed gray;margin: 0 0.4em 0.5em 0.4em;box-sizing: border-box;padding-bottom: 0.4em;background-color: white;}#sk-container-id-15 div.sk-label label {font-family: monospace;font-weight: bold;display: inline-block;line-height: 1.2em;}#sk-container-id-15 div.sk-label-container {text-align: center;}#sk-container-id-15 div.sk-container {/* jupyter's `normalize.less` sets `[hidden] { display: none; }` but bootstrap.min.css set `[hidden] { display: none !important; }` so we also need the `!important` here to be able to override the default hidden behavior on the sphinx rendered scikit-learn.org. See: https://github.com/scikit-learn/scikit-learn/issues/21755 */display: inline-block !important;position: relative;}#sk-container-id-15 div.sk-text-repr-fallback {display: none;}</style><div id=\"sk-container-id-15\" class=\"sk-top-container\"><div class=\"sk-text-repr-fallback\"><pre>AdaBoostClassifier(estimator=RandomForestClassifier(), n_estimators=5)</pre><b>In a Jupyter environment, please rerun this cell to show the HTML representation or trust the notebook. <br />On GitHub, the HTML representation is unable to render, please try loading this page with nbviewer.org.</b></div><div class=\"sk-container\" hidden><div class=\"sk-item sk-dashed-wrapped\"><div class=\"sk-label-container\"><div class=\"sk-label sk-toggleable\"><input class=\"sk-toggleable__control sk-hidden--visually\" id=\"sk-estimator-id-17\" type=\"checkbox\" ><label for=\"sk-estimator-id-17\" class=\"sk-toggleable__label sk-toggleable__label-arrow\">AdaBoostClassifier</label><div class=\"sk-toggleable__content\"><pre>AdaBoostClassifier(estimator=RandomForestClassifier(), n_estimators=5)</pre></div></div></div><div class=\"sk-parallel\"><div class=\"sk-parallel-item\"><div class=\"sk-item\"><div class=\"sk-label-container\"><div class=\"sk-label sk-toggleable\"><input class=\"sk-toggleable__control sk-hidden--visually\" id=\"sk-estimator-id-18\" type=\"checkbox\" ><label for=\"sk-estimator-id-18\" class=\"sk-toggleable__label sk-toggleable__label-arrow\">estimator: RandomForestClassifier</label><div class=\"sk-toggleable__content\"><pre>RandomForestClassifier()</pre></div></div></div><div class=\"sk-serial\"><div class=\"sk-item\"><div class=\"sk-estimator sk-toggleable\"><input class=\"sk-toggleable__control sk-hidden--visually\" id=\"sk-estimator-id-19\" type=\"checkbox\" ><label for=\"sk-estimator-id-19\" class=\"sk-toggleable__label sk-toggleable__label-arrow\">RandomForestClassifier</label><div class=\"sk-toggleable__content\"><pre>RandomForestClassifier()</pre></div></div></div></div></div></div></div></div></div></div>"
      ],
      "text/plain": [
       "AdaBoostClassifier(estimator=RandomForestClassifier(), n_estimators=5)"
      ]
     },
     "execution_count": 223,
     "metadata": {},
     "output_type": "execute_result"
    }
   ],
   "source": [
    "adbo.fit(x_tr,y_tr)"
   ]
  },
  {
   "cell_type": "code",
   "execution_count": 224,
   "id": "d11c5e60",
   "metadata": {},
   "outputs": [],
   "source": [
    "adbo_p1=adbo.predict(x_te)"
   ]
  },
  {
   "cell_type": "code",
   "execution_count": 225,
   "id": "4f1e3ff6",
   "metadata": {},
   "outputs": [
    {
     "data": {
      "text/plain": [
       "array([[999, 223],\n",
       "       [193, 585]], dtype=int64)"
      ]
     },
     "execution_count": 225,
     "metadata": {},
     "output_type": "execute_result"
    }
   ],
   "source": [
    "adbo_m1=confusion_matrix(adbo_p1,y_te)\n",
    "adbo_m1"
   ]
  },
  {
   "cell_type": "code",
   "execution_count": 226,
   "id": "d659e4a4",
   "metadata": {},
   "outputs": [
    {
     "data": {
      "text/plain": [
       "79.2"
      ]
     },
     "execution_count": 226,
     "metadata": {},
     "output_type": "execute_result"
    }
   ],
   "source": [
    "adbo_acc1=adbo_m1.diagonal().sum()/adbo_m1.sum()*100\n",
    "adbo_acc1"
   ]
  },
  {
   "cell_type": "code",
   "execution_count": 227,
   "id": "f34e7283",
   "metadata": {},
   "outputs": [
    {
     "name": "stdout",
     "output_type": "stream",
     "text": [
      "              precision    recall  f1-score   support\n",
      "\n",
      "           0       0.84      0.82      0.83      1222\n",
      "           1       0.72      0.75      0.74       778\n",
      "\n",
      "    accuracy                           0.79      2000\n",
      "   macro avg       0.78      0.78      0.78      2000\n",
      "weighted avg       0.79      0.79      0.79      2000\n",
      "\n"
     ]
    }
   ],
   "source": [
    "print(classification_report(adbo_p1,y_te))"
   ]
  },
  {
   "cell_type": "code",
   "execution_count": 228,
   "id": "5eaccbe0",
   "metadata": {},
   "outputs": [
    {
     "data": {
      "text/plain": [
       "0.8389261744966443"
      ]
     },
     "execution_count": 228,
     "metadata": {},
     "output_type": "execute_result"
    }
   ],
   "source": [
    "#tpr=tp/(tp+fn)\n",
    "tpr14=1000/(1000+192)\n",
    "tpr14"
   ]
  },
  {
   "cell_type": "code",
   "execution_count": 229,
   "id": "e128c78d",
   "metadata": {},
   "outputs": [
    {
     "data": {
      "text/plain": [
       "0.2834158415841584"
      ]
     },
     "execution_count": 229,
     "metadata": {},
     "output_type": "execute_result"
    }
   ],
   "source": [
    "#fpr=fp/(fp+tn)\n",
    "fpr14=229/(229+579)\n",
    "fpr14"
   ]
  },
  {
   "cell_type": "code",
   "execution_count": 230,
   "id": "e5b7ae30",
   "metadata": {},
   "outputs": [
    {
     "data": {
      "text/plain": [
       "0.8136696501220505"
      ]
     },
     "execution_count": 230,
     "metadata": {},
     "output_type": "execute_result"
    }
   ],
   "source": [
    "#precision=tp/(tp+fp)\n",
    "precesion14=1000/(1000+229)\n",
    "precesion14"
   ]
  },
  {
   "cell_type": "code",
   "execution_count": 231,
   "id": "f88596e2",
   "metadata": {},
   "outputs": [
    {
     "data": {
      "text/plain": [
       "0.8261049153242461"
      ]
     },
     "execution_count": 231,
     "metadata": {},
     "output_type": "execute_result"
    }
   ],
   "source": [
    "#f1score=2(precesion*recall)/(precision+recall)\n",
    "f1score14=(2*(precesion14*tpr14))/(precesion14+tpr14)\n",
    "f1score14"
   ]
  },
  {
   "cell_type": "markdown",
   "id": "c9bbf937",
   "metadata": {},
   "source": [
    "# Xg boost"
   ]
  },
  {
   "cell_type": "code",
   "execution_count": 232,
   "id": "5a095c26",
   "metadata": {},
   "outputs": [],
   "source": [
    "from xgboost import XGBClassifier\n",
    "xgb=XGBClassifier()"
   ]
  },
  {
   "cell_type": "code",
   "execution_count": 233,
   "id": "517c918f",
   "metadata": {},
   "outputs": [
    {
     "data": {
      "text/html": [
       "<style>#sk-container-id-16 {color: black;}#sk-container-id-16 pre{padding: 0;}#sk-container-id-16 div.sk-toggleable {background-color: white;}#sk-container-id-16 label.sk-toggleable__label {cursor: pointer;display: block;width: 100%;margin-bottom: 0;padding: 0.3em;box-sizing: border-box;text-align: center;}#sk-container-id-16 label.sk-toggleable__label-arrow:before {content: \"▸\";float: left;margin-right: 0.25em;color: #696969;}#sk-container-id-16 label.sk-toggleable__label-arrow:hover:before {color: black;}#sk-container-id-16 div.sk-estimator:hover label.sk-toggleable__label-arrow:before {color: black;}#sk-container-id-16 div.sk-toggleable__content {max-height: 0;max-width: 0;overflow: hidden;text-align: left;background-color: #f0f8ff;}#sk-container-id-16 div.sk-toggleable__content pre {margin: 0.2em;color: black;border-radius: 0.25em;background-color: #f0f8ff;}#sk-container-id-16 input.sk-toggleable__control:checked~div.sk-toggleable__content {max-height: 200px;max-width: 100%;overflow: auto;}#sk-container-id-16 input.sk-toggleable__control:checked~label.sk-toggleable__label-arrow:before {content: \"▾\";}#sk-container-id-16 div.sk-estimator input.sk-toggleable__control:checked~label.sk-toggleable__label {background-color: #d4ebff;}#sk-container-id-16 div.sk-label input.sk-toggleable__control:checked~label.sk-toggleable__label {background-color: #d4ebff;}#sk-container-id-16 input.sk-hidden--visually {border: 0;clip: rect(1px 1px 1px 1px);clip: rect(1px, 1px, 1px, 1px);height: 1px;margin: -1px;overflow: hidden;padding: 0;position: absolute;width: 1px;}#sk-container-id-16 div.sk-estimator {font-family: monospace;background-color: #f0f8ff;border: 1px dotted black;border-radius: 0.25em;box-sizing: border-box;margin-bottom: 0.5em;}#sk-container-id-16 div.sk-estimator:hover {background-color: #d4ebff;}#sk-container-id-16 div.sk-parallel-item::after {content: \"\";width: 100%;border-bottom: 1px solid gray;flex-grow: 1;}#sk-container-id-16 div.sk-label:hover label.sk-toggleable__label {background-color: #d4ebff;}#sk-container-id-16 div.sk-serial::before {content: \"\";position: absolute;border-left: 1px solid gray;box-sizing: border-box;top: 0;bottom: 0;left: 50%;z-index: 0;}#sk-container-id-16 div.sk-serial {display: flex;flex-direction: column;align-items: center;background-color: white;padding-right: 0.2em;padding-left: 0.2em;position: relative;}#sk-container-id-16 div.sk-item {position: relative;z-index: 1;}#sk-container-id-16 div.sk-parallel {display: flex;align-items: stretch;justify-content: center;background-color: white;position: relative;}#sk-container-id-16 div.sk-item::before, #sk-container-id-16 div.sk-parallel-item::before {content: \"\";position: absolute;border-left: 1px solid gray;box-sizing: border-box;top: 0;bottom: 0;left: 50%;z-index: -1;}#sk-container-id-16 div.sk-parallel-item {display: flex;flex-direction: column;z-index: 1;position: relative;background-color: white;}#sk-container-id-16 div.sk-parallel-item:first-child::after {align-self: flex-end;width: 50%;}#sk-container-id-16 div.sk-parallel-item:last-child::after {align-self: flex-start;width: 50%;}#sk-container-id-16 div.sk-parallel-item:only-child::after {width: 0;}#sk-container-id-16 div.sk-dashed-wrapped {border: 1px dashed gray;margin: 0 0.4em 0.5em 0.4em;box-sizing: border-box;padding-bottom: 0.4em;background-color: white;}#sk-container-id-16 div.sk-label label {font-family: monospace;font-weight: bold;display: inline-block;line-height: 1.2em;}#sk-container-id-16 div.sk-label-container {text-align: center;}#sk-container-id-16 div.sk-container {/* jupyter's `normalize.less` sets `[hidden] { display: none; }` but bootstrap.min.css set `[hidden] { display: none !important; }` so we also need the `!important` here to be able to override the default hidden behavior on the sphinx rendered scikit-learn.org. See: https://github.com/scikit-learn/scikit-learn/issues/21755 */display: inline-block !important;position: relative;}#sk-container-id-16 div.sk-text-repr-fallback {display: none;}</style><div id=\"sk-container-id-16\" class=\"sk-top-container\"><div class=\"sk-text-repr-fallback\"><pre>XGBClassifier(base_score=None, booster=None, callbacks=None,\n",
       "              colsample_bylevel=None, colsample_bynode=None,\n",
       "              colsample_bytree=None, device=None, early_stopping_rounds=None,\n",
       "              enable_categorical=False, eval_metric=None, feature_types=None,\n",
       "              gamma=None, grow_policy=None, importance_type=None,\n",
       "              interaction_constraints=None, learning_rate=None, max_bin=None,\n",
       "              max_cat_threshold=None, max_cat_to_onehot=None,\n",
       "              max_delta_step=None, max_depth=None, max_leaves=None,\n",
       "              min_child_weight=None, missing=nan, monotone_constraints=None,\n",
       "              multi_strategy=None, n_estimators=None, n_jobs=None,\n",
       "              num_parallel_tree=None, random_state=None, ...)</pre><b>In a Jupyter environment, please rerun this cell to show the HTML representation or trust the notebook. <br />On GitHub, the HTML representation is unable to render, please try loading this page with nbviewer.org.</b></div><div class=\"sk-container\" hidden><div class=\"sk-item\"><div class=\"sk-estimator sk-toggleable\"><input class=\"sk-toggleable__control sk-hidden--visually\" id=\"sk-estimator-id-20\" type=\"checkbox\" checked><label for=\"sk-estimator-id-20\" class=\"sk-toggleable__label sk-toggleable__label-arrow\">XGBClassifier</label><div class=\"sk-toggleable__content\"><pre>XGBClassifier(base_score=None, booster=None, callbacks=None,\n",
       "              colsample_bylevel=None, colsample_bynode=None,\n",
       "              colsample_bytree=None, device=None, early_stopping_rounds=None,\n",
       "              enable_categorical=False, eval_metric=None, feature_types=None,\n",
       "              gamma=None, grow_policy=None, importance_type=None,\n",
       "              interaction_constraints=None, learning_rate=None, max_bin=None,\n",
       "              max_cat_threshold=None, max_cat_to_onehot=None,\n",
       "              max_delta_step=None, max_depth=None, max_leaves=None,\n",
       "              min_child_weight=None, missing=nan, monotone_constraints=None,\n",
       "              multi_strategy=None, n_estimators=None, n_jobs=None,\n",
       "              num_parallel_tree=None, random_state=None, ...)</pre></div></div></div></div></div>"
      ],
      "text/plain": [
       "XGBClassifier(base_score=None, booster=None, callbacks=None,\n",
       "              colsample_bylevel=None, colsample_bynode=None,\n",
       "              colsample_bytree=None, device=None, early_stopping_rounds=None,\n",
       "              enable_categorical=False, eval_metric=None, feature_types=None,\n",
       "              gamma=None, grow_policy=None, importance_type=None,\n",
       "              interaction_constraints=None, learning_rate=None, max_bin=None,\n",
       "              max_cat_threshold=None, max_cat_to_onehot=None,\n",
       "              max_delta_step=None, max_depth=None, max_leaves=None,\n",
       "              min_child_weight=None, missing=nan, monotone_constraints=None,\n",
       "              multi_strategy=None, n_estimators=None, n_jobs=None,\n",
       "              num_parallel_tree=None, random_state=None, ...)"
      ]
     },
     "execution_count": 233,
     "metadata": {},
     "output_type": "execute_result"
    }
   ],
   "source": [
    "xgb.fit(x_tr,y_tr)"
   ]
  },
  {
   "cell_type": "code",
   "execution_count": 234,
   "id": "3c2d0b2d",
   "metadata": {},
   "outputs": [],
   "source": [
    "xgb_p1=xgb.predict(x_te)"
   ]
  },
  {
   "cell_type": "code",
   "execution_count": 235,
   "id": "76115156",
   "metadata": {},
   "outputs": [
    {
     "data": {
      "text/plain": [
       "array([[986, 230],\n",
       "       [206, 578]], dtype=int64)"
      ]
     },
     "execution_count": 235,
     "metadata": {},
     "output_type": "execute_result"
    }
   ],
   "source": [
    "xgb_m1=confusion_matrix(xgb_p1,y_te)\n",
    "xgb_m1"
   ]
  },
  {
   "cell_type": "code",
   "execution_count": 236,
   "id": "13973c08",
   "metadata": {},
   "outputs": [
    {
     "data": {
      "text/plain": [
       "78.2"
      ]
     },
     "execution_count": 236,
     "metadata": {},
     "output_type": "execute_result"
    }
   ],
   "source": [
    "xgb_acc1=xgb_m1.diagonal().sum()/xgb_m1.sum()*100\n",
    "xgb_acc1"
   ]
  },
  {
   "cell_type": "code",
   "execution_count": 237,
   "id": "fee66a91",
   "metadata": {},
   "outputs": [
    {
     "name": "stdout",
     "output_type": "stream",
     "text": [
      "              precision    recall  f1-score   support\n",
      "\n",
      "           0       0.83      0.81      0.82      1216\n",
      "           1       0.72      0.74      0.73       784\n",
      "\n",
      "    accuracy                           0.78      2000\n",
      "   macro avg       0.77      0.77      0.77      2000\n",
      "weighted avg       0.78      0.78      0.78      2000\n",
      "\n"
     ]
    }
   ],
   "source": [
    "print(classification_report(xgb_p1,y_te))"
   ]
  },
  {
   "cell_type": "code",
   "execution_count": 238,
   "id": "aa726b76",
   "metadata": {},
   "outputs": [
    {
     "data": {
      "text/plain": [
       "0.8271812080536913"
      ]
     },
     "execution_count": 238,
     "metadata": {},
     "output_type": "execute_result"
    }
   ],
   "source": [
    "#tpr=tp/(tp+fn)\n",
    "tpr15=986/(986+206)\n",
    "tpr15"
   ]
  },
  {
   "cell_type": "code",
   "execution_count": 239,
   "id": "6457cc4e",
   "metadata": {},
   "outputs": [
    {
     "data": {
      "text/plain": [
       "0.28465346534653463"
      ]
     },
     "execution_count": 239,
     "metadata": {},
     "output_type": "execute_result"
    }
   ],
   "source": [
    "#fpr=fp/(fp+tn)\n",
    "fpr15=230/(230+578)\n",
    "fpr15"
   ]
  },
  {
   "cell_type": "code",
   "execution_count": 240,
   "id": "758d75bb",
   "metadata": {},
   "outputs": [
    {
     "data": {
      "text/plain": [
       "0.8108552631578947"
      ]
     },
     "execution_count": 240,
     "metadata": {},
     "output_type": "execute_result"
    }
   ],
   "source": [
    "#precision=tp/(tp+fp)\n",
    "precesion15=986/(986+230)\n",
    "precesion15"
   ]
  },
  {
   "cell_type": "code",
   "execution_count": 241,
   "id": "00bb244d",
   "metadata": {},
   "outputs": [
    {
     "data": {
      "text/plain": [
       "0.8189368770764119"
      ]
     },
     "execution_count": 241,
     "metadata": {},
     "output_type": "execute_result"
    }
   ],
   "source": [
    "#f1score=2(precesion*recall)/(precision+recall)\n",
    "f1score15=(2*(precesion15*tpr15))/(precesion15+tpr15)\n",
    "f1score15"
   ]
  },
  {
   "cell_type": "code",
   "execution_count": 242,
   "id": "b8d56b1a",
   "metadata": {},
   "outputs": [],
   "source": [
    "#df_2\n",
    "l1=[\"log\",\"dt\",\"rf\",\"nb\",\"svc\",\"knn\",\"adaboost\",\"xgboost\"]\n",
    "l2=[lg_acc1,dt_acc1,rf_acc1,nb_acc1,svc_acc1,knn_acc1,adbo_acc1,xgb_acc1]\n",
    "l3=[fpr8,fpr9,fpr10,fpr11,fpr12,fpr13,fpr14,fpr15]\n",
    "l4=[tpr8,tpr9,tpr10,tpr11,tpr12,tpr13,tpr14,tpr15]\n",
    "l5=[f1score8,f1score9,f1score10,f1score11,f1score12,f1score13,f1score14,f1score15]"
   ]
  },
  {
   "cell_type": "code",
   "execution_count": 243,
   "id": "0a1f27c4",
   "metadata": {},
   "outputs": [
    {
     "data": {
      "text/html": [
       "<div>\n",
       "<style scoped>\n",
       "    .dataframe tbody tr th:only-of-type {\n",
       "        vertical-align: middle;\n",
       "    }\n",
       "\n",
       "    .dataframe tbody tr th {\n",
       "        vertical-align: top;\n",
       "    }\n",
       "\n",
       "    .dataframe thead th {\n",
       "        text-align: right;\n",
       "    }\n",
       "</style>\n",
       "<table border=\"1\" class=\"dataframe\">\n",
       "  <thead>\n",
       "    <tr style=\"text-align: right;\">\n",
       "      <th></th>\n",
       "      <th>Model_Name</th>\n",
       "      <th>accuracy</th>\n",
       "      <th>fpr</th>\n",
       "      <th>tpr</th>\n",
       "      <th>f1score</th>\n",
       "    </tr>\n",
       "  </thead>\n",
       "  <tbody>\n",
       "    <tr>\n",
       "      <th>0</th>\n",
       "      <td>log</td>\n",
       "      <td>77.950043</td>\n",
       "      <td>0.164894</td>\n",
       "      <td>0.733668</td>\n",
       "      <td>0.776596</td>\n",
       "    </tr>\n",
       "    <tr>\n",
       "      <th>1</th>\n",
       "      <td>dt</td>\n",
       "      <td>81.309216</td>\n",
       "      <td>0.097518</td>\n",
       "      <td>0.764657</td>\n",
       "      <td>0.823636</td>\n",
       "    </tr>\n",
       "    <tr>\n",
       "      <th>2</th>\n",
       "      <td>rf</td>\n",
       "      <td>87.080103</td>\n",
       "      <td>0.082447</td>\n",
       "      <td>0.826633</td>\n",
       "      <td>0.936071</td>\n",
       "    </tr>\n",
       "    <tr>\n",
       "      <th>3</th>\n",
       "      <td>nb</td>\n",
       "      <td>75.050000</td>\n",
       "      <td>0.309406</td>\n",
       "      <td>0.840604</td>\n",
       "      <td>0.819967</td>\n",
       "    </tr>\n",
       "    <tr>\n",
       "      <th>4</th>\n",
       "      <td>svc</td>\n",
       "      <td>77.700000</td>\n",
       "      <td>0.356436</td>\n",
       "      <td>0.822987</td>\n",
       "      <td>0.797237</td>\n",
       "    </tr>\n",
       "    <tr>\n",
       "      <th>5</th>\n",
       "      <td>knn</td>\n",
       "      <td>78.000000</td>\n",
       "      <td>0.295792</td>\n",
       "      <td>0.826342</td>\n",
       "      <td>0.815397</td>\n",
       "    </tr>\n",
       "    <tr>\n",
       "      <th>6</th>\n",
       "      <td>adaboost</td>\n",
       "      <td>79.200000</td>\n",
       "      <td>0.283416</td>\n",
       "      <td>0.838926</td>\n",
       "      <td>0.826105</td>\n",
       "    </tr>\n",
       "    <tr>\n",
       "      <th>7</th>\n",
       "      <td>xgboost</td>\n",
       "      <td>78.200000</td>\n",
       "      <td>0.284653</td>\n",
       "      <td>0.827181</td>\n",
       "      <td>0.818937</td>\n",
       "    </tr>\n",
       "  </tbody>\n",
       "</table>\n",
       "</div>"
      ],
      "text/plain": [
       "  Model_Name   accuracy       fpr       tpr   f1score\n",
       "0        log  77.950043  0.164894  0.733668  0.776596\n",
       "1         dt  81.309216  0.097518  0.764657  0.823636\n",
       "2         rf  87.080103  0.082447  0.826633  0.936071\n",
       "3         nb  75.050000  0.309406  0.840604  0.819967\n",
       "4        svc  77.700000  0.356436  0.822987  0.797237\n",
       "5        knn  78.000000  0.295792  0.826342  0.815397\n",
       "6   adaboost  79.200000  0.283416  0.838926  0.826105\n",
       "7    xgboost  78.200000  0.284653  0.827181  0.818937"
      ]
     },
     "execution_count": 243,
     "metadata": {},
     "output_type": "execute_result"
    }
   ],
   "source": [
    "final1=pd.DataFrame({\"Model_Name\":l1,\"accuracy\":l2,\"fpr\":l3,\"tpr\":l4,\"f1score\":l5})\n",
    "final1"
   ]
  },
  {
   "cell_type": "raw",
   "id": "6f631fa8",
   "metadata": {},
   "source": [
    "the random forest (rf) model achieved the highest accuracy at 86.304910 and also had a relatively low false positive rate (fpr) of 0.094858 and tpr 0.832496 "
   ]
  },
  {
   "cell_type": "markdown",
   "id": "53153b81",
   "metadata": {},
   "source": [
    "# Feature selection"
   ]
  },
  {
   "cell_type": "code",
   "execution_count": 244,
   "id": "70fa56d0",
   "metadata": {},
   "outputs": [],
   "source": [
    "from sklearn.feature_selection import RFE\n",
    "from sklearn.tree import DecisionTreeClassifier\n",
    "dTree=DecisionTreeClassifier()"
   ]
  },
  {
   "cell_type": "code",
   "execution_count": 245,
   "id": "e73684c5",
   "metadata": {},
   "outputs": [],
   "source": [
    "rfe=RFE(dTree)"
   ]
  },
  {
   "cell_type": "code",
   "execution_count": 246,
   "id": "4f4672f3",
   "metadata": {},
   "outputs": [
    {
     "data": {
      "text/html": [
       "<style>#sk-container-id-17 {color: black;}#sk-container-id-17 pre{padding: 0;}#sk-container-id-17 div.sk-toggleable {background-color: white;}#sk-container-id-17 label.sk-toggleable__label {cursor: pointer;display: block;width: 100%;margin-bottom: 0;padding: 0.3em;box-sizing: border-box;text-align: center;}#sk-container-id-17 label.sk-toggleable__label-arrow:before {content: \"▸\";float: left;margin-right: 0.25em;color: #696969;}#sk-container-id-17 label.sk-toggleable__label-arrow:hover:before {color: black;}#sk-container-id-17 div.sk-estimator:hover label.sk-toggleable__label-arrow:before {color: black;}#sk-container-id-17 div.sk-toggleable__content {max-height: 0;max-width: 0;overflow: hidden;text-align: left;background-color: #f0f8ff;}#sk-container-id-17 div.sk-toggleable__content pre {margin: 0.2em;color: black;border-radius: 0.25em;background-color: #f0f8ff;}#sk-container-id-17 input.sk-toggleable__control:checked~div.sk-toggleable__content {max-height: 200px;max-width: 100%;overflow: auto;}#sk-container-id-17 input.sk-toggleable__control:checked~label.sk-toggleable__label-arrow:before {content: \"▾\";}#sk-container-id-17 div.sk-estimator input.sk-toggleable__control:checked~label.sk-toggleable__label {background-color: #d4ebff;}#sk-container-id-17 div.sk-label input.sk-toggleable__control:checked~label.sk-toggleable__label {background-color: #d4ebff;}#sk-container-id-17 input.sk-hidden--visually {border: 0;clip: rect(1px 1px 1px 1px);clip: rect(1px, 1px, 1px, 1px);height: 1px;margin: -1px;overflow: hidden;padding: 0;position: absolute;width: 1px;}#sk-container-id-17 div.sk-estimator {font-family: monospace;background-color: #f0f8ff;border: 1px dotted black;border-radius: 0.25em;box-sizing: border-box;margin-bottom: 0.5em;}#sk-container-id-17 div.sk-estimator:hover {background-color: #d4ebff;}#sk-container-id-17 div.sk-parallel-item::after {content: \"\";width: 100%;border-bottom: 1px solid gray;flex-grow: 1;}#sk-container-id-17 div.sk-label:hover label.sk-toggleable__label {background-color: #d4ebff;}#sk-container-id-17 div.sk-serial::before {content: \"\";position: absolute;border-left: 1px solid gray;box-sizing: border-box;top: 0;bottom: 0;left: 50%;z-index: 0;}#sk-container-id-17 div.sk-serial {display: flex;flex-direction: column;align-items: center;background-color: white;padding-right: 0.2em;padding-left: 0.2em;position: relative;}#sk-container-id-17 div.sk-item {position: relative;z-index: 1;}#sk-container-id-17 div.sk-parallel {display: flex;align-items: stretch;justify-content: center;background-color: white;position: relative;}#sk-container-id-17 div.sk-item::before, #sk-container-id-17 div.sk-parallel-item::before {content: \"\";position: absolute;border-left: 1px solid gray;box-sizing: border-box;top: 0;bottom: 0;left: 50%;z-index: -1;}#sk-container-id-17 div.sk-parallel-item {display: flex;flex-direction: column;z-index: 1;position: relative;background-color: white;}#sk-container-id-17 div.sk-parallel-item:first-child::after {align-self: flex-end;width: 50%;}#sk-container-id-17 div.sk-parallel-item:last-child::after {align-self: flex-start;width: 50%;}#sk-container-id-17 div.sk-parallel-item:only-child::after {width: 0;}#sk-container-id-17 div.sk-dashed-wrapped {border: 1px dashed gray;margin: 0 0.4em 0.5em 0.4em;box-sizing: border-box;padding-bottom: 0.4em;background-color: white;}#sk-container-id-17 div.sk-label label {font-family: monospace;font-weight: bold;display: inline-block;line-height: 1.2em;}#sk-container-id-17 div.sk-label-container {text-align: center;}#sk-container-id-17 div.sk-container {/* jupyter's `normalize.less` sets `[hidden] { display: none; }` but bootstrap.min.css set `[hidden] { display: none !important; }` so we also need the `!important` here to be able to override the default hidden behavior on the sphinx rendered scikit-learn.org. See: https://github.com/scikit-learn/scikit-learn/issues/21755 */display: inline-block !important;position: relative;}#sk-container-id-17 div.sk-text-repr-fallback {display: none;}</style><div id=\"sk-container-id-17\" class=\"sk-top-container\"><div class=\"sk-text-repr-fallback\"><pre>RFE(estimator=DecisionTreeClassifier())</pre><b>In a Jupyter environment, please rerun this cell to show the HTML representation or trust the notebook. <br />On GitHub, the HTML representation is unable to render, please try loading this page with nbviewer.org.</b></div><div class=\"sk-container\" hidden><div class=\"sk-item sk-dashed-wrapped\"><div class=\"sk-label-container\"><div class=\"sk-label sk-toggleable\"><input class=\"sk-toggleable__control sk-hidden--visually\" id=\"sk-estimator-id-21\" type=\"checkbox\" ><label for=\"sk-estimator-id-21\" class=\"sk-toggleable__label sk-toggleable__label-arrow\">RFE</label><div class=\"sk-toggleable__content\"><pre>RFE(estimator=DecisionTreeClassifier())</pre></div></div></div><div class=\"sk-parallel\"><div class=\"sk-parallel-item\"><div class=\"sk-item\"><div class=\"sk-label-container\"><div class=\"sk-label sk-toggleable\"><input class=\"sk-toggleable__control sk-hidden--visually\" id=\"sk-estimator-id-22\" type=\"checkbox\" ><label for=\"sk-estimator-id-22\" class=\"sk-toggleable__label sk-toggleable__label-arrow\">estimator: DecisionTreeClassifier</label><div class=\"sk-toggleable__content\"><pre>DecisionTreeClassifier()</pre></div></div></div><div class=\"sk-serial\"><div class=\"sk-item\"><div class=\"sk-estimator sk-toggleable\"><input class=\"sk-toggleable__control sk-hidden--visually\" id=\"sk-estimator-id-23\" type=\"checkbox\" ><label for=\"sk-estimator-id-23\" class=\"sk-toggleable__label sk-toggleable__label-arrow\">DecisionTreeClassifier</label><div class=\"sk-toggleable__content\"><pre>DecisionTreeClassifier()</pre></div></div></div></div></div></div></div></div></div></div>"
      ],
      "text/plain": [
       "RFE(estimator=DecisionTreeClassifier())"
      ]
     },
     "execution_count": 246,
     "metadata": {},
     "output_type": "execute_result"
    }
   ],
   "source": [
    "rfe.fit(class_1.iloc[:,:-1],class_1.iloc[:,-1])"
   ]
  },
  {
   "cell_type": "code",
   "execution_count": 247,
   "id": "07cd5780",
   "metadata": {},
   "outputs": [
    {
     "data": {
      "text/plain": [
       "array([ True, False, False, False,  True,  True, False, False,  True,\n",
       "        True])"
      ]
     },
     "execution_count": 247,
     "metadata": {},
     "output_type": "execute_result"
    }
   ],
   "source": [
    "rfe.support_"
   ]
  },
  {
   "cell_type": "code",
   "execution_count": 248,
   "id": "1c1690f1",
   "metadata": {},
   "outputs": [
    {
     "data": {
      "text/html": [
       "<div>\n",
       "<style scoped>\n",
       "    .dataframe tbody tr th:only-of-type {\n",
       "        vertical-align: middle;\n",
       "    }\n",
       "\n",
       "    .dataframe tbody tr th {\n",
       "        vertical-align: top;\n",
       "    }\n",
       "\n",
       "    .dataframe thead th {\n",
       "        text-align: right;\n",
       "    }\n",
       "</style>\n",
       "<table border=\"1\" class=\"dataframe\">\n",
       "  <thead>\n",
       "    <tr style=\"text-align: right;\">\n",
       "      <th></th>\n",
       "      <th>Importances</th>\n",
       "      <th>Columns</th>\n",
       "    </tr>\n",
       "  </thead>\n",
       "  <tbody>\n",
       "    <tr>\n",
       "      <th>0</th>\n",
       "      <td>True</td>\n",
       "      <td>CGPA</td>\n",
       "    </tr>\n",
       "    <tr>\n",
       "      <th>1</th>\n",
       "      <td>False</td>\n",
       "      <td>Internships</td>\n",
       "    </tr>\n",
       "    <tr>\n",
       "      <th>2</th>\n",
       "      <td>False</td>\n",
       "      <td>Projects</td>\n",
       "    </tr>\n",
       "    <tr>\n",
       "      <th>3</th>\n",
       "      <td>False</td>\n",
       "      <td>Workshops/Certifications</td>\n",
       "    </tr>\n",
       "    <tr>\n",
       "      <th>4</th>\n",
       "      <td>True</td>\n",
       "      <td>AptitudeTestScore</td>\n",
       "    </tr>\n",
       "    <tr>\n",
       "      <th>5</th>\n",
       "      <td>True</td>\n",
       "      <td>SoftSkillsRating</td>\n",
       "    </tr>\n",
       "    <tr>\n",
       "      <th>6</th>\n",
       "      <td>False</td>\n",
       "      <td>ExtracurricularActivities</td>\n",
       "    </tr>\n",
       "    <tr>\n",
       "      <th>7</th>\n",
       "      <td>False</td>\n",
       "      <td>PlacementTraining</td>\n",
       "    </tr>\n",
       "    <tr>\n",
       "      <th>8</th>\n",
       "      <td>True</td>\n",
       "      <td>SSC_Marks</td>\n",
       "    </tr>\n",
       "    <tr>\n",
       "      <th>9</th>\n",
       "      <td>True</td>\n",
       "      <td>HSC_Marks</td>\n",
       "    </tr>\n",
       "  </tbody>\n",
       "</table>\n",
       "</div>"
      ],
      "text/plain": [
       "   Importances                    Columns\n",
       "0         True                       CGPA\n",
       "1        False                Internships\n",
       "2        False                   Projects\n",
       "3        False   Workshops/Certifications\n",
       "4         True          AptitudeTestScore\n",
       "5         True           SoftSkillsRating\n",
       "6        False  ExtracurricularActivities\n",
       "7        False          PlacementTraining\n",
       "8         True                  SSC_Marks\n",
       "9         True                  HSC_Marks"
      ]
     },
     "execution_count": 248,
     "metadata": {},
     "output_type": "execute_result"
    }
   ],
   "source": [
    "rfe_df=pd.DataFrame({\"Importances\":list(rfe.support_),\"Columns\":list(data.iloc[:,:-1].columns)})\n",
    "rfe_df"
   ]
  },
  {
   "cell_type": "code",
   "execution_count": 249,
   "id": "455a1c5f",
   "metadata": {},
   "outputs": [
    {
     "data": {
      "text/html": [
       "<div>\n",
       "<style scoped>\n",
       "    .dataframe tbody tr th:only-of-type {\n",
       "        vertical-align: middle;\n",
       "    }\n",
       "\n",
       "    .dataframe tbody tr th {\n",
       "        vertical-align: top;\n",
       "    }\n",
       "\n",
       "    .dataframe thead th {\n",
       "        text-align: right;\n",
       "    }\n",
       "</style>\n",
       "<table border=\"1\" class=\"dataframe\">\n",
       "  <thead>\n",
       "    <tr style=\"text-align: right;\">\n",
       "      <th></th>\n",
       "      <th>Importances</th>\n",
       "      <th>Columns</th>\n",
       "    </tr>\n",
       "  </thead>\n",
       "  <tbody>\n",
       "    <tr>\n",
       "      <th>0</th>\n",
       "      <td>True</td>\n",
       "      <td>CGPA</td>\n",
       "    </tr>\n",
       "    <tr>\n",
       "      <th>4</th>\n",
       "      <td>True</td>\n",
       "      <td>AptitudeTestScore</td>\n",
       "    </tr>\n",
       "    <tr>\n",
       "      <th>5</th>\n",
       "      <td>True</td>\n",
       "      <td>SoftSkillsRating</td>\n",
       "    </tr>\n",
       "    <tr>\n",
       "      <th>8</th>\n",
       "      <td>True</td>\n",
       "      <td>SSC_Marks</td>\n",
       "    </tr>\n",
       "    <tr>\n",
       "      <th>9</th>\n",
       "      <td>True</td>\n",
       "      <td>HSC_Marks</td>\n",
       "    </tr>\n",
       "    <tr>\n",
       "      <th>1</th>\n",
       "      <td>False</td>\n",
       "      <td>Internships</td>\n",
       "    </tr>\n",
       "    <tr>\n",
       "      <th>2</th>\n",
       "      <td>False</td>\n",
       "      <td>Projects</td>\n",
       "    </tr>\n",
       "    <tr>\n",
       "      <th>3</th>\n",
       "      <td>False</td>\n",
       "      <td>Workshops/Certifications</td>\n",
       "    </tr>\n",
       "    <tr>\n",
       "      <th>6</th>\n",
       "      <td>False</td>\n",
       "      <td>ExtracurricularActivities</td>\n",
       "    </tr>\n",
       "    <tr>\n",
       "      <th>7</th>\n",
       "      <td>False</td>\n",
       "      <td>PlacementTraining</td>\n",
       "    </tr>\n",
       "  </tbody>\n",
       "</table>\n",
       "</div>"
      ],
      "text/plain": [
       "   Importances                    Columns\n",
       "0         True                       CGPA\n",
       "4         True          AptitudeTestScore\n",
       "5         True           SoftSkillsRating\n",
       "8         True                  SSC_Marks\n",
       "9         True                  HSC_Marks\n",
       "1        False                Internships\n",
       "2        False                   Projects\n",
       "3        False   Workshops/Certifications\n",
       "6        False  ExtracurricularActivities\n",
       "7        False          PlacementTraining"
      ]
     },
     "execution_count": 249,
     "metadata": {},
     "output_type": "execute_result"
    }
   ],
   "source": [
    "sorted_df =rfe_df.sort_values([\"Importances\"],ascending=False)\n",
    "sorted_df"
   ]
  },
  {
   "cell_type": "code",
   "execution_count": 250,
   "id": "279f0ee3",
   "metadata": {},
   "outputs": [
    {
     "data": {
      "text/plain": [
       "Index(['CGPA', 'Internships', 'Projects', 'Workshops/Certifications',\n",
       "       'AptitudeTestScore', 'SoftSkillsRating', 'ExtracurricularActivities',\n",
       "       'PlacementTraining', 'SSC_Marks', 'HSC_Marks', 'PlacementStatus'],\n",
       "      dtype='object')"
      ]
     },
     "execution_count": 250,
     "metadata": {},
     "output_type": "execute_result"
    }
   ],
   "source": [
    "class_1.columns"
   ]
  },
  {
   "cell_type": "code",
   "execution_count": 251,
   "id": "7d606cd3",
   "metadata": {},
   "outputs": [],
   "source": [
    "d1=class_1.drop([\"Internships\",\"Projects\",\"Workshops/Certifications\",\"ExtracurricularActivities\",\"PlacementTraining\"],axis=1)"
   ]
  },
  {
   "cell_type": "code",
   "execution_count": 252,
   "id": "b9d53003",
   "metadata": {},
   "outputs": [
    {
     "data": {
      "text/html": [
       "<div>\n",
       "<style scoped>\n",
       "    .dataframe tbody tr th:only-of-type {\n",
       "        vertical-align: middle;\n",
       "    }\n",
       "\n",
       "    .dataframe tbody tr th {\n",
       "        vertical-align: top;\n",
       "    }\n",
       "\n",
       "    .dataframe thead th {\n",
       "        text-align: right;\n",
       "    }\n",
       "</style>\n",
       "<table border=\"1\" class=\"dataframe\">\n",
       "  <thead>\n",
       "    <tr style=\"text-align: right;\">\n",
       "      <th></th>\n",
       "      <th>CGPA</th>\n",
       "      <th>AptitudeTestScore</th>\n",
       "      <th>SoftSkillsRating</th>\n",
       "      <th>SSC_Marks</th>\n",
       "      <th>HSC_Marks</th>\n",
       "      <th>PlacementStatus</th>\n",
       "    </tr>\n",
       "  </thead>\n",
       "  <tbody>\n",
       "    <tr>\n",
       "      <th>9062</th>\n",
       "      <td>8.6</td>\n",
       "      <td>88</td>\n",
       "      <td>4.3</td>\n",
       "      <td>71</td>\n",
       "      <td>82</td>\n",
       "      <td>1</td>\n",
       "    </tr>\n",
       "  </tbody>\n",
       "</table>\n",
       "</div>"
      ],
      "text/plain": [
       "      CGPA  AptitudeTestScore  SoftSkillsRating  SSC_Marks  HSC_Marks  \\\n",
       "9062   8.6                 88               4.3         71         82   \n",
       "\n",
       "      PlacementStatus  \n",
       "9062                1  "
      ]
     },
     "execution_count": 252,
     "metadata": {},
     "output_type": "execute_result"
    }
   ],
   "source": [
    "d1.head(1)"
   ]
  },
  {
   "cell_type": "code",
   "execution_count": 253,
   "id": "2bef7575",
   "metadata": {},
   "outputs": [],
   "source": [
    "x2=d1.iloc[:,:-1]\n",
    "y2=d1.iloc[:,-1]"
   ]
  },
  {
   "cell_type": "code",
   "execution_count": 254,
   "id": "8a4e14ab",
   "metadata": {},
   "outputs": [
    {
     "data": {
      "text/html": [
       "<div>\n",
       "<style scoped>\n",
       "    .dataframe tbody tr th:only-of-type {\n",
       "        vertical-align: middle;\n",
       "    }\n",
       "\n",
       "    .dataframe tbody tr th {\n",
       "        vertical-align: top;\n",
       "    }\n",
       "\n",
       "    .dataframe thead th {\n",
       "        text-align: right;\n",
       "    }\n",
       "</style>\n",
       "<table border=\"1\" class=\"dataframe\">\n",
       "  <thead>\n",
       "    <tr style=\"text-align: right;\">\n",
       "      <th></th>\n",
       "      <th>CGPA</th>\n",
       "      <th>AptitudeTestScore</th>\n",
       "      <th>SoftSkillsRating</th>\n",
       "      <th>SSC_Marks</th>\n",
       "      <th>HSC_Marks</th>\n",
       "    </tr>\n",
       "  </thead>\n",
       "  <tbody>\n",
       "    <tr>\n",
       "      <th>9062</th>\n",
       "      <td>8.6</td>\n",
       "      <td>88</td>\n",
       "      <td>4.3</td>\n",
       "      <td>71</td>\n",
       "      <td>82</td>\n",
       "    </tr>\n",
       "  </tbody>\n",
       "</table>\n",
       "</div>"
      ],
      "text/plain": [
       "      CGPA  AptitudeTestScore  SoftSkillsRating  SSC_Marks  HSC_Marks\n",
       "9062   8.6                 88               4.3         71         82"
      ]
     },
     "execution_count": 254,
     "metadata": {},
     "output_type": "execute_result"
    }
   ],
   "source": [
    "x2.head(1)"
   ]
  },
  {
   "cell_type": "code",
   "execution_count": 255,
   "id": "ccc5599c",
   "metadata": {},
   "outputs": [
    {
     "data": {
      "text/plain": [
       "9062    1\n",
       "4389    1\n",
       "3570    1\n",
       "9135    1\n",
       "7426    1\n",
       "Name: PlacementStatus, dtype: int32"
      ]
     },
     "execution_count": 255,
     "metadata": {},
     "output_type": "execute_result"
    }
   ],
   "source": [
    "y2.head()"
   ]
  },
  {
   "cell_type": "code",
   "execution_count": 256,
   "id": "e14c200e",
   "metadata": {},
   "outputs": [],
   "source": [
    "from sklearn.model_selection import train_test_split"
   ]
  },
  {
   "cell_type": "code",
   "execution_count": 257,
   "id": "61b30c81",
   "metadata": {},
   "outputs": [],
   "source": [
    "x2_tr,x2_te,y2_tr,y2_te=train_test_split(x2,y2,test_size=0.2,random_state=100)"
   ]
  },
  {
   "cell_type": "code",
   "execution_count": 258,
   "id": "1f606f6a",
   "metadata": {},
   "outputs": [
    {
     "data": {
      "text/plain": [
       "((9284, 5), (2322, 5), (9284,), (2322,))"
      ]
     },
     "execution_count": 258,
     "metadata": {},
     "output_type": "execute_result"
    }
   ],
   "source": [
    "x2_tr.shape,x2_te.shape,y2_tr.shape,y2_te.shape"
   ]
  },
  {
   "cell_type": "markdown",
   "id": "7c8b3a36",
   "metadata": {},
   "source": [
    "# logistic regression"
   ]
  },
  {
   "cell_type": "code",
   "execution_count": 259,
   "id": "43a206bd",
   "metadata": {},
   "outputs": [],
   "source": [
    "\n",
    "from sklearn.linear_model import LogisticRegression\n",
    "lg=LogisticRegression()"
   ]
  },
  {
   "cell_type": "code",
   "execution_count": 260,
   "id": "490da886",
   "metadata": {},
   "outputs": [],
   "source": [
    "from sklearn.metrics import confusion_matrix\n",
    "from sklearn.metrics import classification_report"
   ]
  },
  {
   "cell_type": "code",
   "execution_count": 261,
   "id": "a99fc74f",
   "metadata": {},
   "outputs": [
    {
     "data": {
      "text/html": [
       "<style>#sk-container-id-18 {color: black;}#sk-container-id-18 pre{padding: 0;}#sk-container-id-18 div.sk-toggleable {background-color: white;}#sk-container-id-18 label.sk-toggleable__label {cursor: pointer;display: block;width: 100%;margin-bottom: 0;padding: 0.3em;box-sizing: border-box;text-align: center;}#sk-container-id-18 label.sk-toggleable__label-arrow:before {content: \"▸\";float: left;margin-right: 0.25em;color: #696969;}#sk-container-id-18 label.sk-toggleable__label-arrow:hover:before {color: black;}#sk-container-id-18 div.sk-estimator:hover label.sk-toggleable__label-arrow:before {color: black;}#sk-container-id-18 div.sk-toggleable__content {max-height: 0;max-width: 0;overflow: hidden;text-align: left;background-color: #f0f8ff;}#sk-container-id-18 div.sk-toggleable__content pre {margin: 0.2em;color: black;border-radius: 0.25em;background-color: #f0f8ff;}#sk-container-id-18 input.sk-toggleable__control:checked~div.sk-toggleable__content {max-height: 200px;max-width: 100%;overflow: auto;}#sk-container-id-18 input.sk-toggleable__control:checked~label.sk-toggleable__label-arrow:before {content: \"▾\";}#sk-container-id-18 div.sk-estimator input.sk-toggleable__control:checked~label.sk-toggleable__label {background-color: #d4ebff;}#sk-container-id-18 div.sk-label input.sk-toggleable__control:checked~label.sk-toggleable__label {background-color: #d4ebff;}#sk-container-id-18 input.sk-hidden--visually {border: 0;clip: rect(1px 1px 1px 1px);clip: rect(1px, 1px, 1px, 1px);height: 1px;margin: -1px;overflow: hidden;padding: 0;position: absolute;width: 1px;}#sk-container-id-18 div.sk-estimator {font-family: monospace;background-color: #f0f8ff;border: 1px dotted black;border-radius: 0.25em;box-sizing: border-box;margin-bottom: 0.5em;}#sk-container-id-18 div.sk-estimator:hover {background-color: #d4ebff;}#sk-container-id-18 div.sk-parallel-item::after {content: \"\";width: 100%;border-bottom: 1px solid gray;flex-grow: 1;}#sk-container-id-18 div.sk-label:hover label.sk-toggleable__label {background-color: #d4ebff;}#sk-container-id-18 div.sk-serial::before {content: \"\";position: absolute;border-left: 1px solid gray;box-sizing: border-box;top: 0;bottom: 0;left: 50%;z-index: 0;}#sk-container-id-18 div.sk-serial {display: flex;flex-direction: column;align-items: center;background-color: white;padding-right: 0.2em;padding-left: 0.2em;position: relative;}#sk-container-id-18 div.sk-item {position: relative;z-index: 1;}#sk-container-id-18 div.sk-parallel {display: flex;align-items: stretch;justify-content: center;background-color: white;position: relative;}#sk-container-id-18 div.sk-item::before, #sk-container-id-18 div.sk-parallel-item::before {content: \"\";position: absolute;border-left: 1px solid gray;box-sizing: border-box;top: 0;bottom: 0;left: 50%;z-index: -1;}#sk-container-id-18 div.sk-parallel-item {display: flex;flex-direction: column;z-index: 1;position: relative;background-color: white;}#sk-container-id-18 div.sk-parallel-item:first-child::after {align-self: flex-end;width: 50%;}#sk-container-id-18 div.sk-parallel-item:last-child::after {align-self: flex-start;width: 50%;}#sk-container-id-18 div.sk-parallel-item:only-child::after {width: 0;}#sk-container-id-18 div.sk-dashed-wrapped {border: 1px dashed gray;margin: 0 0.4em 0.5em 0.4em;box-sizing: border-box;padding-bottom: 0.4em;background-color: white;}#sk-container-id-18 div.sk-label label {font-family: monospace;font-weight: bold;display: inline-block;line-height: 1.2em;}#sk-container-id-18 div.sk-label-container {text-align: center;}#sk-container-id-18 div.sk-container {/* jupyter's `normalize.less` sets `[hidden] { display: none; }` but bootstrap.min.css set `[hidden] { display: none !important; }` so we also need the `!important` here to be able to override the default hidden behavior on the sphinx rendered scikit-learn.org. See: https://github.com/scikit-learn/scikit-learn/issues/21755 */display: inline-block !important;position: relative;}#sk-container-id-18 div.sk-text-repr-fallback {display: none;}</style><div id=\"sk-container-id-18\" class=\"sk-top-container\"><div class=\"sk-text-repr-fallback\"><pre>LogisticRegression()</pre><b>In a Jupyter environment, please rerun this cell to show the HTML representation or trust the notebook. <br />On GitHub, the HTML representation is unable to render, please try loading this page with nbviewer.org.</b></div><div class=\"sk-container\" hidden><div class=\"sk-item\"><div class=\"sk-estimator sk-toggleable\"><input class=\"sk-toggleable__control sk-hidden--visually\" id=\"sk-estimator-id-24\" type=\"checkbox\" checked><label for=\"sk-estimator-id-24\" class=\"sk-toggleable__label sk-toggleable__label-arrow\">LogisticRegression</label><div class=\"sk-toggleable__content\"><pre>LogisticRegression()</pre></div></div></div></div></div>"
      ],
      "text/plain": [
       "LogisticRegression()"
      ]
     },
     "execution_count": 261,
     "metadata": {},
     "output_type": "execute_result"
    }
   ],
   "source": [
    "lg.fit(x2_tr,y2_tr)"
   ]
  },
  {
   "cell_type": "code",
   "execution_count": 262,
   "id": "62b22bbe",
   "metadata": {},
   "outputs": [
    {
     "data": {
      "text/plain": [
       "array([0, 1, 1, ..., 0, 1, 0])"
      ]
     },
     "execution_count": 262,
     "metadata": {},
     "output_type": "execute_result"
    }
   ],
   "source": [
    "lg_p3=lg.predict(x2_te)\n",
    "lg_p3"
   ]
  },
  {
   "cell_type": "code",
   "execution_count": 263,
   "id": "8dd7aea1",
   "metadata": {},
   "outputs": [
    {
     "data": {
      "text/plain": [
       "array([[920, 224],\n",
       "       [274, 904]], dtype=int64)"
      ]
     },
     "execution_count": 263,
     "metadata": {},
     "output_type": "execute_result"
    }
   ],
   "source": [
    "lg_m3=confusion_matrix(lg_p3,y2_te)\n",
    "lg_m3"
   ]
  },
  {
   "cell_type": "code",
   "execution_count": 264,
   "id": "5c74c7aa",
   "metadata": {},
   "outputs": [
    {
     "data": {
      "text/plain": [
       "78.55297157622739"
      ]
     },
     "execution_count": 264,
     "metadata": {},
     "output_type": "execute_result"
    }
   ],
   "source": [
    "lg_acc3=lg_m3.diagonal().sum()/lg_m3.sum()*100\n",
    "lg_acc3"
   ]
  },
  {
   "cell_type": "code",
   "execution_count": 265,
   "id": "6321843e",
   "metadata": {},
   "outputs": [
    {
     "name": "stdout",
     "output_type": "stream",
     "text": [
      "              precision    recall  f1-score   support\n",
      "\n",
      "           0       0.77      0.80      0.79      1144\n",
      "           1       0.80      0.77      0.78      1178\n",
      "\n",
      "    accuracy                           0.79      2322\n",
      "   macro avg       0.79      0.79      0.79      2322\n",
      "weighted avg       0.79      0.79      0.79      2322\n",
      "\n"
     ]
    }
   ],
   "source": [
    "print(classification_report(lg_p3,y2_te))"
   ]
  },
  {
   "cell_type": "code",
   "execution_count": 266,
   "id": "6cde7d84",
   "metadata": {},
   "outputs": [
    {
     "data": {
      "text/plain": [
       "0.7680067001675042"
      ]
     },
     "execution_count": 266,
     "metadata": {},
     "output_type": "execute_result"
    }
   ],
   "source": [
    "#tpr=tp/(tp+fn)\n",
    "tpr16=917/(917+277)\n",
    "tpr16"
   ]
  },
  {
   "cell_type": "code",
   "execution_count": 267,
   "id": "8dfe463d",
   "metadata": {},
   "outputs": [
    {
     "data": {
      "text/plain": [
       "0.1879432624113475"
      ]
     },
     "execution_count": 267,
     "metadata": {},
     "output_type": "execute_result"
    }
   ],
   "source": [
    "#fpr=fp/(fp+tn)\n",
    "fpr16=212/(212+916)\n",
    "fpr16"
   ]
  },
  {
   "cell_type": "code",
   "execution_count": 268,
   "id": "839a86f4",
   "metadata": {},
   "outputs": [
    {
     "data": {
      "text/plain": [
       "0.812223206377325"
      ]
     },
     "execution_count": 268,
     "metadata": {},
     "output_type": "execute_result"
    }
   ],
   "source": [
    "#precision=tp/(tp+fp)\n",
    "precesion16=917/(917+212)\n",
    "precesion16"
   ]
  },
  {
   "cell_type": "code",
   "execution_count": 269,
   "id": "6c2bdbd2",
   "metadata": {},
   "outputs": [
    {
     "data": {
      "text/plain": [
       "0.7894963409384417"
      ]
     },
     "execution_count": 269,
     "metadata": {},
     "output_type": "execute_result"
    }
   ],
   "source": [
    "#f1score=2(precesion*recall)/(precision+recall)\n",
    "f1score16=(2*(precesion16*tpr16))/(precesion16+tpr16)\n",
    "f1score16"
   ]
  },
  {
   "cell_type": "markdown",
   "id": "c3904840",
   "metadata": {},
   "source": [
    "# decision tree"
   ]
  },
  {
   "cell_type": "code",
   "execution_count": 270,
   "id": "02db95fb",
   "metadata": {},
   "outputs": [],
   "source": [
    "#dt\n",
    "from sklearn.tree import DecisionTreeClassifier\n",
    "dt=DecisionTreeClassifier()"
   ]
  },
  {
   "cell_type": "code",
   "execution_count": 271,
   "id": "c37266ff",
   "metadata": {},
   "outputs": [
    {
     "data": {
      "text/html": [
       "<style>#sk-container-id-19 {color: black;}#sk-container-id-19 pre{padding: 0;}#sk-container-id-19 div.sk-toggleable {background-color: white;}#sk-container-id-19 label.sk-toggleable__label {cursor: pointer;display: block;width: 100%;margin-bottom: 0;padding: 0.3em;box-sizing: border-box;text-align: center;}#sk-container-id-19 label.sk-toggleable__label-arrow:before {content: \"▸\";float: left;margin-right: 0.25em;color: #696969;}#sk-container-id-19 label.sk-toggleable__label-arrow:hover:before {color: black;}#sk-container-id-19 div.sk-estimator:hover label.sk-toggleable__label-arrow:before {color: black;}#sk-container-id-19 div.sk-toggleable__content {max-height: 0;max-width: 0;overflow: hidden;text-align: left;background-color: #f0f8ff;}#sk-container-id-19 div.sk-toggleable__content pre {margin: 0.2em;color: black;border-radius: 0.25em;background-color: #f0f8ff;}#sk-container-id-19 input.sk-toggleable__control:checked~div.sk-toggleable__content {max-height: 200px;max-width: 100%;overflow: auto;}#sk-container-id-19 input.sk-toggleable__control:checked~label.sk-toggleable__label-arrow:before {content: \"▾\";}#sk-container-id-19 div.sk-estimator input.sk-toggleable__control:checked~label.sk-toggleable__label {background-color: #d4ebff;}#sk-container-id-19 div.sk-label input.sk-toggleable__control:checked~label.sk-toggleable__label {background-color: #d4ebff;}#sk-container-id-19 input.sk-hidden--visually {border: 0;clip: rect(1px 1px 1px 1px);clip: rect(1px, 1px, 1px, 1px);height: 1px;margin: -1px;overflow: hidden;padding: 0;position: absolute;width: 1px;}#sk-container-id-19 div.sk-estimator {font-family: monospace;background-color: #f0f8ff;border: 1px dotted black;border-radius: 0.25em;box-sizing: border-box;margin-bottom: 0.5em;}#sk-container-id-19 div.sk-estimator:hover {background-color: #d4ebff;}#sk-container-id-19 div.sk-parallel-item::after {content: \"\";width: 100%;border-bottom: 1px solid gray;flex-grow: 1;}#sk-container-id-19 div.sk-label:hover label.sk-toggleable__label {background-color: #d4ebff;}#sk-container-id-19 div.sk-serial::before {content: \"\";position: absolute;border-left: 1px solid gray;box-sizing: border-box;top: 0;bottom: 0;left: 50%;z-index: 0;}#sk-container-id-19 div.sk-serial {display: flex;flex-direction: column;align-items: center;background-color: white;padding-right: 0.2em;padding-left: 0.2em;position: relative;}#sk-container-id-19 div.sk-item {position: relative;z-index: 1;}#sk-container-id-19 div.sk-parallel {display: flex;align-items: stretch;justify-content: center;background-color: white;position: relative;}#sk-container-id-19 div.sk-item::before, #sk-container-id-19 div.sk-parallel-item::before {content: \"\";position: absolute;border-left: 1px solid gray;box-sizing: border-box;top: 0;bottom: 0;left: 50%;z-index: -1;}#sk-container-id-19 div.sk-parallel-item {display: flex;flex-direction: column;z-index: 1;position: relative;background-color: white;}#sk-container-id-19 div.sk-parallel-item:first-child::after {align-self: flex-end;width: 50%;}#sk-container-id-19 div.sk-parallel-item:last-child::after {align-self: flex-start;width: 50%;}#sk-container-id-19 div.sk-parallel-item:only-child::after {width: 0;}#sk-container-id-19 div.sk-dashed-wrapped {border: 1px dashed gray;margin: 0 0.4em 0.5em 0.4em;box-sizing: border-box;padding-bottom: 0.4em;background-color: white;}#sk-container-id-19 div.sk-label label {font-family: monospace;font-weight: bold;display: inline-block;line-height: 1.2em;}#sk-container-id-19 div.sk-label-container {text-align: center;}#sk-container-id-19 div.sk-container {/* jupyter's `normalize.less` sets `[hidden] { display: none; }` but bootstrap.min.css set `[hidden] { display: none !important; }` so we also need the `!important` here to be able to override the default hidden behavior on the sphinx rendered scikit-learn.org. See: https://github.com/scikit-learn/scikit-learn/issues/21755 */display: inline-block !important;position: relative;}#sk-container-id-19 div.sk-text-repr-fallback {display: none;}</style><div id=\"sk-container-id-19\" class=\"sk-top-container\"><div class=\"sk-text-repr-fallback\"><pre>DecisionTreeClassifier()</pre><b>In a Jupyter environment, please rerun this cell to show the HTML representation or trust the notebook. <br />On GitHub, the HTML representation is unable to render, please try loading this page with nbviewer.org.</b></div><div class=\"sk-container\" hidden><div class=\"sk-item\"><div class=\"sk-estimator sk-toggleable\"><input class=\"sk-toggleable__control sk-hidden--visually\" id=\"sk-estimator-id-25\" type=\"checkbox\" checked><label for=\"sk-estimator-id-25\" class=\"sk-toggleable__label sk-toggleable__label-arrow\">DecisionTreeClassifier</label><div class=\"sk-toggleable__content\"><pre>DecisionTreeClassifier()</pre></div></div></div></div></div>"
      ],
      "text/plain": [
       "DecisionTreeClassifier()"
      ]
     },
     "execution_count": 271,
     "metadata": {},
     "output_type": "execute_result"
    }
   ],
   "source": [
    "dt.fit(x2_tr,y2_tr)"
   ]
  },
  {
   "cell_type": "code",
   "execution_count": 272,
   "id": "684dc9ff",
   "metadata": {},
   "outputs": [
    {
     "data": {
      "text/plain": [
       "array([1, 1, 1, ..., 1, 1, 0])"
      ]
     },
     "execution_count": 272,
     "metadata": {},
     "output_type": "execute_result"
    }
   ],
   "source": [
    "dt_p3=dt.predict(x2_te)\n",
    "dt_p3\n"
   ]
  },
  {
   "cell_type": "code",
   "execution_count": 273,
   "id": "3033f2f3",
   "metadata": {},
   "outputs": [
    {
     "data": {
      "text/plain": [
       "array([[ 916,  128],\n",
       "       [ 278, 1000]], dtype=int64)"
      ]
     },
     "execution_count": 273,
     "metadata": {},
     "output_type": "execute_result"
    }
   ],
   "source": [
    "dt_m3=confusion_matrix(dt_p3,y2_te)\n",
    "dt_m3"
   ]
  },
  {
   "cell_type": "code",
   "execution_count": 274,
   "id": "fe35418b",
   "metadata": {},
   "outputs": [
    {
     "data": {
      "text/plain": [
       "82.51507321274764"
      ]
     },
     "execution_count": 274,
     "metadata": {},
     "output_type": "execute_result"
    }
   ],
   "source": [
    "dt_acc3=dt_m3.diagonal().sum()/dt_m3.sum()*100\n",
    "dt_acc3"
   ]
  },
  {
   "cell_type": "code",
   "execution_count": 275,
   "id": "63fce07b",
   "metadata": {},
   "outputs": [
    {
     "name": "stdout",
     "output_type": "stream",
     "text": [
      "              precision    recall  f1-score   support\n",
      "\n",
      "           0       0.77      0.88      0.82      1044\n",
      "           1       0.89      0.78      0.83      1278\n",
      "\n",
      "    accuracy                           0.83      2322\n",
      "   macro avg       0.83      0.83      0.82      2322\n",
      "weighted avg       0.83      0.83      0.83      2322\n",
      "\n"
     ]
    }
   ],
   "source": [
    "print(classification_report(dt_p3,y2_te))"
   ]
  },
  {
   "cell_type": "code",
   "execution_count": 276,
   "id": "4bc38931",
   "metadata": {},
   "outputs": [
    {
     "data": {
      "text/plain": [
       "0.7470686767169179"
      ]
     },
     "execution_count": 276,
     "metadata": {},
     "output_type": "execute_result"
    }
   ],
   "source": [
    "#tpr=tp/(tp+fn)\n",
    "tpr17=892/(892+302)\n",
    "tpr17"
   ]
  },
  {
   "cell_type": "code",
   "execution_count": 277,
   "id": "57927c50",
   "metadata": {},
   "outputs": [
    {
     "data": {
      "text/plain": [
       "0.10549645390070922"
      ]
     },
     "execution_count": 277,
     "metadata": {},
     "output_type": "execute_result"
    }
   ],
   "source": [
    "#fpr=fp/(fp+tn)\n",
    "fpr17=119/(119+1009)\n",
    "fpr17"
   ]
  },
  {
   "cell_type": "code",
   "execution_count": 278,
   "id": "07710a15",
   "metadata": {},
   "outputs": [
    {
     "data": {
      "text/plain": [
       "0.8822947576656776"
      ]
     },
     "execution_count": 278,
     "metadata": {},
     "output_type": "execute_result"
    }
   ],
   "source": [
    "#precision=tp/(tp+fp)\n",
    "precesion17=892/(892+119)\n",
    "precesion17"
   ]
  },
  {
   "cell_type": "code",
   "execution_count": 279,
   "id": "2ee8d3a1",
   "metadata": {},
   "outputs": [
    {
     "data": {
      "text/plain": [
       "0.8090702947845806"
      ]
     },
     "execution_count": 279,
     "metadata": {},
     "output_type": "execute_result"
    }
   ],
   "source": [
    "#f1score=2(precesion*recall)/(precision+recall)\n",
    "f1score17=(2*(precesion17*tpr17))/(precesion17+tpr17)\n",
    "f1score17"
   ]
  },
  {
   "cell_type": "markdown",
   "id": "b752d851",
   "metadata": {},
   "source": [
    "# Random forest"
   ]
  },
  {
   "cell_type": "code",
   "execution_count": 280,
   "id": "1d39f60a",
   "metadata": {},
   "outputs": [],
   "source": [
    "\n",
    "from sklearn.ensemble import RandomForestClassifier\n",
    "rf=RandomForestClassifier()"
   ]
  },
  {
   "cell_type": "code",
   "execution_count": 281,
   "id": "7c0f6ba0",
   "metadata": {},
   "outputs": [
    {
     "data": {
      "text/html": [
       "<style>#sk-container-id-20 {color: black;}#sk-container-id-20 pre{padding: 0;}#sk-container-id-20 div.sk-toggleable {background-color: white;}#sk-container-id-20 label.sk-toggleable__label {cursor: pointer;display: block;width: 100%;margin-bottom: 0;padding: 0.3em;box-sizing: border-box;text-align: center;}#sk-container-id-20 label.sk-toggleable__label-arrow:before {content: \"▸\";float: left;margin-right: 0.25em;color: #696969;}#sk-container-id-20 label.sk-toggleable__label-arrow:hover:before {color: black;}#sk-container-id-20 div.sk-estimator:hover label.sk-toggleable__label-arrow:before {color: black;}#sk-container-id-20 div.sk-toggleable__content {max-height: 0;max-width: 0;overflow: hidden;text-align: left;background-color: #f0f8ff;}#sk-container-id-20 div.sk-toggleable__content pre {margin: 0.2em;color: black;border-radius: 0.25em;background-color: #f0f8ff;}#sk-container-id-20 input.sk-toggleable__control:checked~div.sk-toggleable__content {max-height: 200px;max-width: 100%;overflow: auto;}#sk-container-id-20 input.sk-toggleable__control:checked~label.sk-toggleable__label-arrow:before {content: \"▾\";}#sk-container-id-20 div.sk-estimator input.sk-toggleable__control:checked~label.sk-toggleable__label {background-color: #d4ebff;}#sk-container-id-20 div.sk-label input.sk-toggleable__control:checked~label.sk-toggleable__label {background-color: #d4ebff;}#sk-container-id-20 input.sk-hidden--visually {border: 0;clip: rect(1px 1px 1px 1px);clip: rect(1px, 1px, 1px, 1px);height: 1px;margin: -1px;overflow: hidden;padding: 0;position: absolute;width: 1px;}#sk-container-id-20 div.sk-estimator {font-family: monospace;background-color: #f0f8ff;border: 1px dotted black;border-radius: 0.25em;box-sizing: border-box;margin-bottom: 0.5em;}#sk-container-id-20 div.sk-estimator:hover {background-color: #d4ebff;}#sk-container-id-20 div.sk-parallel-item::after {content: \"\";width: 100%;border-bottom: 1px solid gray;flex-grow: 1;}#sk-container-id-20 div.sk-label:hover label.sk-toggleable__label {background-color: #d4ebff;}#sk-container-id-20 div.sk-serial::before {content: \"\";position: absolute;border-left: 1px solid gray;box-sizing: border-box;top: 0;bottom: 0;left: 50%;z-index: 0;}#sk-container-id-20 div.sk-serial {display: flex;flex-direction: column;align-items: center;background-color: white;padding-right: 0.2em;padding-left: 0.2em;position: relative;}#sk-container-id-20 div.sk-item {position: relative;z-index: 1;}#sk-container-id-20 div.sk-parallel {display: flex;align-items: stretch;justify-content: center;background-color: white;position: relative;}#sk-container-id-20 div.sk-item::before, #sk-container-id-20 div.sk-parallel-item::before {content: \"\";position: absolute;border-left: 1px solid gray;box-sizing: border-box;top: 0;bottom: 0;left: 50%;z-index: -1;}#sk-container-id-20 div.sk-parallel-item {display: flex;flex-direction: column;z-index: 1;position: relative;background-color: white;}#sk-container-id-20 div.sk-parallel-item:first-child::after {align-self: flex-end;width: 50%;}#sk-container-id-20 div.sk-parallel-item:last-child::after {align-self: flex-start;width: 50%;}#sk-container-id-20 div.sk-parallel-item:only-child::after {width: 0;}#sk-container-id-20 div.sk-dashed-wrapped {border: 1px dashed gray;margin: 0 0.4em 0.5em 0.4em;box-sizing: border-box;padding-bottom: 0.4em;background-color: white;}#sk-container-id-20 div.sk-label label {font-family: monospace;font-weight: bold;display: inline-block;line-height: 1.2em;}#sk-container-id-20 div.sk-label-container {text-align: center;}#sk-container-id-20 div.sk-container {/* jupyter's `normalize.less` sets `[hidden] { display: none; }` but bootstrap.min.css set `[hidden] { display: none !important; }` so we also need the `!important` here to be able to override the default hidden behavior on the sphinx rendered scikit-learn.org. See: https://github.com/scikit-learn/scikit-learn/issues/21755 */display: inline-block !important;position: relative;}#sk-container-id-20 div.sk-text-repr-fallback {display: none;}</style><div id=\"sk-container-id-20\" class=\"sk-top-container\"><div class=\"sk-text-repr-fallback\"><pre>RandomForestClassifier()</pre><b>In a Jupyter environment, please rerun this cell to show the HTML representation or trust the notebook. <br />On GitHub, the HTML representation is unable to render, please try loading this page with nbviewer.org.</b></div><div class=\"sk-container\" hidden><div class=\"sk-item\"><div class=\"sk-estimator sk-toggleable\"><input class=\"sk-toggleable__control sk-hidden--visually\" id=\"sk-estimator-id-26\" type=\"checkbox\" checked><label for=\"sk-estimator-id-26\" class=\"sk-toggleable__label sk-toggleable__label-arrow\">RandomForestClassifier</label><div class=\"sk-toggleable__content\"><pre>RandomForestClassifier()</pre></div></div></div></div></div>"
      ],
      "text/plain": [
       "RandomForestClassifier()"
      ]
     },
     "execution_count": 281,
     "metadata": {},
     "output_type": "execute_result"
    }
   ],
   "source": [
    "rf.fit(x2_tr,y2_tr)"
   ]
  },
  {
   "cell_type": "code",
   "execution_count": 282,
   "id": "58410ea2",
   "metadata": {},
   "outputs": [
    {
     "data": {
      "text/plain": [
       "array([1, 1, 1, ..., 1, 1, 0])"
      ]
     },
     "execution_count": 282,
     "metadata": {},
     "output_type": "execute_result"
    }
   ],
   "source": [
    "rf_pre3=rf.predict(x2_te)\n",
    "rf_pre3"
   ]
  },
  {
   "cell_type": "code",
   "execution_count": 283,
   "id": "b37e0ce2",
   "metadata": {},
   "outputs": [
    {
     "data": {
      "text/plain": [
       "array([[ 973,  103],\n",
       "       [ 221, 1025]], dtype=int64)"
      ]
     },
     "execution_count": 283,
     "metadata": {},
     "output_type": "execute_result"
    }
   ],
   "source": [
    "rf_mat3=confusion_matrix(rf_pre3,y2_te)\n",
    "rf_mat3"
   ]
  },
  {
   "cell_type": "code",
   "execution_count": 284,
   "id": "f91c2d76",
   "metadata": {},
   "outputs": [
    {
     "data": {
      "text/plain": [
       "86.04651162790698"
      ]
     },
     "execution_count": 284,
     "metadata": {},
     "output_type": "execute_result"
    }
   ],
   "source": [
    "rf_acc3=rf_mat3.diagonal().sum()/rf_mat3.sum()*100\n",
    "rf_acc3"
   ]
  },
  {
   "cell_type": "code",
   "execution_count": 285,
   "id": "2b3ef2a2",
   "metadata": {},
   "outputs": [
    {
     "name": "stdout",
     "output_type": "stream",
     "text": [
      "              precision    recall  f1-score   support\n",
      "\n",
      "           0       0.81      0.90      0.86      1076\n",
      "           1       0.91      0.82      0.86      1246\n",
      "\n",
      "    accuracy                           0.86      2322\n",
      "   macro avg       0.86      0.86      0.86      2322\n",
      "weighted avg       0.87      0.86      0.86      2322\n",
      "\n"
     ]
    }
   ],
   "source": [
    "print(classification_report (rf_pre3,y2_te))"
   ]
  },
  {
   "cell_type": "code",
   "execution_count": 286,
   "id": "56608d77",
   "metadata": {},
   "outputs": [
    {
     "data": {
      "text/plain": [
       "0.8174204355108877"
      ]
     },
     "execution_count": 286,
     "metadata": {},
     "output_type": "execute_result"
    }
   ],
   "source": [
    "#tpr=tp/(tp+fn)\n",
    "tpr18=976/(976+218)\n",
    "tpr18"
   ]
  },
  {
   "cell_type": "code",
   "execution_count": 287,
   "id": "c30b9521",
   "metadata": {},
   "outputs": [
    {
     "data": {
      "text/plain": [
       "0.08687943262411348"
      ]
     },
     "execution_count": 287,
     "metadata": {},
     "output_type": "execute_result"
    }
   ],
   "source": [
    "#fpr=fp/(fp+tn)\n",
    "fpr18=98/(98+1030)\n",
    "fpr18"
   ]
  },
  {
   "cell_type": "code",
   "execution_count": 288,
   "id": "f4dc19b7",
   "metadata": {},
   "outputs": [
    {
     "data": {
      "text/plain": [
       "0.9087523277467412"
      ]
     },
     "execution_count": 288,
     "metadata": {},
     "output_type": "execute_result"
    }
   ],
   "source": [
    "#precision=tp/(tp+fp)\n",
    "precesion18=976/(976+98)\n",
    "precesion18"
   ]
  },
  {
   "cell_type": "code",
   "execution_count": 289,
   "id": "c258f036",
   "metadata": {},
   "outputs": [
    {
     "data": {
      "text/plain": [
       "0.8606701940035273"
      ]
     },
     "execution_count": 289,
     "metadata": {},
     "output_type": "execute_result"
    }
   ],
   "source": [
    "#f1score=2(precesion*recall)/(precision+recall)\n",
    "f1score18=(2*(precesion18*tpr18))/(precesion18+tpr18)\n",
    "f1score18"
   ]
  },
  {
   "cell_type": "code",
   "execution_count": 290,
   "id": "12c1cfff",
   "metadata": {},
   "outputs": [],
   "source": [
    "precision,recall,threshold=precision_recall_curve(y2_te,rf_pre3)"
   ]
  },
  {
   "cell_type": "code",
   "execution_count": 291,
   "id": "0ea195ed",
   "metadata": {},
   "outputs": [
    {
     "data": {
      "image/png": "[encoded data removed]",
      "text/plain": [
       "<Figure size 640x480 with 1 Axes>"
      ]
     },
     "metadata": {},
     "output_type": "display_data"
    }
   ],
   "source": [
    "fig,ax=plt.subplots()\n",
    "ax.plot(recall,precision,color=\"purple\")\n",
    "plt.show()"
   ]
  },
  {
   "cell_type": "markdown",
   "id": "b2391071",
   "metadata": {},
   "source": [
    "# Navie bayes"
   ]
  },
  {
   "cell_type": "code",
   "execution_count": 292,
   "id": "f89dfa92",
   "metadata": {},
   "outputs": [],
   "source": [
    "\n",
    "from sklearn.naive_bayes import MultinomialNB\n",
    "nb=MultinomialNB()"
   ]
  },
  {
   "cell_type": "code",
   "execution_count": 293,
   "id": "adbfc767",
   "metadata": {},
   "outputs": [
    {
     "data": {
      "text/html": [
       "<style>#sk-container-id-21 {color: black;}#sk-container-id-21 pre{padding: 0;}#sk-container-id-21 div.sk-toggleable {background-color: white;}#sk-container-id-21 label.sk-toggleable__label {cursor: pointer;display: block;width: 100%;margin-bottom: 0;padding: 0.3em;box-sizing: border-box;text-align: center;}#sk-container-id-21 label.sk-toggleable__label-arrow:before {content: \"▸\";float: left;margin-right: 0.25em;color: #696969;}#sk-container-id-21 label.sk-toggleable__label-arrow:hover:before {color: black;}#sk-container-id-21 div.sk-estimator:hover label.sk-toggleable__label-arrow:before {color: black;}#sk-container-id-21 div.sk-toggleable__content {max-height: 0;max-width: 0;overflow: hidden;text-align: left;background-color: #f0f8ff;}#sk-container-id-21 div.sk-toggleable__content pre {margin: 0.2em;color: black;border-radius: 0.25em;background-color: #f0f8ff;}#sk-container-id-21 input.sk-toggleable__control:checked~div.sk-toggleable__content {max-height: 200px;max-width: 100%;overflow: auto;}#sk-container-id-21 input.sk-toggleable__control:checked~label.sk-toggleable__label-arrow:before {content: \"▾\";}#sk-container-id-21 div.sk-estimator input.sk-toggleable__control:checked~label.sk-toggleable__label {background-color: #d4ebff;}#sk-container-id-21 div.sk-label input.sk-toggleable__control:checked~label.sk-toggleable__label {background-color: #d4ebff;}#sk-container-id-21 input.sk-hidden--visually {border: 0;clip: rect(1px 1px 1px 1px);clip: rect(1px, 1px, 1px, 1px);height: 1px;margin: -1px;overflow: hidden;padding: 0;position: absolute;width: 1px;}#sk-container-id-21 div.sk-estimator {font-family: monospace;background-color: #f0f8ff;border: 1px dotted black;border-radius: 0.25em;box-sizing: border-box;margin-bottom: 0.5em;}#sk-container-id-21 div.sk-estimator:hover {background-color: #d4ebff;}#sk-container-id-21 div.sk-parallel-item::after {content: \"\";width: 100%;border-bottom: 1px solid gray;flex-grow: 1;}#sk-container-id-21 div.sk-label:hover label.sk-toggleable__label {background-color: #d4ebff;}#sk-container-id-21 div.sk-serial::before {content: \"\";position: absolute;border-left: 1px solid gray;box-sizing: border-box;top: 0;bottom: 0;left: 50%;z-index: 0;}#sk-container-id-21 div.sk-serial {display: flex;flex-direction: column;align-items: center;background-color: white;padding-right: 0.2em;padding-left: 0.2em;position: relative;}#sk-container-id-21 div.sk-item {position: relative;z-index: 1;}#sk-container-id-21 div.sk-parallel {display: flex;align-items: stretch;justify-content: center;background-color: white;position: relative;}#sk-container-id-21 div.sk-item::before, #sk-container-id-21 div.sk-parallel-item::before {content: \"\";position: absolute;border-left: 1px solid gray;box-sizing: border-box;top: 0;bottom: 0;left: 50%;z-index: -1;}#sk-container-id-21 div.sk-parallel-item {display: flex;flex-direction: column;z-index: 1;position: relative;background-color: white;}#sk-container-id-21 div.sk-parallel-item:first-child::after {align-self: flex-end;width: 50%;}#sk-container-id-21 div.sk-parallel-item:last-child::after {align-self: flex-start;width: 50%;}#sk-container-id-21 div.sk-parallel-item:only-child::after {width: 0;}#sk-container-id-21 div.sk-dashed-wrapped {border: 1px dashed gray;margin: 0 0.4em 0.5em 0.4em;box-sizing: border-box;padding-bottom: 0.4em;background-color: white;}#sk-container-id-21 div.sk-label label {font-family: monospace;font-weight: bold;display: inline-block;line-height: 1.2em;}#sk-container-id-21 div.sk-label-container {text-align: center;}#sk-container-id-21 div.sk-container {/* jupyter's `normalize.less` sets `[hidden] { display: none; }` but bootstrap.min.css set `[hidden] { display: none !important; }` so we also need the `!important` here to be able to override the default hidden behavior on the sphinx rendered scikit-learn.org. See: https://github.com/scikit-learn/scikit-learn/issues/21755 */display: inline-block !important;position: relative;}#sk-container-id-21 div.sk-text-repr-fallback {display: none;}</style><div id=\"sk-container-id-21\" class=\"sk-top-container\"><div class=\"sk-text-repr-fallback\"><pre>MultinomialNB()</pre><b>In a Jupyter environment, please rerun this cell to show the HTML representation or trust the notebook. <br />On GitHub, the HTML representation is unable to render, please try loading this page with nbviewer.org.</b></div><div class=\"sk-container\" hidden><div class=\"sk-item\"><div class=\"sk-estimator sk-toggleable\"><input class=\"sk-toggleable__control sk-hidden--visually\" id=\"sk-estimator-id-27\" type=\"checkbox\" checked><label for=\"sk-estimator-id-27\" class=\"sk-toggleable__label sk-toggleable__label-arrow\">MultinomialNB</label><div class=\"sk-toggleable__content\"><pre>MultinomialNB()</pre></div></div></div></div></div>"
      ],
      "text/plain": [
       "MultinomialNB()"
      ]
     },
     "execution_count": 293,
     "metadata": {},
     "output_type": "execute_result"
    }
   ],
   "source": [
    "nb.fit(x2_tr,y2_tr)"
   ]
  },
  {
   "cell_type": "code",
   "execution_count": 294,
   "id": "db5959bb",
   "metadata": {},
   "outputs": [],
   "source": [
    "nb_p3=nb.predict(x2_te)"
   ]
  },
  {
   "cell_type": "code",
   "execution_count": 295,
   "id": "c09c5b93",
   "metadata": {},
   "outputs": [
    {
     "data": {
      "text/plain": [
       "array([[709, 380],\n",
       "       [485, 748]], dtype=int64)"
      ]
     },
     "execution_count": 295,
     "metadata": {},
     "output_type": "execute_result"
    }
   ],
   "source": [
    "nb_m3=confusion_matrix(nb_p3,y2_te)\n",
    "nb_m3"
   ]
  },
  {
   "cell_type": "code",
   "execution_count": 296,
   "id": "729ba005",
   "metadata": {},
   "outputs": [
    {
     "data": {
      "text/plain": [
       "62.74763135228252"
      ]
     },
     "execution_count": 296,
     "metadata": {},
     "output_type": "execute_result"
    }
   ],
   "source": [
    "nb_acc3=nb_m3.diagonal().sum()/nb_m3.sum()*100\n",
    "nb_acc3"
   ]
  },
  {
   "cell_type": "code",
   "execution_count": 297,
   "id": "b99fdedd",
   "metadata": {},
   "outputs": [
    {
     "name": "stdout",
     "output_type": "stream",
     "text": [
      "              precision    recall  f1-score   support\n",
      "\n",
      "           0       0.59      0.65      0.62      1089\n",
      "           1       0.66      0.61      0.63      1233\n",
      "\n",
      "    accuracy                           0.63      2322\n",
      "   macro avg       0.63      0.63      0.63      2322\n",
      "weighted avg       0.63      0.63      0.63      2322\n",
      "\n"
     ]
    }
   ],
   "source": [
    "print(classification_report(nb_p3,y2_te))"
   ]
  },
  {
   "cell_type": "code",
   "execution_count": 298,
   "id": "153749e4",
   "metadata": {},
   "outputs": [
    {
     "data": {
      "text/plain": [
       "0.5887772194304858"
      ]
     },
     "execution_count": 298,
     "metadata": {},
     "output_type": "execute_result"
    }
   ],
   "source": [
    "#tpr=tp/(tp+fn)\n",
    "tpr19=703/(703+491)\n",
    "tpr19"
   ]
  },
  {
   "cell_type": "code",
   "execution_count": 299,
   "id": "b60e22ad",
   "metadata": {},
   "outputs": [
    {
     "data": {
      "text/plain": [
       "0.33067375886524825"
      ]
     },
     "execution_count": 299,
     "metadata": {},
     "output_type": "execute_result"
    }
   ],
   "source": [
    "#fpr=fp/(fp+tn)\n",
    "fpr19=373/(373+755)\n",
    "fpr19"
   ]
  },
  {
   "cell_type": "code",
   "execution_count": 300,
   "id": "ffec60e9",
   "metadata": {},
   "outputs": [
    {
     "data": {
      "text/plain": [
       "0.6533457249070632"
      ]
     },
     "execution_count": 300,
     "metadata": {},
     "output_type": "execute_result"
    }
   ],
   "source": [
    "#precision=tp/(tp+fp)\n",
    "precesion19=703/(703+373)\n",
    "precesion19"
   ]
  },
  {
   "cell_type": "code",
   "execution_count": 301,
   "id": "88167942",
   "metadata": {},
   "outputs": [
    {
     "data": {
      "text/plain": [
       "0.6193832599118944"
      ]
     },
     "execution_count": 301,
     "metadata": {},
     "output_type": "execute_result"
    }
   ],
   "source": [
    "#f1score=2(precesion*recall)/(precision+recall)\n",
    "f1score19=(2*(precesion19*tpr19))/(precesion19+tpr19)\n",
    "f1score19"
   ]
  },
  {
   "cell_type": "markdown",
   "id": "cec4e134",
   "metadata": {},
   "source": [
    "# SVM"
   ]
  },
  {
   "cell_type": "code",
   "execution_count": 302,
   "id": "8ed9ba6b",
   "metadata": {},
   "outputs": [],
   "source": [
    "from sklearn.svm import SVC\n",
    "svc=SVC()"
   ]
  },
  {
   "cell_type": "code",
   "execution_count": 303,
   "id": "8726053a",
   "metadata": {},
   "outputs": [
    {
     "data": {
      "text/html": [
       "<style>#sk-container-id-22 {color: black;}#sk-container-id-22 pre{padding: 0;}#sk-container-id-22 div.sk-toggleable {background-color: white;}#sk-container-id-22 label.sk-toggleable__label {cursor: pointer;display: block;width: 100%;margin-bottom: 0;padding: 0.3em;box-sizing: border-box;text-align: center;}#sk-container-id-22 label.sk-toggleable__label-arrow:before {content: \"▸\";float: left;margin-right: 0.25em;color: #696969;}#sk-container-id-22 label.sk-toggleable__label-arrow:hover:before {color: black;}#sk-container-id-22 div.sk-estimator:hover label.sk-toggleable__label-arrow:before {color: black;}#sk-container-id-22 div.sk-toggleable__content {max-height: 0;max-width: 0;overflow: hidden;text-align: left;background-color: #f0f8ff;}#sk-container-id-22 div.sk-toggleable__content pre {margin: 0.2em;color: black;border-radius: 0.25em;background-color: #f0f8ff;}#sk-container-id-22 input.sk-toggleable__control:checked~div.sk-toggleable__content {max-height: 200px;max-width: 100%;overflow: auto;}#sk-container-id-22 input.sk-toggleable__control:checked~label.sk-toggleable__label-arrow:before {content: \"▾\";}#sk-container-id-22 div.sk-estimator input.sk-toggleable__control:checked~label.sk-toggleable__label {background-color: #d4ebff;}#sk-container-id-22 div.sk-label input.sk-toggleable__control:checked~label.sk-toggleable__label {background-color: #d4ebff;}#sk-container-id-22 input.sk-hidden--visually {border: 0;clip: rect(1px 1px 1px 1px);clip: rect(1px, 1px, 1px, 1px);height: 1px;margin: -1px;overflow: hidden;padding: 0;position: absolute;width: 1px;}#sk-container-id-22 div.sk-estimator {font-family: monospace;background-color: #f0f8ff;border: 1px dotted black;border-radius: 0.25em;box-sizing: border-box;margin-bottom: 0.5em;}#sk-container-id-22 div.sk-estimator:hover {background-color: #d4ebff;}#sk-container-id-22 div.sk-parallel-item::after {content: \"\";width: 100%;border-bottom: 1px solid gray;flex-grow: 1;}#sk-container-id-22 div.sk-label:hover label.sk-toggleable__label {background-color: #d4ebff;}#sk-container-id-22 div.sk-serial::before {content: \"\";position: absolute;border-left: 1px solid gray;box-sizing: border-box;top: 0;bottom: 0;left: 50%;z-index: 0;}#sk-container-id-22 div.sk-serial {display: flex;flex-direction: column;align-items: center;background-color: white;padding-right: 0.2em;padding-left: 0.2em;position: relative;}#sk-container-id-22 div.sk-item {position: relative;z-index: 1;}#sk-container-id-22 div.sk-parallel {display: flex;align-items: stretch;justify-content: center;background-color: white;position: relative;}#sk-container-id-22 div.sk-item::before, #sk-container-id-22 div.sk-parallel-item::before {content: \"\";position: absolute;border-left: 1px solid gray;box-sizing: border-box;top: 0;bottom: 0;left: 50%;z-index: -1;}#sk-container-id-22 div.sk-parallel-item {display: flex;flex-direction: column;z-index: 1;position: relative;background-color: white;}#sk-container-id-22 div.sk-parallel-item:first-child::after {align-self: flex-end;width: 50%;}#sk-container-id-22 div.sk-parallel-item:last-child::after {align-self: flex-start;width: 50%;}#sk-container-id-22 div.sk-parallel-item:only-child::after {width: 0;}#sk-container-id-22 div.sk-dashed-wrapped {border: 1px dashed gray;margin: 0 0.4em 0.5em 0.4em;box-sizing: border-box;padding-bottom: 0.4em;background-color: white;}#sk-container-id-22 div.sk-label label {font-family: monospace;font-weight: bold;display: inline-block;line-height: 1.2em;}#sk-container-id-22 div.sk-label-container {text-align: center;}#sk-container-id-22 div.sk-container {/* jupyter's `normalize.less` sets `[hidden] { display: none; }` but bootstrap.min.css set `[hidden] { display: none !important; }` so we also need the `!important` here to be able to override the default hidden behavior on the sphinx rendered scikit-learn.org. See: https://github.com/scikit-learn/scikit-learn/issues/21755 */display: inline-block !important;position: relative;}#sk-container-id-22 div.sk-text-repr-fallback {display: none;}</style><div id=\"sk-container-id-22\" class=\"sk-top-container\"><div class=\"sk-text-repr-fallback\"><pre>SVC()</pre><b>In a Jupyter environment, please rerun this cell to show the HTML representation or trust the notebook. <br />On GitHub, the HTML representation is unable to render, please try loading this page with nbviewer.org.</b></div><div class=\"sk-container\" hidden><div class=\"sk-item\"><div class=\"sk-estimator sk-toggleable\"><input class=\"sk-toggleable__control sk-hidden--visually\" id=\"sk-estimator-id-28\" type=\"checkbox\" checked><label for=\"sk-estimator-id-28\" class=\"sk-toggleable__label sk-toggleable__label-arrow\">SVC</label><div class=\"sk-toggleable__content\"><pre>SVC()</pre></div></div></div></div></div>"
      ],
      "text/plain": [
       "SVC()"
      ]
     },
     "execution_count": 303,
     "metadata": {},
     "output_type": "execute_result"
    }
   ],
   "source": [
    "svc.fit(x2_tr,y2_tr)"
   ]
  },
  {
   "cell_type": "code",
   "execution_count": 304,
   "id": "0f80d8f2",
   "metadata": {},
   "outputs": [],
   "source": [
    "svc_p3=svc.predict(x2_te)"
   ]
  },
  {
   "cell_type": "code",
   "execution_count": 305,
   "id": "4fbd65bc",
   "metadata": {},
   "outputs": [
    {
     "data": {
      "text/plain": [
       "array([[955, 269],\n",
       "       [239, 859]], dtype=int64)"
      ]
     },
     "execution_count": 305,
     "metadata": {},
     "output_type": "execute_result"
    }
   ],
   "source": [
    "svc_m3=confusion_matrix(svc_p3,y2_te)\n",
    "svc_m3"
   ]
  },
  {
   "cell_type": "code",
   "execution_count": 306,
   "id": "99b35937",
   "metadata": {},
   "outputs": [
    {
     "data": {
      "text/plain": [
       "78.1223083548665"
      ]
     },
     "execution_count": 306,
     "metadata": {},
     "output_type": "execute_result"
    }
   ],
   "source": [
    "svc_acc3=svc_m3.diagonal().sum()/svc_m3.sum()*100\n",
    "svc_acc3"
   ]
  },
  {
   "cell_type": "code",
   "execution_count": 307,
   "id": "e7c988f2",
   "metadata": {},
   "outputs": [
    {
     "name": "stdout",
     "output_type": "stream",
     "text": [
      "              precision    recall  f1-score   support\n",
      "\n",
      "           0       0.80      0.78      0.79      1224\n",
      "           1       0.76      0.78      0.77      1098\n",
      "\n",
      "    accuracy                           0.78      2322\n",
      "   macro avg       0.78      0.78      0.78      2322\n",
      "weighted avg       0.78      0.78      0.78      2322\n",
      "\n"
     ]
    }
   ],
   "source": [
    "print(classification_report(svc_p3,y2_te))"
   ]
  },
  {
   "cell_type": "code",
   "execution_count": 308,
   "id": "170047a4",
   "metadata": {},
   "outputs": [
    {
     "data": {
      "text/plain": [
       "0.8040201005025126"
      ]
     },
     "execution_count": 308,
     "metadata": {},
     "output_type": "execute_result"
    }
   ],
   "source": [
    "#tpr=tp/(tp+fn)\n",
    "tpr20=960/(960+234)\n",
    "tpr20"
   ]
  },
  {
   "cell_type": "code",
   "execution_count": 309,
   "id": "176b87e1",
   "metadata": {},
   "outputs": [
    {
     "data": {
      "text/plain": [
       "0.23138297872340424"
      ]
     },
     "execution_count": 309,
     "metadata": {},
     "output_type": "execute_result"
    }
   ],
   "source": [
    "#fpr=fp/(fp+tn)\n",
    "fpr20=261/(261+867)\n",
    "fpr20"
   ]
  },
  {
   "cell_type": "code",
   "execution_count": 310,
   "id": "0c3fb2e2",
   "metadata": {},
   "outputs": [
    {
     "data": {
      "text/plain": [
       "0.7862407862407862"
      ]
     },
     "execution_count": 310,
     "metadata": {},
     "output_type": "execute_result"
    }
   ],
   "source": [
    "#precision=tp/(tp+fp)\n",
    "precesion20=960/(960+261)\n",
    "precesion20"
   ]
  },
  {
   "cell_type": "code",
   "execution_count": 311,
   "id": "4f598e09",
   "metadata": {},
   "outputs": [
    {
     "data": {
      "text/plain": [
       "0.7950310559006211"
      ]
     },
     "execution_count": 311,
     "metadata": {},
     "output_type": "execute_result"
    }
   ],
   "source": [
    "#f1score=2(precesion*recall)/(precision+recall)\n",
    "f1score20=(2*(precesion20*tpr20))/(precesion20+tpr20)\n",
    "f1score20"
   ]
  },
  {
   "cell_type": "markdown",
   "id": "d37ca47e",
   "metadata": {},
   "source": [
    "# KNN"
   ]
  },
  {
   "cell_type": "code",
   "execution_count": 312,
   "id": "f07f7554",
   "metadata": {},
   "outputs": [],
   "source": [
    "from sklearn.neighbors import KNeighborsClassifier\n",
    "knn=KNeighborsClassifier(n_neighbors=15)"
   ]
  },
  {
   "cell_type": "code",
   "execution_count": 313,
   "id": "c9d38024",
   "metadata": {},
   "outputs": [
    {
     "data": {
      "text/html": [
       "<style>#sk-container-id-23 {color: black;}#sk-container-id-23 pre{padding: 0;}#sk-container-id-23 div.sk-toggleable {background-color: white;}#sk-container-id-23 label.sk-toggleable__label {cursor: pointer;display: block;width: 100%;margin-bottom: 0;padding: 0.3em;box-sizing: border-box;text-align: center;}#sk-container-id-23 label.sk-toggleable__label-arrow:before {content: \"▸\";float: left;margin-right: 0.25em;color: #696969;}#sk-container-id-23 label.sk-toggleable__label-arrow:hover:before {color: black;}#sk-container-id-23 div.sk-estimator:hover label.sk-toggleable__label-arrow:before {color: black;}#sk-container-id-23 div.sk-toggleable__content {max-height: 0;max-width: 0;overflow: hidden;text-align: left;background-color: #f0f8ff;}#sk-container-id-23 div.sk-toggleable__content pre {margin: 0.2em;color: black;border-radius: 0.25em;background-color: #f0f8ff;}#sk-container-id-23 input.sk-toggleable__control:checked~div.sk-toggleable__content {max-height: 200px;max-width: 100%;overflow: auto;}#sk-container-id-23 input.sk-toggleable__control:checked~label.sk-toggleable__label-arrow:before {content: \"▾\";}#sk-container-id-23 div.sk-estimator input.sk-toggleable__control:checked~label.sk-toggleable__label {background-color: #d4ebff;}#sk-container-id-23 div.sk-label input.sk-toggleable__control:checked~label.sk-toggleable__label {background-color: #d4ebff;}#sk-container-id-23 input.sk-hidden--visually {border: 0;clip: rect(1px 1px 1px 1px);clip: rect(1px, 1px, 1px, 1px);height: 1px;margin: -1px;overflow: hidden;padding: 0;position: absolute;width: 1px;}#sk-container-id-23 div.sk-estimator {font-family: monospace;background-color: #f0f8ff;border: 1px dotted black;border-radius: 0.25em;box-sizing: border-box;margin-bottom: 0.5em;}#sk-container-id-23 div.sk-estimator:hover {background-color: #d4ebff;}#sk-container-id-23 div.sk-parallel-item::after {content: \"\";width: 100%;border-bottom: 1px solid gray;flex-grow: 1;}#sk-container-id-23 div.sk-label:hover label.sk-toggleable__label {background-color: #d4ebff;}#sk-container-id-23 div.sk-serial::before {content: \"\";position: absolute;border-left: 1px solid gray;box-sizing: border-box;top: 0;bottom: 0;left: 50%;z-index: 0;}#sk-container-id-23 div.sk-serial {display: flex;flex-direction: column;align-items: center;background-color: white;padding-right: 0.2em;padding-left: 0.2em;position: relative;}#sk-container-id-23 div.sk-item {position: relative;z-index: 1;}#sk-container-id-23 div.sk-parallel {display: flex;align-items: stretch;justify-content: center;background-color: white;position: relative;}#sk-container-id-23 div.sk-item::before, #sk-container-id-23 div.sk-parallel-item::before {content: \"\";position: absolute;border-left: 1px solid gray;box-sizing: border-box;top: 0;bottom: 0;left: 50%;z-index: -1;}#sk-container-id-23 div.sk-parallel-item {display: flex;flex-direction: column;z-index: 1;position: relative;background-color: white;}#sk-container-id-23 div.sk-parallel-item:first-child::after {align-self: flex-end;width: 50%;}#sk-container-id-23 div.sk-parallel-item:last-child::after {align-self: flex-start;width: 50%;}#sk-container-id-23 div.sk-parallel-item:only-child::after {width: 0;}#sk-container-id-23 div.sk-dashed-wrapped {border: 1px dashed gray;margin: 0 0.4em 0.5em 0.4em;box-sizing: border-box;padding-bottom: 0.4em;background-color: white;}#sk-container-id-23 div.sk-label label {font-family: monospace;font-weight: bold;display: inline-block;line-height: 1.2em;}#sk-container-id-23 div.sk-label-container {text-align: center;}#sk-container-id-23 div.sk-container {/* jupyter's `normalize.less` sets `[hidden] { display: none; }` but bootstrap.min.css set `[hidden] { display: none !important; }` so we also need the `!important` here to be able to override the default hidden behavior on the sphinx rendered scikit-learn.org. See: https://github.com/scikit-learn/scikit-learn/issues/21755 */display: inline-block !important;position: relative;}#sk-container-id-23 div.sk-text-repr-fallback {display: none;}</style><div id=\"sk-container-id-23\" class=\"sk-top-container\"><div class=\"sk-text-repr-fallback\"><pre>KNeighborsClassifier(n_neighbors=15)</pre><b>In a Jupyter environment, please rerun this cell to show the HTML representation or trust the notebook. <br />On GitHub, the HTML representation is unable to render, please try loading this page with nbviewer.org.</b></div><div class=\"sk-container\" hidden><div class=\"sk-item\"><div class=\"sk-estimator sk-toggleable\"><input class=\"sk-toggleable__control sk-hidden--visually\" id=\"sk-estimator-id-29\" type=\"checkbox\" checked><label for=\"sk-estimator-id-29\" class=\"sk-toggleable__label sk-toggleable__label-arrow\">KNeighborsClassifier</label><div class=\"sk-toggleable__content\"><pre>KNeighborsClassifier(n_neighbors=15)</pre></div></div></div></div></div>"
      ],
      "text/plain": [
       "KNeighborsClassifier(n_neighbors=15)"
      ]
     },
     "execution_count": 313,
     "metadata": {},
     "output_type": "execute_result"
    }
   ],
   "source": [
    "knn.fit(x2_tr,y2_tr)"
   ]
  },
  {
   "cell_type": "code",
   "execution_count": 314,
   "id": "d4e327b2",
   "metadata": {},
   "outputs": [],
   "source": [
    "knn_p3=knn.predict(x2_te)"
   ]
  },
  {
   "cell_type": "code",
   "execution_count": 315,
   "id": "5813ce8e",
   "metadata": {},
   "outputs": [
    {
     "data": {
      "text/plain": [
       "array([[907, 235],\n",
       "       [287, 893]], dtype=int64)"
      ]
     },
     "execution_count": 315,
     "metadata": {},
     "output_type": "execute_result"
    }
   ],
   "source": [
    "knn_m3=confusion_matrix(knn_p3,y2_te)\n",
    "knn_m3"
   ]
  },
  {
   "cell_type": "code",
   "execution_count": 316,
   "id": "b2e72614",
   "metadata": {},
   "outputs": [
    {
     "data": {
      "text/plain": [
       "77.51937984496125"
      ]
     },
     "execution_count": 316,
     "metadata": {},
     "output_type": "execute_result"
    }
   ],
   "source": [
    "knn_acc3=knn_m3.diagonal().sum()/knn_m3.sum()*100\n",
    "knn_acc3"
   ]
  },
  {
   "cell_type": "code",
   "execution_count": 317,
   "id": "cbb00fce",
   "metadata": {},
   "outputs": [
    {
     "name": "stdout",
     "output_type": "stream",
     "text": [
      "              precision    recall  f1-score   support\n",
      "\n",
      "           0       0.76      0.79      0.78      1142\n",
      "           1       0.79      0.76      0.77      1180\n",
      "\n",
      "    accuracy                           0.78      2322\n",
      "   macro avg       0.78      0.78      0.78      2322\n",
      "weighted avg       0.78      0.78      0.78      2322\n",
      "\n"
     ]
    }
   ],
   "source": [
    "print(classification_report(knn_p3,y2_te))"
   ]
  },
  {
   "cell_type": "code",
   "execution_count": 318,
   "id": "1c979f36",
   "metadata": {},
   "outputs": [
    {
     "data": {
      "text/plain": [
       "0.7470686767169179"
      ]
     },
     "execution_count": 318,
     "metadata": {},
     "output_type": "execute_result"
    }
   ],
   "source": [
    "#tpr=tp/(tp+fn)\n",
    "tpr21=892/(892+302)\n",
    "tpr21"
   ]
  },
  {
   "cell_type": "code",
   "execution_count": 319,
   "id": "8f0f6847",
   "metadata": {},
   "outputs": [
    {
     "data": {
      "text/plain": [
       "0.2908415841584158"
      ]
     },
     "execution_count": 319,
     "metadata": {},
     "output_type": "execute_result"
    }
   ],
   "source": [
    "#fpr=fp/(fp+tn)\n",
    "fpr21=235/(255+553)\n",
    "fpr21"
   ]
  },
  {
   "cell_type": "code",
   "execution_count": 320,
   "id": "7cac36ce",
   "metadata": {},
   "outputs": [
    {
     "data": {
      "text/plain": [
       "0.7914818101153505"
      ]
     },
     "execution_count": 320,
     "metadata": {},
     "output_type": "execute_result"
    }
   ],
   "source": [
    "#precision=tp/(tp+fp)\n",
    "precesion21=892/(892+235)\n",
    "precesion21"
   ]
  },
  {
   "cell_type": "code",
   "execution_count": 321,
   "id": "bd3aa1a5",
   "metadata": {},
   "outputs": [
    {
     "data": {
      "text/plain": [
       "0.6193832599118944"
      ]
     },
     "execution_count": 321,
     "metadata": {},
     "output_type": "execute_result"
    }
   ],
   "source": [
    "#f1score=2(precesion*recall)/(precision+recall)\n",
    "f1score21=(2*(precesion19*tpr19))/(precesion19+tpr19)\n",
    "f1score21"
   ]
  },
  {
   "cell_type": "markdown",
   "id": "596b17c7",
   "metadata": {},
   "source": [
    "# Adaboost"
   ]
  },
  {
   "cell_type": "code",
   "execution_count": 322,
   "id": "e0e5a3fe",
   "metadata": {},
   "outputs": [],
   "source": [
    "from sklearn.ensemble import AdaBoostClassifier\n",
    "from sklearn.tree import DecisionTreeClassifier"
   ]
  },
  {
   "cell_type": "code",
   "execution_count": 323,
   "id": "f45525b9",
   "metadata": {},
   "outputs": [],
   "source": [
    "adbo=AdaBoostClassifier(DecisionTreeClassifier(),n_estimators=5)"
   ]
  },
  {
   "cell_type": "code",
   "execution_count": 324,
   "id": "1f46dc67",
   "metadata": {},
   "outputs": [
    {
     "data": {
      "text/html": [
       "<style>#sk-container-id-24 {color: black;}#sk-container-id-24 pre{padding: 0;}#sk-container-id-24 div.sk-toggleable {background-color: white;}#sk-container-id-24 label.sk-toggleable__label {cursor: pointer;display: block;width: 100%;margin-bottom: 0;padding: 0.3em;box-sizing: border-box;text-align: center;}#sk-container-id-24 label.sk-toggleable__label-arrow:before {content: \"▸\";float: left;margin-right: 0.25em;color: #696969;}#sk-container-id-24 label.sk-toggleable__label-arrow:hover:before {color: black;}#sk-container-id-24 div.sk-estimator:hover label.sk-toggleable__label-arrow:before {color: black;}#sk-container-id-24 div.sk-toggleable__content {max-height: 0;max-width: 0;overflow: hidden;text-align: left;background-color: #f0f8ff;}#sk-container-id-24 div.sk-toggleable__content pre {margin: 0.2em;color: black;border-radius: 0.25em;background-color: #f0f8ff;}#sk-container-id-24 input.sk-toggleable__control:checked~div.sk-toggleable__content {max-height: 200px;max-width: 100%;overflow: auto;}#sk-container-id-24 input.sk-toggleable__control:checked~label.sk-toggleable__label-arrow:before {content: \"▾\";}#sk-container-id-24 div.sk-estimator input.sk-toggleable__control:checked~label.sk-toggleable__label {background-color: #d4ebff;}#sk-container-id-24 div.sk-label input.sk-toggleable__control:checked~label.sk-toggleable__label {background-color: #d4ebff;}#sk-container-id-24 input.sk-hidden--visually {border: 0;clip: rect(1px 1px 1px 1px);clip: rect(1px, 1px, 1px, 1px);height: 1px;margin: -1px;overflow: hidden;padding: 0;position: absolute;width: 1px;}#sk-container-id-24 div.sk-estimator {font-family: monospace;background-color: #f0f8ff;border: 1px dotted black;border-radius: 0.25em;box-sizing: border-box;margin-bottom: 0.5em;}#sk-container-id-24 div.sk-estimator:hover {background-color: #d4ebff;}#sk-container-id-24 div.sk-parallel-item::after {content: \"\";width: 100%;border-bottom: 1px solid gray;flex-grow: 1;}#sk-container-id-24 div.sk-label:hover label.sk-toggleable__label {background-color: #d4ebff;}#sk-container-id-24 div.sk-serial::before {content: \"\";position: absolute;border-left: 1px solid gray;box-sizing: border-box;top: 0;bottom: 0;left: 50%;z-index: 0;}#sk-container-id-24 div.sk-serial {display: flex;flex-direction: column;align-items: center;background-color: white;padding-right: 0.2em;padding-left: 0.2em;position: relative;}#sk-container-id-24 div.sk-item {position: relative;z-index: 1;}#sk-container-id-24 div.sk-parallel {display: flex;align-items: stretch;justify-content: center;background-color: white;position: relative;}#sk-container-id-24 div.sk-item::before, #sk-container-id-24 div.sk-parallel-item::before {content: \"\";position: absolute;border-left: 1px solid gray;box-sizing: border-box;top: 0;bottom: 0;left: 50%;z-index: -1;}#sk-container-id-24 div.sk-parallel-item {display: flex;flex-direction: column;z-index: 1;position: relative;background-color: white;}#sk-container-id-24 div.sk-parallel-item:first-child::after {align-self: flex-end;width: 50%;}#sk-container-id-24 div.sk-parallel-item:last-child::after {align-self: flex-start;width: 50%;}#sk-container-id-24 div.sk-parallel-item:only-child::after {width: 0;}#sk-container-id-24 div.sk-dashed-wrapped {border: 1px dashed gray;margin: 0 0.4em 0.5em 0.4em;box-sizing: border-box;padding-bottom: 0.4em;background-color: white;}#sk-container-id-24 div.sk-label label {font-family: monospace;font-weight: bold;display: inline-block;line-height: 1.2em;}#sk-container-id-24 div.sk-label-container {text-align: center;}#sk-container-id-24 div.sk-container {/* jupyter's `normalize.less` sets `[hidden] { display: none; }` but bootstrap.min.css set `[hidden] { display: none !important; }` so we also need the `!important` here to be able to override the default hidden behavior on the sphinx rendered scikit-learn.org. See: https://github.com/scikit-learn/scikit-learn/issues/21755 */display: inline-block !important;position: relative;}#sk-container-id-24 div.sk-text-repr-fallback {display: none;}</style><div id=\"sk-container-id-24\" class=\"sk-top-container\"><div class=\"sk-text-repr-fallback\"><pre>AdaBoostClassifier(estimator=DecisionTreeClassifier(), n_estimators=5)</pre><b>In a Jupyter environment, please rerun this cell to show the HTML representation or trust the notebook. <br />On GitHub, the HTML representation is unable to render, please try loading this page with nbviewer.org.</b></div><div class=\"sk-container\" hidden><div class=\"sk-item sk-dashed-wrapped\"><div class=\"sk-label-container\"><div class=\"sk-label sk-toggleable\"><input class=\"sk-toggleable__control sk-hidden--visually\" id=\"sk-estimator-id-30\" type=\"checkbox\" ><label for=\"sk-estimator-id-30\" class=\"sk-toggleable__label sk-toggleable__label-arrow\">AdaBoostClassifier</label><div class=\"sk-toggleable__content\"><pre>AdaBoostClassifier(estimator=DecisionTreeClassifier(), n_estimators=5)</pre></div></div></div><div class=\"sk-parallel\"><div class=\"sk-parallel-item\"><div class=\"sk-item\"><div class=\"sk-label-container\"><div class=\"sk-label sk-toggleable\"><input class=\"sk-toggleable__control sk-hidden--visually\" id=\"sk-estimator-id-31\" type=\"checkbox\" ><label for=\"sk-estimator-id-31\" class=\"sk-toggleable__label sk-toggleable__label-arrow\">estimator: DecisionTreeClassifier</label><div class=\"sk-toggleable__content\"><pre>DecisionTreeClassifier()</pre></div></div></div><div class=\"sk-serial\"><div class=\"sk-item\"><div class=\"sk-estimator sk-toggleable\"><input class=\"sk-toggleable__control sk-hidden--visually\" id=\"sk-estimator-id-32\" type=\"checkbox\" ><label for=\"sk-estimator-id-32\" class=\"sk-toggleable__label sk-toggleable__label-arrow\">DecisionTreeClassifier</label><div class=\"sk-toggleable__content\"><pre>DecisionTreeClassifier()</pre></div></div></div></div></div></div></div></div></div></div>"
      ],
      "text/plain": [
       "AdaBoostClassifier(estimator=DecisionTreeClassifier(), n_estimators=5)"
      ]
     },
     "execution_count": 324,
     "metadata": {},
     "output_type": "execute_result"
    }
   ],
   "source": [
    "adbo.fit(x2_tr,y2_tr)"
   ]
  },
  {
   "cell_type": "code",
   "execution_count": 325,
   "id": "bbc08931",
   "metadata": {},
   "outputs": [],
   "source": [
    "adbo_p3=adbo.predict(x2_te)"
   ]
  },
  {
   "cell_type": "code",
   "execution_count": 326,
   "id": "42608faa",
   "metadata": {},
   "outputs": [
    {
     "data": {
      "text/plain": [
       "array([[922, 131],\n",
       "       [272, 997]], dtype=int64)"
      ]
     },
     "execution_count": 326,
     "metadata": {},
     "output_type": "execute_result"
    }
   ],
   "source": [
    "adboo_m3=confusion_matrix(adbo_p3,y2_te)\n",
    "adboo_m3"
   ]
  },
  {
   "cell_type": "code",
   "execution_count": 327,
   "id": "b15ebf57",
   "metadata": {},
   "outputs": [
    {
     "data": {
      "text/plain": [
       "82.64427217915589"
      ]
     },
     "execution_count": 327,
     "metadata": {},
     "output_type": "execute_result"
    }
   ],
   "source": [
    "adbo_acc3=adboo_m3.diagonal().sum()/adboo_m3.sum()*100\n",
    "adbo_acc3"
   ]
  },
  {
   "cell_type": "code",
   "execution_count": 328,
   "id": "f9aff6f8",
   "metadata": {},
   "outputs": [
    {
     "name": "stdout",
     "output_type": "stream",
     "text": [
      "              precision    recall  f1-score   support\n",
      "\n",
      "           0       0.77      0.88      0.82      1053\n",
      "           1       0.88      0.79      0.83      1269\n",
      "\n",
      "    accuracy                           0.83      2322\n",
      "   macro avg       0.83      0.83      0.83      2322\n",
      "weighted avg       0.83      0.83      0.83      2322\n",
      "\n"
     ]
    }
   ],
   "source": [
    "print(classification_report(adbo_p3,y2_te))"
   ]
  },
  {
   "cell_type": "code",
   "execution_count": 329,
   "id": "960db27c",
   "metadata": {},
   "outputs": [
    {
     "data": {
      "text/plain": [
       "0.7596314907872697"
      ]
     },
     "execution_count": 329,
     "metadata": {},
     "output_type": "execute_result"
    }
   ],
   "source": [
    "#tpr=tp/(tp+fn)\n",
    "tpr22=907/(907+287)\n",
    "tpr22"
   ]
  },
  {
   "cell_type": "code",
   "execution_count": 330,
   "id": "238adc04",
   "metadata": {},
   "outputs": [
    {
     "data": {
      "text/plain": [
       "0.10106382978723404"
      ]
     },
     "execution_count": 330,
     "metadata": {},
     "output_type": "execute_result"
    }
   ],
   "source": [
    "#fpr=fp/(fp+tn)\n",
    "fpr22=114/(114+1014)\n",
    "fpr22"
   ]
  },
  {
   "cell_type": "code",
   "execution_count": 331,
   "id": "0282554d",
   "metadata": {},
   "outputs": [
    {
     "data": {
      "text/plain": [
       "0.8883447600391773"
      ]
     },
     "execution_count": 331,
     "metadata": {},
     "output_type": "execute_result"
    }
   ],
   "source": [
    "#precision=tp/(tp+fp)\n",
    "precesion22=907/(907+114)\n",
    "precesion22"
   ]
  },
  {
   "cell_type": "code",
   "execution_count": 332,
   "id": "efb34e08",
   "metadata": {},
   "outputs": [
    {
     "data": {
      "text/plain": [
       "0.8982765648098018"
      ]
     },
     "execution_count": 332,
     "metadata": {},
     "output_type": "execute_result"
    }
   ],
   "source": [
    "#f1score=2(precesion*recall)/(precision+recall)\n",
    "f1score22=(2*(precesion22*tpr20))/(precesion20+tpr20)\n",
    "f1score22"
   ]
  },
  {
   "cell_type": "markdown",
   "id": "6fcc1bb8",
   "metadata": {},
   "source": [
    "# xgboost"
   ]
  },
  {
   "cell_type": "code",
   "execution_count": 333,
   "id": "c53dd55f",
   "metadata": {},
   "outputs": [],
   "source": [
    "from xgboost import XGBClassifier\n",
    "xgb=XGBClassifier()"
   ]
  },
  {
   "cell_type": "code",
   "execution_count": 334,
   "id": "4b885958",
   "metadata": {},
   "outputs": [
    {
     "data": {
      "text/html": [
       "<style>#sk-container-id-25 {color: black;}#sk-container-id-25 pre{padding: 0;}#sk-container-id-25 div.sk-toggleable {background-color: white;}#sk-container-id-25 label.sk-toggleable__label {cursor: pointer;display: block;width: 100%;margin-bottom: 0;padding: 0.3em;box-sizing: border-box;text-align: center;}#sk-container-id-25 label.sk-toggleable__label-arrow:before {content: \"▸\";float: left;margin-right: 0.25em;color: #696969;}#sk-container-id-25 label.sk-toggleable__label-arrow:hover:before {color: black;}#sk-container-id-25 div.sk-estimator:hover label.sk-toggleable__label-arrow:before {color: black;}#sk-container-id-25 div.sk-toggleable__content {max-height: 0;max-width: 0;overflow: hidden;text-align: left;background-color: #f0f8ff;}#sk-container-id-25 div.sk-toggleable__content pre {margin: 0.2em;color: black;border-radius: 0.25em;background-color: #f0f8ff;}#sk-container-id-25 input.sk-toggleable__control:checked~div.sk-toggleable__content {max-height: 200px;max-width: 100%;overflow: auto;}#sk-container-id-25 input.sk-toggleable__control:checked~label.sk-toggleable__label-arrow:before {content: \"▾\";}#sk-container-id-25 div.sk-estimator input.sk-toggleable__control:checked~label.sk-toggleable__label {background-color: #d4ebff;}#sk-container-id-25 div.sk-label input.sk-toggleable__control:checked~label.sk-toggleable__label {background-color: #d4ebff;}#sk-container-id-25 input.sk-hidden--visually {border: 0;clip: rect(1px 1px 1px 1px);clip: rect(1px, 1px, 1px, 1px);height: 1px;margin: -1px;overflow: hidden;padding: 0;position: absolute;width: 1px;}#sk-container-id-25 div.sk-estimator {font-family: monospace;background-color: #f0f8ff;border: 1px dotted black;border-radius: 0.25em;box-sizing: border-box;margin-bottom: 0.5em;}#sk-container-id-25 div.sk-estimator:hover {background-color: #d4ebff;}#sk-container-id-25 div.sk-parallel-item::after {content: \"\";width: 100%;border-bottom: 1px solid gray;flex-grow: 1;}#sk-container-id-25 div.sk-label:hover label.sk-toggleable__label {background-color: #d4ebff;}#sk-container-id-25 div.sk-serial::before {content: \"\";position: absolute;border-left: 1px solid gray;box-sizing: border-box;top: 0;bottom: 0;left: 50%;z-index: 0;}#sk-container-id-25 div.sk-serial {display: flex;flex-direction: column;align-items: center;background-color: white;padding-right: 0.2em;padding-left: 0.2em;position: relative;}#sk-container-id-25 div.sk-item {position: relative;z-index: 1;}#sk-container-id-25 div.sk-parallel {display: flex;align-items: stretch;justify-content: center;background-color: white;position: relative;}#sk-container-id-25 div.sk-item::before, #sk-container-id-25 div.sk-parallel-item::before {content: \"\";position: absolute;border-left: 1px solid gray;box-sizing: border-box;top: 0;bottom: 0;left: 50%;z-index: -1;}#sk-container-id-25 div.sk-parallel-item {display: flex;flex-direction: column;z-index: 1;position: relative;background-color: white;}#sk-container-id-25 div.sk-parallel-item:first-child::after {align-self: flex-end;width: 50%;}#sk-container-id-25 div.sk-parallel-item:last-child::after {align-self: flex-start;width: 50%;}#sk-container-id-25 div.sk-parallel-item:only-child::after {width: 0;}#sk-container-id-25 div.sk-dashed-wrapped {border: 1px dashed gray;margin: 0 0.4em 0.5em 0.4em;box-sizing: border-box;padding-bottom: 0.4em;background-color: white;}#sk-container-id-25 div.sk-label label {font-family: monospace;font-weight: bold;display: inline-block;line-height: 1.2em;}#sk-container-id-25 div.sk-label-container {text-align: center;}#sk-container-id-25 div.sk-container {/* jupyter's `normalize.less` sets `[hidden] { display: none; }` but bootstrap.min.css set `[hidden] { display: none !important; }` so we also need the `!important` here to be able to override the default hidden behavior on the sphinx rendered scikit-learn.org. See: https://github.com/scikit-learn/scikit-learn/issues/21755 */display: inline-block !important;position: relative;}#sk-container-id-25 div.sk-text-repr-fallback {display: none;}</style><div id=\"sk-container-id-25\" class=\"sk-top-container\"><div class=\"sk-text-repr-fallback\"><pre>XGBClassifier(base_score=None, booster=None, callbacks=None,\n",
       "              colsample_bylevel=None, colsample_bynode=None,\n",
       "              colsample_bytree=None, device=None, early_stopping_rounds=None,\n",
       "              enable_categorical=False, eval_metric=None, feature_types=None,\n",
       "              gamma=None, grow_policy=None, importance_type=None,\n",
       "              interaction_constraints=None, learning_rate=None, max_bin=None,\n",
       "              max_cat_threshold=None, max_cat_to_onehot=None,\n",
       "              max_delta_step=None, max_depth=None, max_leaves=None,\n",
       "              min_child_weight=None, missing=nan, monotone_constraints=None,\n",
       "              multi_strategy=None, n_estimators=None, n_jobs=None,\n",
       "              num_parallel_tree=None, random_state=None, ...)</pre><b>In a Jupyter environment, please rerun this cell to show the HTML representation or trust the notebook. <br />On GitHub, the HTML representation is unable to render, please try loading this page with nbviewer.org.</b></div><div class=\"sk-container\" hidden><div class=\"sk-item\"><div class=\"sk-estimator sk-toggleable\"><input class=\"sk-toggleable__control sk-hidden--visually\" id=\"sk-estimator-id-33\" type=\"checkbox\" checked><label for=\"sk-estimator-id-33\" class=\"sk-toggleable__label sk-toggleable__label-arrow\">XGBClassifier</label><div class=\"sk-toggleable__content\"><pre>XGBClassifier(base_score=None, booster=None, callbacks=None,\n",
       "              colsample_bylevel=None, colsample_bynode=None,\n",
       "              colsample_bytree=None, device=None, early_stopping_rounds=None,\n",
       "              enable_categorical=False, eval_metric=None, feature_types=None,\n",
       "              gamma=None, grow_policy=None, importance_type=None,\n",
       "              interaction_constraints=None, learning_rate=None, max_bin=None,\n",
       "              max_cat_threshold=None, max_cat_to_onehot=None,\n",
       "              max_delta_step=None, max_depth=None, max_leaves=None,\n",
       "              min_child_weight=None, missing=nan, monotone_constraints=None,\n",
       "              multi_strategy=None, n_estimators=None, n_jobs=None,\n",
       "              num_parallel_tree=None, random_state=None, ...)</pre></div></div></div></div></div>"
      ],
      "text/plain": [
       "XGBClassifier(base_score=None, booster=None, callbacks=None,\n",
       "              colsample_bylevel=None, colsample_bynode=None,\n",
       "              colsample_bytree=None, device=None, early_stopping_rounds=None,\n",
       "              enable_categorical=False, eval_metric=None, feature_types=None,\n",
       "              gamma=None, grow_policy=None, importance_type=None,\n",
       "              interaction_constraints=None, learning_rate=None, max_bin=None,\n",
       "              max_cat_threshold=None, max_cat_to_onehot=None,\n",
       "              max_delta_step=None, max_depth=None, max_leaves=None,\n",
       "              min_child_weight=None, missing=nan, monotone_constraints=None,\n",
       "              multi_strategy=None, n_estimators=None, n_jobs=None,\n",
       "              num_parallel_tree=None, random_state=None, ...)"
      ]
     },
     "execution_count": 334,
     "metadata": {},
     "output_type": "execute_result"
    }
   ],
   "source": [
    "xgb.fit(x2_tr,y2_tr)"
   ]
  },
  {
   "cell_type": "code",
   "execution_count": 335,
   "id": "243d6bd8",
   "metadata": {},
   "outputs": [],
   "source": [
    "xgb_p3=xgb.predict(x2_te)"
   ]
  },
  {
   "cell_type": "code",
   "execution_count": 336,
   "id": "62cc421d",
   "metadata": {},
   "outputs": [
    {
     "data": {
      "text/plain": [
       "array([[942, 158],\n",
       "       [252, 970]], dtype=int64)"
      ]
     },
     "execution_count": 336,
     "metadata": {},
     "output_type": "execute_result"
    }
   ],
   "source": [
    "xgb_m3=confusion_matrix(xgb_p3,y2_te)\n",
    "xgb_m3"
   ]
  },
  {
   "cell_type": "code",
   "execution_count": 337,
   "id": "55492000",
   "metadata": {},
   "outputs": [
    {
     "data": {
      "text/plain": [
       "82.34280792420327"
      ]
     },
     "execution_count": 337,
     "metadata": {},
     "output_type": "execute_result"
    }
   ],
   "source": [
    "xgb_acc3=xgb_m3.diagonal().sum()/xgb_m3.sum()*100\n",
    "xgb_acc3"
   ]
  },
  {
   "cell_type": "code",
   "execution_count": 338,
   "id": "21c843fa",
   "metadata": {},
   "outputs": [
    {
     "name": "stdout",
     "output_type": "stream",
     "text": [
      "              precision    recall  f1-score   support\n",
      "\n",
      "           0       0.79      0.86      0.82      1100\n",
      "           1       0.86      0.79      0.83      1222\n",
      "\n",
      "    accuracy                           0.82      2322\n",
      "   macro avg       0.82      0.83      0.82      2322\n",
      "weighted avg       0.83      0.82      0.82      2322\n",
      "\n"
     ]
    }
   ],
   "source": [
    "print(classification_report(xgb_p3,y2_te))"
   ]
  },
  {
   "cell_type": "code",
   "execution_count": 339,
   "id": "3d9295b5",
   "metadata": {},
   "outputs": [
    {
     "data": {
      "text/plain": [
       "0.822986577181208"
      ]
     },
     "execution_count": 339,
     "metadata": {},
     "output_type": "execute_result"
    }
   ],
   "source": [
    "#tpr=tp/(tp+fn)\n",
    "tpr23=981/(981+211)\n",
    "tpr23"
   ]
  },
  {
   "cell_type": "code",
   "execution_count": 340,
   "id": "1cd49951",
   "metadata": {},
   "outputs": [
    {
     "data": {
      "text/plain": [
       "0.2957920792079208"
      ]
     },
     "execution_count": 340,
     "metadata": {},
     "output_type": "execute_result"
    }
   ],
   "source": [
    "#fpr=fp/(fp+tn)\n",
    "fpr23=239/(239+569)\n",
    "fpr23"
   ]
  },
  {
   "cell_type": "code",
   "execution_count": 341,
   "id": "e39a9d22",
   "metadata": {},
   "outputs": [
    {
     "data": {
      "text/plain": [
       "0.8040983606557377"
      ]
     },
     "execution_count": 341,
     "metadata": {},
     "output_type": "execute_result"
    }
   ],
   "source": [
    "#precision=tp/(tp+fp)\n",
    "precesion23=981/(981+239)\n",
    "precesion23"
   ]
  },
  {
   "cell_type": "code",
   "execution_count": 342,
   "id": "15186b1f",
   "metadata": {},
   "outputs": [
    {
     "data": {
      "text/plain": [
       "0.8134328358208954"
      ]
     },
     "execution_count": 342,
     "metadata": {},
     "output_type": "execute_result"
    }
   ],
   "source": [
    "#f1score=2(precesion*recall)/(precision+recall)\n",
    "f1score23=(2*(precesion23*tpr23))/(precesion23+tpr23)\n",
    "f1score23"
   ]
  },
  {
   "cell_type": "code",
   "execution_count": 343,
   "id": "6247db1d",
   "metadata": {},
   "outputs": [],
   "source": [
    "#DF-3\n",
    "l1=[\"log\",\"dt\",\"rf\",\"nb\",\"svc\",\"knn\",\"adaboost\",\"xgboost\"]\n",
    "l2=[lg_acc3,dt_acc3,rf_acc3,nb_acc3,svc_acc3,knn_acc3,adbo_acc3,xgb_acc3]\n",
    "l3=[fpr14,fpr15,fpr16,fpr17,fpr18,fpr19,fpr20,fpr21]\n",
    "l4=[tpr14,tpr15,tpr16,tpr17,tpr18,tpr19,tpr20,tpr21]\n",
    "l5=[f1score14,f1score15,f1score16,f1score17,f1score18,f1score19,f1score20,f1score21]"
   ]
  },
  {
   "cell_type": "code",
   "execution_count": 344,
   "id": "b96467e2",
   "metadata": {},
   "outputs": [
    {
     "data": {
      "text/html": [
       "<div>\n",
       "<style scoped>\n",
       "    .dataframe tbody tr th:only-of-type {\n",
       "        vertical-align: middle;\n",
       "    }\n",
       "\n",
       "    .dataframe tbody tr th {\n",
       "        vertical-align: top;\n",
       "    }\n",
       "\n",
       "    .dataframe thead th {\n",
       "        text-align: right;\n",
       "    }\n",
       "</style>\n",
       "<table border=\"1\" class=\"dataframe\">\n",
       "  <thead>\n",
       "    <tr style=\"text-align: right;\">\n",
       "      <th></th>\n",
       "      <th>Model_Name</th>\n",
       "      <th>accuracy</th>\n",
       "      <th>fpr</th>\n",
       "      <th>tpr</th>\n",
       "      <th>f1score</th>\n",
       "    </tr>\n",
       "  </thead>\n",
       "  <tbody>\n",
       "    <tr>\n",
       "      <th>0</th>\n",
       "      <td>log</td>\n",
       "      <td>78.552972</td>\n",
       "      <td>0.283416</td>\n",
       "      <td>0.838926</td>\n",
       "      <td>0.826105</td>\n",
       "    </tr>\n",
       "    <tr>\n",
       "      <th>1</th>\n",
       "      <td>dt</td>\n",
       "      <td>82.515073</td>\n",
       "      <td>0.284653</td>\n",
       "      <td>0.827181</td>\n",
       "      <td>0.818937</td>\n",
       "    </tr>\n",
       "    <tr>\n",
       "      <th>2</th>\n",
       "      <td>rf</td>\n",
       "      <td>86.046512</td>\n",
       "      <td>0.187943</td>\n",
       "      <td>0.768007</td>\n",
       "      <td>0.789496</td>\n",
       "    </tr>\n",
       "    <tr>\n",
       "      <th>3</th>\n",
       "      <td>nb</td>\n",
       "      <td>62.747631</td>\n",
       "      <td>0.105496</td>\n",
       "      <td>0.747069</td>\n",
       "      <td>0.809070</td>\n",
       "    </tr>\n",
       "    <tr>\n",
       "      <th>4</th>\n",
       "      <td>svc</td>\n",
       "      <td>78.122308</td>\n",
       "      <td>0.086879</td>\n",
       "      <td>0.817420</td>\n",
       "      <td>0.860670</td>\n",
       "    </tr>\n",
       "    <tr>\n",
       "      <th>5</th>\n",
       "      <td>knn</td>\n",
       "      <td>77.519380</td>\n",
       "      <td>0.330674</td>\n",
       "      <td>0.588777</td>\n",
       "      <td>0.619383</td>\n",
       "    </tr>\n",
       "    <tr>\n",
       "      <th>6</th>\n",
       "      <td>adaboost</td>\n",
       "      <td>82.644272</td>\n",
       "      <td>0.231383</td>\n",
       "      <td>0.804020</td>\n",
       "      <td>0.795031</td>\n",
       "    </tr>\n",
       "    <tr>\n",
       "      <th>7</th>\n",
       "      <td>xgboost</td>\n",
       "      <td>82.342808</td>\n",
       "      <td>0.290842</td>\n",
       "      <td>0.747069</td>\n",
       "      <td>0.619383</td>\n",
       "    </tr>\n",
       "  </tbody>\n",
       "</table>\n",
       "</div>"
      ],
      "text/plain": [
       "  Model_Name   accuracy       fpr       tpr   f1score\n",
       "0        log  78.552972  0.283416  0.838926  0.826105\n",
       "1         dt  82.515073  0.284653  0.827181  0.818937\n",
       "2         rf  86.046512  0.187943  0.768007  0.789496\n",
       "3         nb  62.747631  0.105496  0.747069  0.809070\n",
       "4        svc  78.122308  0.086879  0.817420  0.860670\n",
       "5        knn  77.519380  0.330674  0.588777  0.619383\n",
       "6   adaboost  82.644272  0.231383  0.804020  0.795031\n",
       "7    xgboost  82.342808  0.290842  0.747069  0.619383"
      ]
     },
     "execution_count": 344,
     "metadata": {},
     "output_type": "execute_result"
    }
   ],
   "source": [
    "final=pd.DataFrame({\"Model_Name\":l1,\"accuracy\":l2,\"fpr\":l3,\"tpr\":l4,\"f1score\":l5})\n",
    "final"
   ]
  },
  {
   "cell_type": "raw",
   "id": "3baa6215",
   "metadata": {},
   "source": [
    "the random forest (rf) model achieved the highest accuracy at 84.969854 and also had a relatively low false positive rate (fpr) of 0.271040 and tpr 0.829698"
   ]
  }
 ],
 "metadata": {
  "kernelspec": {
   "display_name": "Python 3 (ipykernel)",
   "language": "python",
   "name": "python3"
  },
  "language_info": {
   "codemirror_mode": {
    "name": "ipython",
    "version": 3
   },
   "file_extension": ".py",
   "mimetype": "text/x-python",
   "name": "python",
   "nbconvert_exporter": "python",
   "pygments_lexer": "ipython3",
   "version": "3.11.5"
  }
 },
 "nbformat": 4,
 "nbformat_minor": 5
}
